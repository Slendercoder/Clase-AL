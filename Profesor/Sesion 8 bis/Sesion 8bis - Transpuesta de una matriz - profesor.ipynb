{
 "cells": [
  {
   "cell_type": "markdown",
   "metadata": {},
   "source": [
    "<table>\n",
    "    <tr>\n",
    "        <td><img src=\"./img/Macc.png\" width=\"400\"/></td>\n",
    "        <td>&nbsp;</td>\n",
    "        <td>\n",
    "            <h1 style=\"color:blue;text-align:left\">Álgebra Lineal</h1></td>\n",
    "        <td>\n",
    "            <table><tr>\n",
    "            <tp><p style=\"font-size:150%;text-align:center\">Sesión 8</p></tp>\n",
    "            <tp><p style=\"font-size:150%;text-align:center\">Transpuesta de una matriz y permutaciones</p></tp>\n",
    "            </tr></table>\n",
    "        </td>\n",
    "    </tr>\n",
    "</table>\n",
    "\n",
    "---"
   ]
  },
  {
   "cell_type": "markdown",
   "metadata": {},
   "source": [
    "## Objetivos\n",
    "\n",
    "* Comprender y encontrar la transpuesta de una matriz.\n",
    "* Comprender el concepto de matriz simétrica.\n",
    "* Comprender las matrices de permutación.\n",
    "* Comprender la idea general de la factorización LU con intercambios de filas.\n",
    "\n",
    "Adaptado de Strang (2009), capítulo 2, sección 2.7."
   ]
  },
  {
   "cell_type": "markdown",
   "metadata": {},
   "source": [
    "## Matriz transpuesta\n",
    "\n",
    "El concepto de matriz transpuesta es muy sencillo. Dada una matriz $A$, su transpuesta, denotada por $A^T$ es cambiar filas por columnas. Es decir, $(A^T)_{ij}=A_{ji}$. Por ejemplo\n",
    "\n",
    "$$\n",
    "A=\\begin{bmatrix}\n",
    "1 & 2 & 3\\\\\n",
    "0 & 0 & 4\n",
    "\\end{bmatrix}\\qquad\\qquad A^T=\\begin{bmatrix}\n",
    "1 & 0\\\\\n",
    "2 & 0\\\\\n",
    "3 & 4\n",
    "\\end{bmatrix}\n",
    "$$\n",
    "\n",
    "Observe que se sigue de la definición que $(A^T)^T=A$."
   ]
  },
  {
   "cell_type": "markdown",
   "metadata": {},
   "source": [
    "**Ejercicio 1:**\n",
    "\n",
    "Compruebe las siguientes propiedades de la transpuesta usando las matrices $A$ y $B$ propuestas más abajo:\n",
    "\n",
    "* $(A+B)^T=A^T + B^T$\n",
    "* $(AB)^T=B^TA^T$\n",
    "* $(A^{-1})^T=(A^T)^{-1}$\n",
    "\n",
    "$$\n",
    "A=\\begin{bmatrix}\n",
    "1 & 0\\\\\n",
    "1 & 1\n",
    "\\end{bmatrix}\\qquad\\qquad B=\\begin{bmatrix}\n",
    "5 & 0\\\\\n",
    "9 & 1\\\\\n",
    "\\end{bmatrix}\n",
    "$$\n",
    "\n",
    "**Nota:** Si usa numpy, puede usar la función `np.linalg.inv(A)` para encontrar la inversa de $A$."
   ]
  },
  {
   "cell_type": "markdown",
   "metadata": {},
   "source": [
    "**Respuesta:**\n",
    "\n",
    "Usamos numpy:"
   ]
  },
  {
   "cell_type": "code",
   "execution_count": 1,
   "metadata": {},
   "outputs": [
    {
     "name": "stdout",
     "output_type": "stream",
     "text": [
      "[[ 6 10]\n",
      " [ 0  2]]\n",
      "[[ 6 10]\n",
      " [ 0  2]]\n",
      "True\n",
      "[[ 5 14]\n",
      " [ 0  1]]\n",
      "[[ 5 14]\n",
      " [ 0  1]]\n",
      "True\n",
      "[[ 1. -1.]\n",
      " [ 0.  1.]]\n",
      "[[ 1. -1.]\n",
      " [ 0.  1.]]\n",
      "True\n"
     ]
    }
   ],
   "source": [
    "import numpy as np\n",
    "\n",
    "A = np.matrix([[1,0], [1,1]])\n",
    "B = np.matrix([[5,0], [9,1]])\n",
    "\n",
    "# Sobre la suma\n",
    "print((A + B).T)\n",
    "print(A.T + B.T)\n",
    "print(np.all((A + B).T == A.T + B.T))\n",
    "\n",
    "# Sobre el producto\n",
    "print((A*B).T)\n",
    "print(B.T * A.T)\n",
    "print(np.all((A * B).T == B.T * A.T))\n",
    "\n",
    "# Sobre la inversa\n",
    "print(np.linalg.inv(A).T)\n",
    "print(np.linalg.inv(A.T))\n",
    "print(np.all(np.linalg.inv(A).T == np.linalg.inv(A.T)))\n"
   ]
  },
  {
   "cell_type": "markdown",
   "metadata": {},
   "source": [
    "## Matrices simétricas\n",
    "\n",
    "Una matriz $A$ es simétrica si, y solo si, $A^T=A$. Por ejemplo:\n",
    "\n",
    "$$\n",
    "A = \\begin{bmatrix}\n",
    "2 & 7\\\\\n",
    "7 & 3\n",
    "\\end{bmatrix}\\qquad\\qquad A^T = \\begin{bmatrix}\n",
    "2 & 7\\\\\n",
    "7 & 3\n",
    "\\end{bmatrix}\n",
    "$$\n",
    "\n",
    "**Nota 1:** Observe que toda matriz diagonal (elementos distintos de cero solo en la diagonal) es también simétrica.\n",
    "\n",
    "**Nota 2:** Para cualquier matriz $R$, el producto $RR^T$ es una matriz simétrica."
   ]
  },
  {
   "cell_type": "markdown",
   "metadata": {},
   "source": [
    "**Ejercicio 2:**\n",
    "\n",
    "Compruebe que $RR^T$ y $R^TR$ son matrices simetricas:\n",
    "\n",
    "$$\n",
    "R = \\begin{bmatrix}\n",
    "-1 & 1 & 0\\\\\n",
    "0 & -1 & 1\n",
    "\\end{bmatrix}\n",
    "$$"
   ]
  },
  {
   "cell_type": "markdown",
   "metadata": {},
   "source": [
    "**Respuesta:**\n",
    "\n",
    "Usamos numpy:"
   ]
  },
  {
   "cell_type": "code",
   "execution_count": 2,
   "metadata": {},
   "outputs": [
    {
     "name": "stdout",
     "output_type": "stream",
     "text": [
      "[[ 2 -1]\n",
      " [-1  2]]\n",
      "True\n",
      "[[ 1 -1  0]\n",
      " [-1  2 -1]\n",
      " [ 0 -1  1]]\n",
      "True\n"
     ]
    }
   ],
   "source": [
    "R = np.matrix([[-1,1,0], [0,-1,1]])\n",
    "\n",
    "# Comprobamos para RRT\n",
    "print(R*R.T)\n",
    "print(np.all(R*R.T == (R*R.T).T))\n",
    "\n",
    "# Comprobamos para RTR\n",
    "print(R.T*R)\n",
    "print(np.all(R.T*R == (R.T*R).T))"
   ]
  },
  {
   "cell_type": "markdown",
   "metadata": {},
   "source": [
    "## Factorización LU de matrices simétricas\n",
    "\n",
    "Cuando $A$ es una matriz simétrica, su factorización $LU$ tiene una propiadad importante. La matriz triangular superior $U$ se puede ver como $DL^T$, donde $D$ es una matriz diagonal con los valores de la diagonal de $U$. Por ejemplo,\n",
    "\n",
    "$$\n",
    "A = \\begin{bmatrix}\n",
    "1 & 4 & 5\\\\\n",
    "4 & 2 & 6\\\\\n",
    "5 & 6 & 3\n",
    "\\end{bmatrix} = \\begin{bmatrix}\n",
    "1 & 0 & 0\\\\\n",
    "4 & 1 & 0\\\\\n",
    "5 & 1 & 1\n",
    "\\end{bmatrix}\\begin{bmatrix}\n",
    "1 & 4 & 5\\\\\n",
    "0 & -14 & -14\\\\\n",
    "0 & 0 & -8\n",
    "\\end{bmatrix}\n",
    "$$\n",
    "\n",
    "Pero observe que \n",
    "\n",
    "$$\n",
    "\\begin{bmatrix}\n",
    "1 & 4 & 5\\\\\n",
    "0 & -14 & -14\\\\\n",
    "0 & 0 & -8\n",
    "\\end{bmatrix} = \\begin{bmatrix}\n",
    "1 & 0 & 0\\\\\n",
    "0 & -14 & 0\\\\\n",
    "0 & 0 & -8\n",
    "\\end{bmatrix}\\begin{bmatrix}\n",
    "1 & 4 & 5\\\\\n",
    "0 & 1 & 1\\\\\n",
    "0 & 0 & 1\n",
    "\\end{bmatrix}\n",
    "$$\n",
    "\n",
    "Por lo tanto,\n",
    "\n",
    "$$\n",
    "A = \\begin{bmatrix}\n",
    "1 & 4 & 5\\\\\n",
    "4 & 2 & 6\\\\\n",
    "5 & 6 & 3\n",
    "\\end{bmatrix} = \\begin{bmatrix}\n",
    "1 & 0 & 0\\\\\n",
    "4 & 1 & 0\\\\\n",
    "5 & 1 & 1\n",
    "\\end{bmatrix}\\begin{bmatrix}\n",
    "1 & 0 & 0\\\\\n",
    "0 & -14 & 0\\\\\n",
    "0 & 0 & -8\n",
    "\\end{bmatrix}\\begin{bmatrix}\n",
    "1 & 4 & 5\\\\\n",
    "0 & 1 & 1\\\\\n",
    "0 & 0 & 1\n",
    "\\end{bmatrix} = LDL^T\n",
    "$$"
   ]
  },
  {
   "cell_type": "markdown",
   "metadata": {},
   "source": [
    "## Matrices de permutación\n",
    "\n",
    "Como mencionamos en el notebook 5, las matrices de permutación tienen la misión de intercambiar las filas de una matriz. Si quiero intercambiar la primera y la tercera filas de una matriz, la correspondiente matriz de multiplicación se obtiene al intercambiar la primera y la tercera filas de la matriz identidad:\n",
    "\n",
    "$$\n",
    "I = \\begin{bmatrix}\n",
    "1 & 0 & 0\\\\\n",
    "0 & 1 & 0\\\\\n",
    "0 & 0 & 1\n",
    "\\end{bmatrix}\\qquad P_{31} = \\begin{bmatrix}\n",
    "0 & 0 & 1\\\\\n",
    "0 & 1 & 0\\\\\n",
    "1 & 0 & 0\\\\\n",
    "\\end{bmatrix}\n",
    "$$\n",
    "\n",
    "Pero hay más matrices de permutación que sólo aquellas que intercambian dos filas. Puede haber matrices que intercambian tres filas. Por ejemplo, la siguiente matriz intercambia la primera fila por la segunda, la segunda por la tercera, la tercera por la primera:\n",
    "\n",
    "$$\n",
    "P_{32}P_{21} = \\begin{bmatrix}\n",
    "0 & 1 & 0\\\\\n",
    "0 & 0 & 1\\\\\n",
    "1 & 0 & 0\\\\\n",
    "\\end{bmatrix}\n",
    "$$\n",
    "\n",
    "**Nota 1:** Observe que el producto de matrices de permutación también es una matriz de permutación.\n",
    "\n",
    "**Nota 2:** Si consideramos matrices de dimensiones $n\\times n$, podemos hacer $n!$ permutaciones de filas. Esto implica que hay igual cantidad de matrices de permutación. \n",
    "\n",
    "**Nota 3:** Si $P$ es una matriz de permutación, entonces $P^{-1}$ también es una matriz de permutación.\n",
    "\n",
    "**Nota 4:** Si $P$ es una matriz de permutación, entonces $P^{-1}=P^T$."
   ]
  },
  {
   "cell_type": "markdown",
   "metadata": {},
   "source": [
    "**Ejercicio 3:**\n",
    "\n",
    "Compruebe la propiedad de la nota 3 para $P_{31}$ y $P_{32}P_{21}$."
   ]
  },
  {
   "cell_type": "markdown",
   "metadata": {},
   "source": [
    "**Respuesta:**"
   ]
  },
  {
   "cell_type": "code",
   "execution_count": 20,
   "metadata": {},
   "outputs": [
    {
     "name": "stdout",
     "output_type": "stream",
     "text": [
      "[[1 0 0]\n",
      " [0 1 0]\n",
      " [0 0 1]]\n",
      "[[1 0 0]\n",
      " [0 1 0]\n",
      " [0 0 1]]\n"
     ]
    }
   ],
   "source": [
    "P31 = np.matrix([[0,0,1], [0,1,0], [1,0,0]])\n",
    "print(P31*P31.T)\n",
    "\n",
    "P32P21 = np.matrix([[0,1,0], [0,0,1], [1,0,0]])\n",
    "print(P32P21*P32P21.T)"
   ]
  },
  {
   "cell_type": "markdown",
   "metadata": {},
   "source": [
    "## Factorización LU con intercambios de filas.\n",
    "\n",
    "Como vimos en el notebook 5, hay veces que es necesario hacer intercambios de filas para obtener un pivote. En términos de operaciones matriciales, es posible que la eliminación deba proceder $E_{i_1}\\ldots P_{j_1}\\ldots E_{i_r}\\ldots P_{j_s}\\ldots E_{i_t}A$ para obtener $U$. Sin embargo, es posible hacer todos los intercambios de filas antes de proceder con la eliminación, así $E_{i_1}\\ldots E_{i_t}P_{j_1}\\ldots P_{j_s}A=U$. Como el producto de matrices de permutación también es una matriz de permutación y $L=(E_{i_1}\\ldots E_{i_t})^{-1}$, podemos escribir la factorización $LU$ de $A$ así\n",
    "\n",
    "$$\n",
    "PA = LU\n",
    "$$"
   ]
  },
  {
   "cell_type": "markdown",
   "metadata": {},
   "source": [
    "**Ejercicio 4:**\n",
    "\n",
    "El paquete `scipy` contiene el módulo `scipy.linalg.lu` para hayar la factorización $LU$ con intercambio de filas. Utilice este módulo para encontrar la factorización de\n",
    "\n",
    "$$\n",
    "A = \\begin{bmatrix}\n",
    "0 & 0 & 6\\\\\n",
    "1 & 2 & 3\\\\\n",
    "0 & 4 & 5\n",
    "\\end{bmatrix}\n",
    "$$\n",
    "\n",
    "Observe que la matriz $P$ que devuelve el módulo es tal que $A = PLU$ y que es necesario convertir las salidas $P$, $L$ y $U$ en `np.matrix` para poder hacer la multiplicación."
   ]
  },
  {
   "cell_type": "markdown",
   "metadata": {},
   "source": [
    "**Respuesta:**"
   ]
  },
  {
   "cell_type": "code",
   "execution_count": 42,
   "metadata": {},
   "outputs": [
    {
     "name": "stdout",
     "output_type": "stream",
     "text": [
      "P=\n",
      " [[0. 0. 1.]\n",
      " [1. 0. 0.]\n",
      " [0. 1. 0.]]\n",
      "L=\n",
      " [[1. 0. 0.]\n",
      " [0. 1. 0.]\n",
      " [0. 0. 1.]]\n",
      "U=\n",
      " [[1. 2. 3.]\n",
      " [0. 4. 5.]\n",
      " [0. 0. 6.]]\n",
      "**********\n",
      "[[0. 0. 6.]\n",
      " [1. 2. 3.]\n",
      " [0. 4. 5.]]\n"
     ]
    }
   ],
   "source": [
    "import scipy\n",
    "\n",
    "A = np.matrix([[0,0,6], [1,2,3], [0,4,5]])\n",
    "P, L, U = scipy.linalg.lu(A)\n",
    "\n",
    "P = np.matrix(P)\n",
    "L = np.matrix(L)\n",
    "U = np.matrix(U)\n",
    "\n",
    "print(\"P=\\n\", P)\n",
    "print(\"L=\\n\", L)\n",
    "print(\"U=\\n\", U)\n",
    "\n",
    "print(\"*\"*10)\n",
    "print(P*L*U)"
   ]
  },
  {
   "cell_type": "markdown",
   "metadata": {},
   "source": [
    "## Ejercicios"
   ]
  },
  {
   "cell_type": "markdown",
   "metadata": {},
   "source": [
    "**Ejercicio 5:**\n",
    "\n",
    "Encuentre $A^T$, $A^{-1}$, $(A^{-1})^T$ y $(A^T)^{-1}$ para \n",
    "\n",
    "* $A=\\begin{bmatrix}\n",
    "1 & 0\\\\\n",
    "9 & 3\n",
    "\\end{bmatrix}$\n",
    "* $A=\\begin{bmatrix}\n",
    "1 & c\\\\\n",
    "c & 0\n",
    "\\end{bmatrix}$\n"
   ]
  },
  {
   "cell_type": "markdown",
   "metadata": {},
   "source": [
    "**Ejercicio 6:**\n",
    "\n",
    "¿A qué es igual $((AB)^{-1})^T$ en términos de $(A^{-1})^T$ y $(B^{-1})^T$?"
   ]
  },
  {
   "cell_type": "markdown",
   "metadata": {},
   "source": [
    "**Ejercicio 7:**\n",
    "\n",
    "Muestre que $A^2=0$ es posible pero que $A^TA=0$ no lo es, a menos que $A$ sea la matriz 0."
   ]
  },
  {
   "cell_type": "markdown",
   "metadata": {},
   "source": [
    "**Ejercicio 8:**\n",
    "\n",
    "¿Cuál es la transpuesta de una matriz por bloques $M=\\begin{bmatrix}A&B\\\\C&D\\end{bmatrix}$?\n",
    "\n",
    "¿Bajo qué condiciones sobre las matrices $A$, $B$, $C$ y $D$ es $M$ una matriz simétrica?"
   ]
  },
  {
   "cell_type": "markdown",
   "metadata": {},
   "source": [
    "## Revisión de las ideas principales\n",
    "\n",
    "* La transpuesta pone las filas de $A$ en las columnas de $A^T$, es decir, $(A^T)_{ij}=A_{ij}$.\n",
    "\n",
    "* La transpuesta de $AB$ es $B^TA^T$. La transpuesta de $A^{-1}$ es la inversa de $A^T$.\n",
    "\n",
    "* El producto punto es $\\pmb{x}\\cdot\\pmb{y}=\\pmb{x}^T\\pmb{y}$. Así, $(A\\pmb{x})^T\\pmb{y}$ es igual al producto $\\pmb{x}^T(A^T\\pmb{y})$.\n",
    "\n",
    "* Cuando $A$ es simétrica, ($A^T=A$), su factorización $LDU$ es simétrica $A=LDL^T$.\n",
    "\n",
    "* Una matriz de permutación tiene un 1 en cada columna y cada fila, y $P^T=P^{-1}$.\n",
    "\n",
    "* Hay $n!$ matrices de permutación de tamaño $n$.\n",
    "\n",
    "* Si $A$ es invertible, entonces una permutación $P$ reordenará sus filas para que $PA=LU$.\n",
    "\n",
    "\n",
    "## Referencias\n",
    "\n",
    "- Strang, Gilbert (2009) *Introduction to Linear Algebra*, 4th Edition. Wellesley-Cambridge Press, 2009.\n"
   ]
  }
 ],
 "metadata": {
  "kernelspec": {
   "display_name": "Python 3",
   "language": "python",
   "name": "python3"
  },
  "language_info": {
   "codemirror_mode": {
    "name": "ipython",
    "version": 3
   },
   "file_extension": ".py",
   "mimetype": "text/x-python",
   "name": "python",
   "nbconvert_exporter": "python",
   "pygments_lexer": "ipython3",
   "version": "3.9.1"
  }
 },
 "nbformat": 4,
 "nbformat_minor": 4
}
