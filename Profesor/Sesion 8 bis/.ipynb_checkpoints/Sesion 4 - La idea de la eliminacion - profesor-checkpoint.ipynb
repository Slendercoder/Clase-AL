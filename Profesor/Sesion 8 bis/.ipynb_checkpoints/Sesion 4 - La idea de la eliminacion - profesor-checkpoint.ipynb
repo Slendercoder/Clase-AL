{
 "cells": [
  {
   "cell_type": "markdown",
   "metadata": {},
   "source": [
    "<table>\n",
    "    <tr>\n",
    "        <td><img src=\"./img/Macc.png\" width=\"400\"/></td>\n",
    "        <td>&nbsp;</td>\n",
    "        <td>\n",
    "            <h1 style=\"color:blue;text-align:left\">Álgebra Lineal</h1></td>\n",
    "        <td>\n",
    "            <table><tr>\n",
    "            <tp><p style=\"font-size:150%;text-align:center\">Sesión 4</p></tp>\n",
    "            <tp><p style=\"font-size:150%;text-align:center\">La idea de la eliminación</p></tp>\n",
    "            </tr></table>\n",
    "        </td>\n",
    "    </tr>\n",
    "</table>\n",
    "\n",
    "---"
   ]
  },
  {
   "cell_type": "markdown",
   "metadata": {},
   "source": [
    "## Objetivos\n",
    "\n",
    "1. Comprender la idea general de la solución de los sistemas de ecuaciones lineales mediante el método de eliminación.\n",
    "2. Enlistar los componentes esenciales del método de eliminación.\n",
    "\n",
    "Adaptado de Strang (2009), capítulo 1, sección 2.2.\n",
    "\n",
    "\n",
    "## Ejemplo de eliminación de un sistema 2x2\n",
    "\n",
    "Trabajaremos de nuevo con el siguiente ejemplo:\n",
    "\n",
    "$$\n",
    "\\begin{align*}\n",
    "x &- 2y = &1\\\\  \n",
    "3x &+ 2y = &11\\\\  \n",
    "\\end{align*}\n",
    "$$\n",
    "\n",
    "La operación básica de la eliminación es eliminar incógnitas de una ecuación mediante la sustración de múltipos de otra ecuación. En este ejemplo, al sustraer 3 veces la primera fila de la segunda se obtiene:\n",
    "\n",
    "$$\n",
    "\\begin{align*}\n",
    "x - &2y = &1\\\\  \n",
    " &8y = &8\\\\  \n",
    "\\end{align*}\n",
    "$$"
   ]
  },
  {
   "cell_type": "markdown",
   "metadata": {},
   "source": [
    "**Ejercicio 1:**\n",
    "\n",
    "* Dibuje la imagen fila del sistema inicial.\n",
    "* Dibuje la imagen fila del sistema después de la eliminación.\n",
    "* ¿Qué observa respecto a las líneas en ambos dibujos?"
   ]
  },
  {
   "cell_type": "code",
   "execution_count": 1,
   "metadata": {},
   "outputs": [],
   "source": [
    "from Algebra import *"
   ]
  },
  {
   "cell_type": "markdown",
   "metadata": {},
   "source": [
    "**Respuesta:**\n",
    "\n",
    "Dibujamos la imagen fila del sistema incial:"
   ]
  },
  {
   "cell_type": "code",
   "execution_count": 2,
   "metadata": {},
   "outputs": [
    {
     "data": {
      "image/png": "[encoded data removed]",
      "text/plain": [
       "<Figure size 339.84x480.96 with 1 Axes>"
      ]
     },
     "metadata": {
      "needs_background": "light"
     },
     "output_type": "display_data"
    }
   ],
   "source": [
    "EV = EspacioVectorial2D()\n",
    "# Asignando primera línea\n",
    "for x in [a*0.1 for a in range(50)]:\n",
    "    y = 1/2*x - 1/2\n",
    "    EV.asignar_vector(nombre=str(x)+'v', x=x, y=y, color='blue')\n",
    "# Asignando segunda línea\n",
    "for x in [a*0.1 for a in range(50)]:\n",
    "    y = -3/2*x + 11/2\n",
    "    EV.asignar_vector(nombre=str(x)+'w', x=x, y=y, color='blue')\n",
    "EV.puntos(0.8)    "
   ]
  },
  {
   "cell_type": "markdown",
   "metadata": {},
   "source": [
    "Dibujamos la imagen fila del sistema después de la eliminación:"
   ]
  },
  {
   "cell_type": "code",
   "execution_count": 3,
   "metadata": {},
   "outputs": [
    {
     "data": {
      "image/png": "[encoded data removed]",
      "text/plain": [
       "<Figure size 339.84x198.72 with 1 Axes>"
      ]
     },
     "metadata": {
      "needs_background": "light"
     },
     "output_type": "display_data"
    }
   ],
   "source": [
    "EV = EspacioVectorial2D()\n",
    "# Asignando primera línea\n",
    "for x in [a*0.1 for a in range(50)]:\n",
    "    y = 1/2*x - 1/2\n",
    "    EV.asignar_vector(nombre=str(x)+'v', x=x, y=y, color='blue')\n",
    "# Asignando segunda línea\n",
    "for x in [a*0.1 for a in range(50)]:\n",
    "    y = 1\n",
    "    EV.asignar_vector(nombre=str(x)+'w', x=x, y=y, color='blue')\n",
    "EV.puntos(0.8)  "
   ]
  },
  {
   "cell_type": "markdown",
   "metadata": {},
   "source": [
    "Una de las líneas cambió, pero el punto de intersección permanece igual."
   ]
  },
  {
   "cell_type": "markdown",
   "metadata": {},
   "source": [
    "**Ejercicio 2:**\n",
    "\n",
    "Considere el siguiente sistema:\n",
    "\n",
    "$$\n",
    "\\begin{align*}\n",
    "x &- 2y = &1\\\\  \n",
    "3x &- 6y = &11\\\\  \n",
    "\\end{align*}\n",
    "$$\n",
    "\n",
    "* Dibuje la imagen fila.\n",
    "* Dibuje la imagen columna."
   ]
  },
  {
   "cell_type": "markdown",
   "metadata": {},
   "source": [
    "**Respuesta:**\n",
    "\n",
    "Podemos dibujar la imagen fila del sistema así:"
   ]
  },
  {
   "cell_type": "code",
   "execution_count": 4,
   "metadata": {},
   "outputs": [
    {
     "data": {
      "image/png": "[encoded data removed]",
      "text/plain": [
       "<Figure size 339.84x275.52 with 1 Axes>"
      ]
     },
     "metadata": {
      "needs_background": "light"
     },
     "output_type": "display_data"
    }
   ],
   "source": [
    "EV = EspacioVectorial2D()\n",
    "# Asignando primera línea\n",
    "for x in [a*0.1 for a in range(50)]:\n",
    "    y = 1/2*x - 1/2\n",
    "    EV.asignar_vector(nombre=str(x)+'v', x=x, y=y, color='blue')\n",
    "# Asignando segunda línea\n",
    "for x in [a*0.1 for a in range(50)]:\n",
    "    y = 3/6*x - 11/6\n",
    "    EV.asignar_vector(nombre=str(x)+'w', x=x, y=y, color='blue')\n",
    "EV.puntos(0.8) "
   ]
  },
  {
   "cell_type": "markdown",
   "metadata": {},
   "source": [
    "Podemos dibujar la imagen columna así:"
   ]
  },
  {
   "cell_type": "code",
   "execution_count": 5,
   "metadata": {},
   "outputs": [
    {
     "data": {
      "image/png": "[encoded data removed]",
      "text/plain": [
       "<Figure size 432x288 with 1 Axes>"
      ]
     },
     "metadata": {
      "needs_background": "light"
     },
     "output_type": "display_data"
    }
   ],
   "source": [
    "EV = EspacioVectorial2D()\n",
    "EV.asignar_vector(nombre='v', x=1, y=3, color='blue')\n",
    "EV.asignar_vector(nombre='w', x=-2, y=-6, color='green')\n",
    "EV.asignar_vector(nombre='b', x=1, y=11, color='orange')\n",
    "EV.dibujar(0.4, ajustar=True)"
   ]
  },
  {
   "cell_type": "markdown",
   "metadata": {},
   "source": [
    "**Ejercicio 3:**\n",
    "\n",
    "Considere el siguiente sistema:\n",
    "\n",
    "$$\n",
    "\\begin{align*}\n",
    "x &- 2y = &1\\\\  \n",
    "3x &- 6y = &3\\\\  \n",
    "\\end{align*}\n",
    "$$\n",
    "\n",
    "* Dibuje la imagen columna."
   ]
  },
  {
   "cell_type": "markdown",
   "metadata": {},
   "source": [
    "**Respuesta:**\n",
    "\n",
    "La imagen columna se obtiene así:"
   ]
  },
  {
   "cell_type": "code",
   "execution_count": 6,
   "metadata": {},
   "outputs": [
    {
     "data": {
      "image/png": "[encoded data removed]",
      "text/plain": [
       "<Figure size 432x288 with 1 Axes>"
      ]
     },
     "metadata": {
      "needs_background": "light"
     },
     "output_type": "display_data"
    }
   ],
   "source": [
    "EV = EspacioVectorial2D()\n",
    "EV.asignar_vector(nombre='v', x=1, y=3, color='blue')\n",
    "EV.asignar_vector(nombre='w', x=-2, y=-6, color='green')\n",
    "EV.asignar_vector(nombre='b', x=1, y=3, color='orange')\n",
    "EV.dibujar(0.4, ajustar=True)"
   ]
  },
  {
   "cell_type": "markdown",
   "metadata": {},
   "source": [
    "**Ejercicio 4:**\n",
    "    \n",
    "Use la imagen columna para comprobar que el siguiente sistema de ecuaciones no tiene solución:\n",
    "\n",
    "$$\n",
    "\\begin{aligned}\n",
    "x &+ y &+ z = &7\\\\  \n",
    "x &+ y &- z = &5\\\\  \n",
    "-x &- y &+ z = &3\\\\  \n",
    "\\end{aligned}\n",
    "$$\n",
    "\n",
    "1. Encuentre los vectores $\\pmb{u}$, $\\pmb{v}$ y $\\pmb{w}$ que corresponden a las columnas del sistema y el vector $\\pmb{b}$ que corresponde al vector del lado derecho de la igualdad.\n",
    "2. Dibuje una gran cantidad de combinaciones lineales de los vectores $\\pmb{u}$, $\\pmb{v}$  y $\\pmb{w}$ usando un objeto `EspacioVectorial3D` y el método `puntos`.\n",
    "3. ¿Cómo se puede describir geométricamente esta colección de combinaciones lineales?\n",
    "4. Ahora incluya en el dibujo el vector $\\pmb{b}$.\n",
    "5. Analice por qué el sistema no tiene solución en términos de la disposición espacial entre las combinaciones lineales de los vectores $\\pmb{u}$, $\\pmb{v}$ y $\\pmb{w}$, por un lado, y el vector $\\pmb{b}$,  por el otro."
   ]
  },
  {
   "cell_type": "markdown",
   "metadata": {},
   "source": [
    "**Respuesta:**\n",
    "\n",
    "$\n",
    "\\pmb{u}=\\begin{bmatrix}\n",
    "1\\\\\n",
    "1\\\\\n",
    "-1\n",
    "\\end{bmatrix}\n",
    "$, $\n",
    "\\pmb{v}=\\begin{bmatrix}\n",
    "1\\\\\n",
    "1\\\\\n",
    "-1\n",
    "\\end{bmatrix}\n",
    "$, $\n",
    "\\pmb{w}=\\begin{bmatrix}\n",
    "1\\\\\n",
    "-1\\\\\n",
    "1\\end{bmatrix}\n",
    "$ y $\n",
    "\\pmb{b}=\\begin{bmatrix}\n",
    "7\\\\\n",
    "5\\\\\n",
    "3\n",
    "\\end{bmatrix}\n",
    "$\n",
    "\n",
    "Dibujamos muchas combinaciones lineales de $\\pmb{u}$, $\\pmb{v}$ y $\\pmb{w}$ mediante la herramienta `EspacioVectorial3D`:"
   ]
  },
  {
   "cell_type": "code",
   "execution_count": 16,
   "metadata": {},
   "outputs": [
    {
     "data": {
      "image/png": "[encoded data removed]",
      "text/plain": [
       "<Figure size 432x288 with 1 Axes>"
      ]
     },
     "metadata": {
      "needs_background": "light"
     },
     "output_type": "display_data"
    }
   ],
   "source": [
    "EV = EspacioVectorial3D()\n",
    "EV.asignar_vector(nombre='u', x=1, y=1, z=-1)\n",
    "EV.asignar_vector(nombre='v', x=1, y=1, z=-1)\n",
    "EV.asignar_vector(nombre='w', x=1, y=-1, z=1)\n",
    "EV.asignar_vector(nombre='b', x=7, y=5, z=3)\n",
    "u = EV.coordenadas('u')\n",
    "v = EV.coordenadas('v')\n",
    "w = EV.coordenadas('w')\n",
    "rango = [0.1*i for i in range(-10,10)]\n",
    "for c in rango:\n",
    "    for d in rango:\n",
    "        for e in rango:\n",
    "            comb = c*u + d*v + e*w\n",
    "            EV.asignar_vector(\n",
    "                nombre=str(c)+str(d)+str(e),\n",
    "                x=comb[0],\n",
    "                y=comb[1],\n",
    "                z=comb[2]\n",
    "            )\n",
    "EV.puntos(elevacion=10, angulo=10)"
   ]
  },
  {
   "cell_type": "markdown",
   "metadata": {},
   "source": [
    "Observe que las combinaciones lineales de $\\pmb{u}$, $\\pmb{v}$ y $\\pmb{w}$ generan un plano, y que el vector $\\pmb{b}$ no se encuentra sobre dicho plano. Por lo tanto, el sistema no tiene solución."
   ]
  },
  {
   "cell_type": "markdown",
   "metadata": {},
   "source": [
    "## Revisión de las ideas principales\n",
    "\n",
    "* Un sistema lineal ($A\\pmb{x}=\\pmb{b}$) se vuelve *triangular superior* ($U\\pmb{x}=\\pmb{b}$) después de hacerle eliminación.\n",
    "\n",
    "* La operación básica para la eliminación es sustraer $\\ell_{ij}$ veces la ecuación $j$ de la ecuación $i$, para que la entrada $(i,j)$ de la matriz se vuelva cero.\n",
    "\n",
    "* El *multiplicador* es $\\ell_{ij}=\\frac{\\mbox{entrada a eliminar en la fila $i$}}{\\mbox{pivote en la fila $j$}}$\n",
    "\n",
    "* Los pivotes  no pueden ser cero.\n",
    "\n",
    "* Un cero en la posición de un pivote puede solucionarse si hay un coeficiente distinto de cero debajo de él.\n",
    "\n",
    "* El sistema triangular superior se resuelve mediante sustitución hacia atrás, comenzando desde abajo.\n",
    "\n",
    "* Cuando la ruptura es permanente, el sistema no tiene solución o tiene infinitas soluciones. \n",
    "\n",
    "\n",
    "## Referencias\n",
    "\n",
    "- Strang, Gilbert (2009) *Introduction to Linear Algebra*, 4th Edition. Wellesley-Cambridge Press, 2009.\n"
   ]
  }
 ],
 "metadata": {
  "kernelspec": {
   "display_name": "Python 3",
   "language": "python",
   "name": "python3"
  },
  "language_info": {
   "codemirror_mode": {
    "name": "ipython",
    "version": 3
   },
   "file_extension": ".py",
   "mimetype": "text/x-python",
   "name": "python",
   "nbconvert_exporter": "python",
   "pygments_lexer": "ipython3",
   "version": "3.9.1"
  }
 },
 "nbformat": 4,
 "nbformat_minor": 4
}
