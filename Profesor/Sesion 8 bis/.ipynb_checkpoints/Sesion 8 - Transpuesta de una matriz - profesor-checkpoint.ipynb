{
 "cells": [
  {
   "cell_type": "markdown",
   "metadata": {},
   "source": [
    "<table>\n",
    "    <tr>\n",
    "        <td><img src=\"./img/Macc.png\" width=\"400\"/></td>\n",
    "        <td>&nbsp;</td>\n",
    "        <td>\n",
    "            <h1 style=\"color:blue;text-align:left\">Álgebra Lineal</h1></td>\n",
    "        <td>\n",
    "            <table><tr>\n",
    "            <tp><p style=\"font-size:150%;text-align:center\">Sesión 8</p></tp>\n",
    "            <tp><p style=\"font-size:150%;text-align:center\">Transpuesta de una matriz</p></tp>\n",
    "            </tr></table>\n",
    "        </td>\n",
    "    </tr>\n",
    "</table>\n",
    "\n",
    "---"
   ]
  },
  {
   "cell_type": "markdown",
   "metadata": {},
   "source": [
    "## Objetivos\n",
    "\n",
    "* Comprender la idea general de la factorización LU.\n",
    "* Encontrar la transpuesta de una matriz.\n",
    "* Comprender el concepto de matriz simétrica.\n",
    "\n",
    "Adaptado de Strang (2009), capítulo 2, secciones 2.6 y 2.7."
   ]
  },
  {
   "cell_type": "markdown",
   "metadata": {},
   "source": [
    "## Integrando todos los conceptos hasta ahora\n",
    "\n",
    "Es momento de juntar todo lo que hemos construido hasta ahora e integrarlo en una solución computacional para resolver sistemas de ecuaciones lineales.\n",
    "\n",
    "Recordemos que hemos visto cómo construir matrices de eliminación $E_{i_1},\\ldots, E_{i_s}$ de tal manera que $E_{i_1}\\ldots E_{i_s}A$ sea una matriz triangular superior $U$. Esto es, la eliminación consiste en transformar el sistema matricial\n",
    "\n",
    "$$\n",
    "A\\pmb{x}=\\pmb{b}\n",
    "$$\n",
    "\n",
    "en el sistema\n",
    "\n",
    "$$\n",
    "E_{i_1}\\ldots E_{i_s}A\\pmb{x}=E_{i_1}\\ldots E_{i_s}\\pmb{b}\n",
    "$$\n",
    "\n",
    "Observe que $E_{i_1}\\ldots E_{i_s}A=U$ (una matriz triangular superior) y llamemos a $E_{i_1}\\ldots E_{i_s}\\pmb{b}$ como $\\pmb{c}$. Así pues, el sistema $U\\pmb{x}=\\pmb{b}$ puede usarse para encontrar los valores de las incógnitas mediante sustitución hacia atrás.\n",
    "\n",
    "Por ejemplo, considere el siguiente sistema de ecuaciones:\n",
    "\n",
    "$$\n",
    "\\begin{align}\n",
    "x + 2y &= 5\\\\\n",
    "4x + 9y &= 21\n",
    "\\end{align}\n",
    "$$\n",
    "\n",
    "Su forma matricial es\n",
    "\n",
    "$$\n",
    "\\begin{bmatrix}\n",
    "1 & 2\\\\\n",
    "4 & 9\n",
    "\\end{bmatrix}\\begin{bmatrix}\n",
    "x\\\\\n",
    "y\n",
    "\\end{bmatrix} = \\begin{bmatrix}\n",
    "5\\\\\n",
    "21\n",
    "\\end{bmatrix}\n",
    "$$\n",
    "\n",
    "El método de eliminación gaussiana consiste en usar los pivotes de $A$ para eliminar los coeficientes de las filas inferiores, de tal manera que se obtenga una matriz triangular superior $U$. En nuestro ejemplo, tenemos $E_{21}A=U$\n",
    "\n",
    "$$\n",
    "\\begin{bmatrix}\n",
    "1 & 0\\\\\n",
    "-4 & 1\n",
    "\\end{bmatrix}\\begin{bmatrix}\n",
    "1 & 2\\\\\n",
    "4 & 9\n",
    "\\end{bmatrix} = \\begin{bmatrix}\n",
    "1 & 2\\\\\n",
    "0 & 1\n",
    "\\end{bmatrix}\n",
    "$$\n",
    "\n",
    "donde $E_{21}=\\begin{bmatrix}\n",
    "1 & 0\\\\\n",
    "-4 & 1\n",
    "\\end{bmatrix}$ y $U=\\begin{bmatrix}\n",
    "1 & 2\\\\\n",
    "0 & 1\n",
    "\\end{bmatrix}$.\n",
    "\n",
    "En el lado derecho de la ecuación funciona igual, en donde obtenemos $E_{21}\\pmb{b}=\\pmb{c}$\n",
    "\n",
    "$$\n",
    "\\begin{bmatrix}\n",
    "1 & 0\\\\\n",
    "-4 & 1\n",
    "\\end{bmatrix}\\begin{bmatrix}\n",
    "5\\\\\n",
    "21\n",
    "\\end{bmatrix} = \\begin{bmatrix}\n",
    "5\\\\\n",
    "1\n",
    "\\end{bmatrix}\n",
    "$$\n"
   ]
  },
  {
   "cell_type": "markdown",
   "metadata": {},
   "source": [
    "## Sustitución hacia atrás\n",
    "\n",
    "\n",
    "Comenzaremos primero automatizando el final, es decir, una vez transformada la matriz original $A$ en una matriz triangular superior $U$, procedemos a hacer la sustitución hacia atrás para encontrar el valor de cada incógnita. Veámos esto en nuestro ejemplo.\n",
    "\n",
    "Tenemos \n",
    "\n",
    "$$\\begin{bmatrix}\n",
    "1 & 2\\\\\n",
    "0 & 1\n",
    "\\end{bmatrix}\\begin{bmatrix}\n",
    "x\\\\\n",
    "y\n",
    "\\end{bmatrix} = \\begin{bmatrix}\n",
    "5\\\\\n",
    "1\n",
    "\\end{bmatrix}\n",
    "$$\n",
    "\n",
    "de donde obtenemos $y=1$ y \n",
    "\n",
    "$$\n",
    "x = \\frac{\\stackrel{\\stackrel{\\mbox{primer elemento de $\\pmb{c}$}}{\\downarrow}}{5} - \\stackrel{\\stackrel{\\mbox{elemento $(1,2)$ de $U$}}{\\downarrow}}{2}*\\stackrel{\\stackrel{\\mbox{$y$}}{\\downarrow}}{1}}{\\stackrel{1}{\\stackrel{\\uparrow}{\\mbox{primer pivote}}}}=3\n",
    "$$\n",
    "\n",
    "El siguiente código permite encontrar las soluciones dado un sistema triangular $U\\pmb{x}=\\pmb{c}$:"
   ]
  },
  {
   "cell_type": "code",
   "execution_count": 3,
   "metadata": {},
   "outputs": [],
   "source": [
    "import numpy as np\n",
    "\n",
    "def sustitucion_atras(U, c) :\n",
    "    n, n = U.shape\n",
    "    solucion = [np.nan] * n # Inicializamos el vector solución\n",
    "    for k in range(n-1, -1, -1) : # Para cada k desde n hasta 1\n",
    "        ck = c.item(k) # valor del elemento k-esimo del vector c\n",
    "        t = 0 # Inicializamos la suma de elementos U(k,j) multiplicados por las soluciones j-ésimas\n",
    "        for j in range(k + 1, n) : # para cada j desde k+1 hasta n\n",
    "            t += U.item((k,j)) * solucion[j] # valor del elemento U(k,j) por solución j-ésima\n",
    "        solucion[k] = (ck - t)/U.item(k,k) # solución k-ésima es despeje de fila k-ésima\n",
    "    return np.matrix([solucion]).T"
   ]
  },
  {
   "cell_type": "markdown",
   "metadata": {},
   "source": [
    "Verificamos con nuestro ejemplo:"
   ]
  },
  {
   "cell_type": "code",
   "execution_count": 4,
   "metadata": {},
   "outputs": [
    {
     "data": {
      "text/plain": [
       "matrix([[3.],\n",
       "        [1.]])"
      ]
     },
     "execution_count": 4,
     "metadata": {},
     "output_type": "execute_result"
    }
   ],
   "source": [
    "U = np.matrix([[1,2], [0,1]])\n",
    "c = np.matrix([[5], [1]])\n",
    "sustitucion_atras(U, c)"
   ]
  },
  {
   "cell_type": "markdown",
   "metadata": {},
   "source": [
    "## Propiedades de las matrices triangulares inferiores\n",
    "\n",
    "**Multiplicación**\n",
    "\n",
    "Veámos ahora un par de propiedades importantes de las matrices triangulares inferiores. Suponga que $A$ y $B$ son las siguientes matrices:\n",
    "\n",
    "$$\n",
    "A=\\begin{bmatrix}\n",
    "1 & 0 & 0 & 0 \\\\\n",
    "3 & 2 & 0 & 0 \\\\\n",
    "2 & -1 & 3 & 0 \\\\\n",
    "1 & 3 & 3 & 4 \\\\\n",
    "\\end{bmatrix}\\qquad B = \\begin{bmatrix}\n",
    "1 & 0 & 0 & 0 \\\\\n",
    "2 & 1 & 0 & 0 \\\\\n",
    "1 & 2 & 1 & 0 \\\\\n",
    "2 & 3 & 2 & 4 \\\\\n",
    "\\end{bmatrix}\n",
    "$$\n",
    "\n",
    "Observe que $AB$ también es triangular inferior (ver ejercicio 3 del notebook 6):\n",
    "\n",
    "$$\n",
    "AB=\\begin{bmatrix}\n",
    "1 & 0 & 0 & 0 \\\\\n",
    "7 & 2 & 0 & 0 \\\\\n",
    "3 & 5 & 3 & 0 \\\\\n",
    "18 & 21 & 11 & 16 \\\\\n",
    "\\end{bmatrix}\n",
    "$$\n",
    "\n",
    "Esto ocurre con todas las matrices triangulares inferiores: su multiplicación también es una matriz triangular inferior."
   ]
  },
  {
   "cell_type": "markdown",
   "metadata": {},
   "source": [
    "**Inversa**\n",
    "\n",
    "Lo mismo ocurre con las inversas de matrices triangulares inferiores. Suponga que $A$ es la siguiente matriz:\n",
    "\n",
    "$$\n",
    "A=\\begin{bmatrix}\n",
    "1 & 0 & 0\\\\\n",
    "3 & 1 & 0\\\\\n",
    "4 & 5 & 1\n",
    "\\end{bmatrix}\n",
    "$$\n",
    "\n",
    "Entonces su inversa es (ver ejercicio 2 del notebook 7):\n",
    "\n",
    "$$\n",
    "A^{-1}=\\begin{bmatrix}\n",
    "1 & 0 & 0\\\\\n",
    "-3 & 1 & 0\\\\\n",
    "11 & -5 & 1\n",
    "\\end{bmatrix}\n",
    "$$\n",
    "\n",
    "Observe que $A^{-1}$ también es triangular inferior. Esto ocurre con todas las matrices triangulares inferiores: su inversa también es una matriz triangular inferior."
   ]
  },
  {
   "cell_type": "markdown",
   "metadata": {},
   "source": [
    "## Factorización LU\n",
    "\n",
    "Observe que para resolver el sistema $A\\pmb{x}=\\pmb{b}$ usamos matrices de eliminación para que los pivotes eliminen a los coeficientes debajo de cada uno de ellos. Estas matrices de eliminación son matrices triangulares inferiores $E_{i_1},\\ldots, E_{i_s}$. Así pues, por las propiedades que acabamos de ver, su multiplicación también es una matriz triangular inferior, y su inversa también lo es. Esto es, $(E_{i_1}\\ldots E_{i_s})^{-1}$ es una matriz triangular inferior. Como teníamos que\n",
    "\n",
    "$$\n",
    "E_{i_1}\\ldots E_{i_s}A=U\n",
    "$$\n",
    "\n",
    "entonces tenemos que\n",
    "\n",
    "$$A=(E_{i_1}\\ldots E_{i_s})^{-1}U$$\n",
    "\n",
    "Si llamamos $(E_{i_1}\\ldots E_{i_s})^{-1}=L$, entonces obtenemos la factorización $LU$ de $A$\n",
    "\n",
    "$$A=LU$$\n",
    "\n",
    "donde $L$ es una matriz triangular inferior y $U$ es una matriz triangular superior.\n",
    "\n",
    "\n",
    "**Nota:** Esto se cumple para todas las matrices $A$ cuyo método de eliminación no requiera cambios de filas para disponer de pivotes. Más abajo volveremos sobre el caso general.\n",
    "\n",
    "**Ejemplo:**\n",
    "\n",
    "Por ejemplo, si $A=\\begin{bmatrix}\n",
    "1 & 2\\\\\n",
    "4 & 9\n",
    "\\end{bmatrix}$, entonces\n",
    "\n",
    "$$\n",
    "A = \\begin{bmatrix}\n",
    "1 & 0\\\\\n",
    "4 & 1\n",
    "\\end{bmatrix}\\begin{bmatrix}\n",
    "1 & 2\\\\\n",
    "0 & 1\n",
    "\\end{bmatrix} \n",
    "$$\n",
    "\n",
    "donde \n",
    "\n",
    "$$\n",
    "L=E_{21}^{-1}=\\left(\\begin{bmatrix}\n",
    "1 & 0\\\\\n",
    "-4 & 1\n",
    "\\end{bmatrix}\\right) = \\begin{bmatrix}\n",
    "1 & 0\\\\\n",
    "4 & 1\n",
    "\\end{bmatrix}\n",
    "$$\n"
   ]
  },
  {
   "cell_type": "markdown",
   "metadata": {},
   "source": [
    "**Ejemplo:**\n",
    "\n",
    "Para encontrar la factorización $LU$ de $A$, donde\n",
    "\n",
    "$$\n",
    "A=\\begin{bmatrix}\n",
    "2 & 3\\\\\n",
    "4 & 7\n",
    "\\end{bmatrix}\n",
    "$$\n",
    "\n",
    "Necesitamos usar el primer pivote 2 para eliminar el coeficiente debajo de él, 4. Para ello usamos la matriz\n",
    "\n",
    "$$\n",
    "E_{21}=\\begin{bmatrix}\n",
    "1 & 0\\\\\n",
    "-2 & 1\n",
    "\\end{bmatrix}\n",
    "$$"
   ]
  },
  {
   "cell_type": "code",
   "execution_count": null,
   "metadata": {},
   "outputs": [],
   "source": [
    "A = np.matrix([[2,3], [4,7]])\n",
    "E = np.matrix([[1,0], [-2, 1]])\n",
    "print(\"A=\\n\", A)\n",
    "print(\"E=\\n\", E)\n",
    "print(\"EA=\\n\", E*A)"
   ]
  },
  {
   "cell_type": "markdown",
   "metadata": {},
   "source": [
    "Encontramos que \n",
    "\n",
    "$$\n",
    "U=\\begin{bmatrix}\n",
    "2 & 3\\\\\n",
    "0 & 1\n",
    "\\end{bmatrix}\n",
    "$$\n",
    "\n",
    "y que \n",
    "\n",
    "$$\n",
    "L=E_{21}^{-1}=\\left(\\begin{bmatrix}\n",
    "1 & 0\\\\\n",
    "-2 & 1\n",
    "\\end{bmatrix}\\right) = \\begin{bmatrix}\n",
    "1 & 0\\\\\n",
    "2 & 1\n",
    "\\end{bmatrix}\n",
    "$$\n",
    "\n",
    "Luego \n",
    "\n",
    "$$\n",
    "A = LU = \\begin{bmatrix}\n",
    "1 & 0\\\\\n",
    "2 & 1\n",
    "\\end{bmatrix}\\begin{bmatrix}\n",
    "2 & 3\\\\\n",
    "0 & 1\n",
    "\\end{bmatrix}\n",
    "$$\n",
    "\n",
    "Verificamos mediante numpy:"
   ]
  },
  {
   "cell_type": "code",
   "execution_count": null,
   "metadata": {},
   "outputs": [],
   "source": [
    "L = np.matrix([[1,0], [2, 1]])\n",
    "U = np.matrix([[2,3], [0, 1]])\n",
    "print(\"L=\\n\", L)\n",
    "print(\"U=\\n\", U)\n",
    "print(\"LU=\\n\", L*U)\n",
    "print(\"LU=A?\\n\", L*U==A)"
   ]
  },
  {
   "cell_type": "markdown",
   "metadata": {},
   "source": [
    "**Ejemplo:**\n",
    "\n",
    "Encuentre la factorización $LU$ de\n",
    "\n",
    "$$\n",
    "A=\\begin{bmatrix}\n",
    "1 & 1 & 1 & 1\\\\\n",
    "1 & 2 & 3 & 4\\\\\n",
    "1 & 3 & 6 & 10\\\\\n",
    "1 & 4 & 10 & 20\\\\\n",
    "\\end{bmatrix}\n",
    "$$\n",
    "\n",
    "Dado que la primera columna es solo 1s, entonces las matrices de eliminación son:\n",
    "\n",
    "$$\n",
    "E_{21}=\\begin{bmatrix}\n",
    "1 & 0 & 0 & 0\\\\\n",
    "-1 & 1 & 0 & 0\\\\\n",
    "0 & 0 & 1 & 0\\\\\n",
    "0 & 0 & 0 & 1\\\\\n",
    "\\end{bmatrix}\\qquad E_{31}=\\begin{bmatrix}\n",
    "1 & 0 & 0 & 0\\\\\n",
    "0 & 1 & 0 & 0\\\\\n",
    "-1 & 0 & 1 & 0\\\\\n",
    "0 & 0 & 0 & 1\\\\\n",
    "\\end{bmatrix}\\qquad E_{41}=\\begin{bmatrix}\n",
    "1 & 0 & 0 & 0\\\\\n",
    "0 & 1 & 0 & 0\\\\\n",
    "0 & 0 & 1 & 0\\\\\n",
    "-1 & 0 & 0 & 1\\\\\n",
    "\\end{bmatrix} \n",
    "$$\n",
    "\n",
    "Observe cómo eliminamos los coeficientes debajo de la primera columna:"
   ]
  },
  {
   "cell_type": "code",
   "execution_count": null,
   "metadata": {},
   "outputs": [],
   "source": [
    "A = np.matrix([[1,1,1,1], [1,2,3,4], [1,3,6,10], [1,4,10,20]])\n",
    "E21 = np.matrix([[1,0,0,0], [-1,1,0,0], [0,0,1,0], [0,0,0,1]])\n",
    "E31 = np.matrix([[1,0,0,0], [0,1,0,0], [-1,0,1,0], [0,0,0,1]])\n",
    "E41 = np.matrix([[1,0,0,0], [0,1,0,0], [0,0,1,0], [-1,0,0,1]])\n",
    "E41*E31*E21*A"
   ]
  },
  {
   "cell_type": "markdown",
   "metadata": {},
   "source": [
    "Observe que es muy sencillo encontrar las inversas de $E_{21}$, $E_{31}$ y $E_{41}$:\n",
    "\n",
    "$$\n",
    "E_{21}^{-1}=\\begin{bmatrix}\n",
    "1 & 0 & 0 & 0\\\\\n",
    "1 & 1 & 0 & 0\\\\\n",
    "0 & 0 & 1 & 0\\\\\n",
    "0 & 0 & 0 & 1\\\\\n",
    "\\end{bmatrix}\\qquad E_{31}^{-1}=\\begin{bmatrix}\n",
    "1 & 0 & 0 & 0\\\\\n",
    "0 & 1 & 0 & 0\\\\\n",
    "1 & 0 & 1 & 0\\\\\n",
    "0 & 0 & 0 & 1\\\\\n",
    "\\end{bmatrix}\\qquad E_{41}^{-1}=\\begin{bmatrix}\n",
    "1 & 0 & 0 & 0\\\\\n",
    "0 & 1 & 0 & 0\\\\\n",
    "0 & 0 & 1 & 0\\\\\n",
    "1 & 0 & 0 & 1\\\\\n",
    "\\end{bmatrix} \n",
    "$$\n",
    "\n",
    "Con lo cual se puede obtener una matriz triangular inferior:"
   ]
  },
  {
   "cell_type": "code",
   "execution_count": null,
   "metadata": {},
   "outputs": [],
   "source": [
    "E21inv = np.matrix([[1,0,0,0], [1,1,0,0], [0,0,1,0], [0,0,0,1]])\n",
    "E31inv = np.matrix([[1,0,0,0], [0,1,0,0], [1,0,1,0], [0,0,0,1]])\n",
    "E41inv = np.matrix([[1,0,0,0], [0,1,0,0], [0,0,1,0], [1,0,0,1]])\n",
    "E21inv*E31inv*E41inv"
   ]
  },
  {
   "cell_type": "markdown",
   "metadata": {},
   "source": [
    "Esta todavía no es la $L$ que buscamos, pues no hemos terminado el proceso de eliminación."
   ]
  },
  {
   "cell_type": "markdown",
   "metadata": {},
   "source": [
    "**Ejercicio 1:**\n",
    "\n",
    "Complete el proceso de factorización $LU$ de $A$.\n",
    "\n",
    "**Nota:**\n",
    "Observe que $(E_{i_1}\\ldots E_{i_s})^{-1}=E_{i_s}^{-1}\\ldots E_{i_1}^{-1}$. Esto simplifica encontrar $L$."
   ]
  },
  {
   "cell_type": "markdown",
   "metadata": {},
   "source": [
    "**Respuesta:**\n",
    "\n",
    "Encontramos las matrices de eliminación de los coeficientes debajo del segundo pivote:"
   ]
  },
  {
   "cell_type": "code",
   "execution_count": null,
   "metadata": {},
   "outputs": [],
   "source": [
    "E32 = np.matrix([[1,0,0,0], [0,1,0,0], [0,-2,1,0], [0,0,0,1]])\n",
    "E42 = np.matrix([[1,0,0,0], [0,1,0,0], [0,0,1,0], [0,-3,0,1]])\n",
    "E42*E32*E41*E31*E21*A"
   ]
  },
  {
   "cell_type": "markdown",
   "metadata": {},
   "source": [
    "Encontramos la matriz para eliminar el coeficiente debajo del tercer pivote:"
   ]
  },
  {
   "cell_type": "code",
   "execution_count": null,
   "metadata": {},
   "outputs": [],
   "source": [
    "E43 = np.matrix([[1,0,0,0], [0,1,0,0], [0,0,1,0], [0,0,-3,1]])\n",
    "U = E43*E42*E32*E41*E31*E21*A\n",
    "print(\"U=\\n\", U)"
   ]
  },
  {
   "cell_type": "markdown",
   "metadata": {},
   "source": [
    "Encontramos las inversas de todas las matrices de eliminación:"
   ]
  },
  {
   "cell_type": "code",
   "execution_count": null,
   "metadata": {},
   "outputs": [],
   "source": [
    "E21inv = np.matrix([[1,0,0,0], [1,1,0,0], [0,0,1,0], [0,0,0,1]])\n",
    "E31inv = np.matrix([[1,0,0,0], [0,1,0,0], [1,0,1,0], [0,0,0,1]])\n",
    "E41inv = np.matrix([[1,0,0,0], [0,1,0,0], [0,0,1,0], [1,0,0,1]])\n",
    "E32inv = np.matrix([[1,0,0,0], [0,1,0,0], [0,2,1,0], [0,0,0,1]])\n",
    "E42inv = np.matrix([[1,0,0,0], [0,1,0,0], [0,0,1,0], [0,3,0,1]])\n",
    "E43inv = np.matrix([[1,0,0,0], [0,1,0,0], [0,0,1,0], [0,0,3,1]])\n",
    "L = E21inv*E31inv*E41inv*E32inv*E42inv*E43inv\n",
    "print(\"L=\\n\", L)"
   ]
  },
  {
   "cell_type": "code",
   "execution_count": null,
   "metadata": {},
   "outputs": [],
   "source": [
    "L*U"
   ]
  },
  {
   "cell_type": "code",
   "execution_count": null,
   "metadata": {},
   "outputs": [],
   "source": [
    "A==L*U"
   ]
  },
  {
   "cell_type": "markdown",
   "metadata": {},
   "source": [
    "---"
   ]
  },
  {
   "cell_type": "markdown",
   "metadata": {},
   "source": [
    "**Ejercicio 2$^*$:**\n",
    "\n",
    "Implemente un código para realizar de manera automática la factorización $LU$ de una matriz. Puede usar el siguiente pseudo-código para inspirarse:\n",
    "\n",
    "<img src=\"./img/pseudo-codigo.png\" width=\"auto\"/>"
   ]
  },
  {
   "cell_type": "markdown",
   "metadata": {},
   "source": [
    "## Resolver el sistema\n",
    "\n",
    "Observe que hasta ahora hemos buscado la factorización $LU$ de una matriz $A$. Todavía no hemos precisado cómo usar dicha factorización para resolver un sistema $A\\pmb{x}=\\pmb{b}$. En efecto, la factorización sólo habla de $A$, mas no involucra para nada a $\\pmb{b}$. Más que un defecto del procedimiento, esto es una virtud. Se determina cómo solucionar cualquier sistema independientemente de $\\pmb{b}$. Pero, ¿cómo involucramos a $\\pmb{b}$?\n",
    "\n",
    "Como mencionamos al comienzo, hemos transformado el sistema matricial\n",
    "\n",
    "$$\n",
    "A\\pmb{x}=\\pmb{b}\n",
    "$$\n",
    "\n",
    "en el sistema\n",
    "\n",
    "$$\n",
    "L^{-1}A\\pmb{x}=L^{-1}\\pmb{b}\n",
    "$$\n",
    "\n",
    "Esto es,\n",
    "\n",
    "$$\n",
    "U\\pmb{x}=\\pmb{c}\n",
    "$$\n",
    "\n",
    "donde $U=L^{-1}A$ y $\\pmb{c}=L^{-1}\\pmb{b}$.\n",
    "\n",
    "Ahora bien, observe que $L\\pmb{c}=\\pmb{b}$ y que $L$ es una matriz triangular inferior. Entonces podemos usar sustitución hacia adelante para obtener $\\pmb{c}$ y luego sustitución hacia atrás con $U\\pmb{x}=\\pmb{c}$ para obtener $\\pmb{x}$."
   ]
  },
  {
   "cell_type": "markdown",
   "metadata": {},
   "source": [
    "**Ejemplo:**\n",
    "\n",
    "Consideremos de nuevo el sistema\n",
    "\n",
    "$$\n",
    "\\begin{bmatrix}\n",
    "1 & 2\\\\\n",
    "4 & 9\n",
    "\\end{bmatrix}\\begin{bmatrix}\n",
    "x_1\\\\\n",
    "x_2\n",
    "\\end{bmatrix} = \\begin{bmatrix}\n",
    "5\\\\\n",
    "21\n",
    "\\end{bmatrix}\n",
    "$$\n",
    "\n",
    "La factorización $LU$ permite encontrar que\n",
    "\n",
    "$$\n",
    "A = \\begin{bmatrix}\n",
    "1 & 0\\\\\n",
    "4 & 1\n",
    "\\end{bmatrix}\\begin{bmatrix}\n",
    "1 & 2\\\\\n",
    "0 & 1\n",
    "\\end{bmatrix}\n",
    "$$\n",
    "\n",
    "donde $L=\\begin{bmatrix}\n",
    "1 & 0\\\\\n",
    "4 & 1\n",
    "\\end{bmatrix}$ y $U=\\begin{bmatrix}\n",
    "1 & 2\\\\\n",
    "0 & 1\n",
    "\\end{bmatrix}$.\n",
    "\n",
    "Resolvemos mediante sustitución hacia adelante el sistema $L\\pmb{c}=\\pmb{b}$:\n",
    "\n",
    "$$\n",
    "\\begin{bmatrix}\n",
    "1 & 0\\\\\n",
    "4 & 1\n",
    "\\end{bmatrix}\\begin{bmatrix}\n",
    "c_1\\\\\n",
    "c_2\n",
    "\\end{bmatrix} = \\begin{bmatrix}\n",
    "5\\\\\n",
    "21\n",
    "\\end{bmatrix}\n",
    "$$\n",
    "\n",
    "Se tiene que $c_1=5$ y que\n",
    "\n",
    "$$\n",
    "c_2 = \\frac{21 - 4*5}{1} = 1\n",
    "$$\n",
    "\n",
    "Así, $\\pmb{c}=\\begin{bmatrix}\n",
    "5\\\\\n",
    "1\n",
    "\\end{bmatrix}$.\n",
    "\n",
    "Ahora resolvemos mediante sustitución hacia atrás el sistema $U\\pmb{x}=\\pmb{c}$:\n",
    "\n",
    "$$\n",
    "\\begin{bmatrix}\n",
    "1 & 2\\\\\n",
    "0 & 1\n",
    "\\end{bmatrix}\\begin{bmatrix}\n",
    "x_1\\\\\n",
    "x_2\n",
    "\\end{bmatrix} = \\begin{bmatrix}\n",
    "5\\\\\n",
    "1\n",
    "\\end{bmatrix}\n",
    "$$\n",
    "\n",
    "Se tiene que $x_2=1$ y que\n",
    "\n",
    "$$\n",
    "x_1 = \\frac{5 - 2*1}{1} = 3\n",
    "$$\n",
    "\n",
    "Así, $\\pmb{x}=\\begin{bmatrix}\n",
    "3\\\\\n",
    "1\n",
    "\\end{bmatrix}$."
   ]
  },
  {
   "cell_type": "markdown",
   "metadata": {},
   "source": [
    "**Ejercicio 3$^*$:**\n",
    "\n",
    "Implemente un código para realizar de manera automática la sustitución hacia adelante."
   ]
  },
  {
   "cell_type": "markdown",
   "metadata": {},
   "source": [
    "**Respuesta:**\n",
    "\n",
    "Una posible implementación es la siguiente:"
   ]
  },
  {
   "cell_type": "code",
   "execution_count": 9,
   "metadata": {},
   "outputs": [],
   "source": [
    "def sustitucion_adelante(L, b) :\n",
    "    n, n = L.shape\n",
    "    solucion = [np.nan] * n # Inicializamos el vector solución\n",
    "    for k in range(n) : # Para cada k desde n hasta 1\n",
    "        bk = b.item(k) # valor del elemento k-esimo del vector b\n",
    "        s = 0 # Inicializamos la suma de elementos U(k,j) multiplicados por las soluciones j-ésimas\n",
    "        for j in range(k - 1) : # para cada j desde 1 hasta k-1\n",
    "            s += L.item((k,j)) * solucion[j] # valor del elemento U(k,j) por solución j-ésima\n",
    "        solucion[k] = (bk - s)/U.item(k,k) # solución k-ésima es despeje de fila k-ésima\n",
    "    return np.matrix([solucion]).T"
   ]
  },
  {
   "cell_type": "code",
   "execution_count": 10,
   "metadata": {},
   "outputs": [
    {
     "data": {
      "text/plain": [
       "matrix([[ 5.],\n",
       "        [21.]])"
      ]
     },
     "execution_count": 10,
     "metadata": {},
     "output_type": "execute_result"
    }
   ],
   "source": [
    "L = np.matrix([[1,0], [4,1]])\n",
    "U = np.matrix([[1,2], [0,1]])\n",
    "b = np.matrix([[5], [21]])\n",
    "c = sustitucion_adelante(L, b)\n",
    "c\n",
    "#sustitucion_atras(U, c)"
   ]
  },
  {
   "cell_type": "markdown",
   "metadata": {},
   "source": [
    "\n",
    "\n",
    "Para incluir el lado derecho $\\pmb{b}$ del sistema de ecuaciones, resolvemos $L\\pmb{c}=\\pmb{b}$ y luego $U\\pmb{x}=\\pmb{c}$.\n",
    "\n",
    "Algoritmo para la factorización $LU$.\n",
    "\n",
    "Matriz transpuesta\n",
    "\n",
    "Propiedades respecto a la suma, la multiplicación y la inversa\n",
    "\n",
    "Matrices simétricas\n",
    "\n",
    "Factorización $LU$ de matrices simétricas\n",
    "\n",
    "Factorización $LU$ con intercambio de filas\n"
   ]
  },
  {
   "cell_type": "code",
   "execution_count": null,
   "metadata": {},
   "outputs": [],
   "source": []
  },
  {
   "cell_type": "markdown",
   "metadata": {},
   "source": [
    "**Ejercicio 1:**\n",
    "\n",
    "Mediante numpy encuentre la multiplicación\n",
    "\n",
    "$$\n",
    "B = \\begin{bmatrix}\n",
    "1 & 0 & 0 \\\\\n",
    "0 & 1 & 0\\\\\n",
    "0 & 0 & \\frac{4}{3} \\\\\n",
    "\\end{bmatrix}\\begin{bmatrix}\n",
    "1 & 0 & 0 \\\\\n",
    "0 & \\frac{2}{3} & 0\\\\\n",
    "0 & 0 & 1 \\\\\n",
    "\\end{bmatrix}\\begin{bmatrix}\n",
    "\\frac{1}{2} & 0 & 0 \\\\\n",
    "0 & 1 & 0\\\\\n",
    "0 & 0 & 1 \\\\\n",
    "\\end{bmatrix}\\begin{bmatrix}\n",
    "1 & \\frac{2}{3} & 0 \\\\\n",
    "0 & 1 & 0\\\\\n",
    "0 & 0 & 1 \\\\\n",
    "\\end{bmatrix}\\begin{bmatrix}\n",
    "1 & 0 & 0 \\\\\n",
    "0 & 1 & \\frac{3}{4}\\\\\n",
    "0 & 0 & 1 \\\\\n",
    "\\end{bmatrix}\\begin{bmatrix}\n",
    "1 & 0 & 0 \\\\\n",
    "0 & 1 & 0\\\\\n",
    "0 & \\frac{2}{3} & 1 \\\\\n",
    "\\end{bmatrix}\\begin{bmatrix}\n",
    "1 & 0 & 0 \\\\\n",
    "\\frac{1}{2} & 1 & 0\\\\\n",
    "0 & 0 & 1 \\\\\n",
    "\\end{bmatrix}\n",
    "$$\n",
    "\n",
    "y compruebe que\n",
    "\n",
    "* $BA=I$\n",
    "* $AB=I$"
   ]
  },
  {
   "cell_type": "markdown",
   "metadata": {},
   "source": [
    "**Respuesta:**"
   ]
  },
  {
   "cell_type": "code",
   "execution_count": null,
   "metadata": {},
   "outputs": [],
   "source": [
    "import numpy as np"
   ]
  },
  {
   "cell_type": "code",
   "execution_count": null,
   "metadata": {},
   "outputs": [],
   "source": [
    "A = np.matrix([[2,-1,0], [-1,2,-1], [0,-1,2]])\n",
    "E7 = np.matrix([[1,0,0], [0,1,0], [0,0,3/4]])\n",
    "E6 = np.matrix([[1,0,0], [0,2/3,0], [0,0,1]])\n",
    "E5 = np.matrix([[1/2,0,0], [0,1,0], [0,0,1]])\n",
    "E4 = np.matrix([[1,2/3,0], [0,1,0], [0,0,1]])\n",
    "E3 = np.matrix([[1,0,0], [0,1,3/4], [0,0,1]])\n",
    "E2 = np.matrix([[1,0,0], [0,1,0], [0,2/3,1]])\n",
    "E1 = np.matrix([[1,0,0], [1/2,1,0], [0,0,1]])\n",
    "B = E7 * E6 * E5 * E4 * E3 * E2 * E1 \n",
    "print(\"B:\\n\", B)\n",
    "print(\"BA:\\n\", B*A)\n",
    "print(\"AB:\\n\", A*B)"
   ]
  },
  {
   "cell_type": "markdown",
   "metadata": {},
   "source": [
    "## Aplicar matrices de eliminación para encontrar la inversa\n",
    "\n",
    "Suponga que queremos encontrar la inversa de \n",
    "\n",
    "$$\n",
    "A=\\begin{bmatrix}\n",
    "2 & 3\\\\\n",
    "4 & 7\n",
    "\\end{bmatrix}\n",
    "$$ \n",
    "\n",
    "mediante el método de Gauss-Jordan. Lo primero que debemos hacer es poner la matriz en su forma $\\begin{bmatrix} A & I \\end{bmatrix}$:"
   ]
  },
  {
   "cell_type": "code",
   "execution_count": null,
   "metadata": {},
   "outputs": [],
   "source": [
    "M = np.matrix([[2,3,1,0], [4,7,0,1]])\n",
    "M"
   ]
  },
  {
   "cell_type": "markdown",
   "metadata": {},
   "source": [
    "Ahora buscamos matrices de eliminación para obtener $\\begin{bmatrix} I & A^{-1} \\end{bmatrix}$:"
   ]
  },
  {
   "cell_type": "code",
   "execution_count": null,
   "metadata": {},
   "outputs": [],
   "source": [
    "E1 = np.matrix([[1,0], [-2, 1]])\n",
    "E1"
   ]
  },
  {
   "cell_type": "code",
   "execution_count": null,
   "metadata": {},
   "outputs": [],
   "source": [
    "M = E1*M\n",
    "M"
   ]
  },
  {
   "cell_type": "markdown",
   "metadata": {},
   "source": [
    "Después de obtener una matriz triangular superior, debemos usar los pivotes para obtener una matriz diagonal:"
   ]
  },
  {
   "cell_type": "code",
   "execution_count": null,
   "metadata": {},
   "outputs": [],
   "source": [
    "E2 = np.matrix([[1,-3], [0, 1]])\n",
    "E2"
   ]
  },
  {
   "cell_type": "code",
   "execution_count": null,
   "metadata": {},
   "outputs": [],
   "source": [
    "M = E2*M\n",
    "M"
   ]
  },
  {
   "cell_type": "markdown",
   "metadata": {},
   "source": [
    "Ahora volvemos la diagonal 1:"
   ]
  },
  {
   "cell_type": "code",
   "execution_count": null,
   "metadata": {},
   "outputs": [],
   "source": [
    "E3 = np.matrix([[1/2,0], [0, 1]])\n",
    "E3"
   ]
  },
  {
   "cell_type": "code",
   "execution_count": null,
   "metadata": {},
   "outputs": [],
   "source": [
    "M = E3*M\n",
    "M"
   ]
  },
  {
   "cell_type": "markdown",
   "metadata": {},
   "source": [
    "Hemos obtenido la inversa en el lado derecho de la matriz aumentada.\n"
   ]
  },
  {
   "cell_type": "code",
   "execution_count": null,
   "metadata": {},
   "outputs": [],
   "source": [
    "B = M[:,2:]\n",
    "B"
   ]
  },
  {
   "cell_type": "markdown",
   "metadata": {},
   "source": [
    "También podemos obtenerla mediante la multiplicación $E_3E_2E_1$:"
   ]
  },
  {
   "cell_type": "code",
   "execution_count": null,
   "metadata": {},
   "outputs": [],
   "source": [
    "E3*E2*E1"
   ]
  },
  {
   "cell_type": "markdown",
   "metadata": {},
   "source": [
    "Comprobamos:"
   ]
  },
  {
   "cell_type": "code",
   "execution_count": null,
   "metadata": {},
   "outputs": [],
   "source": [
    "A = np.matrix([[2,3], [4,7]])\n",
    "print(\"BA:\\n\", B*A)\n",
    "print(\"AB:\\n\", A*B)"
   ]
  },
  {
   "cell_type": "markdown",
   "metadata": {},
   "source": [
    "**Ejercicio 2:**\n",
    "\n",
    "Use el método de Gauss-Jordan para encontrar la inversa de\n",
    "\n",
    "$$\n",
    "A=\\begin{bmatrix}\n",
    "1 & 0 & 0\\\\\n",
    "3 & 1 & 0\\\\\n",
    "4 & 5 & 1\n",
    "\\end{bmatrix}\n",
    "$$"
   ]
  },
  {
   "cell_type": "markdown",
   "metadata": {},
   "source": [
    "**Respuesta:**"
   ]
  },
  {
   "cell_type": "code",
   "execution_count": null,
   "metadata": {},
   "outputs": [],
   "source": [
    "M = np.matrix([[1,0,0,1,0,0], [3,1,0,0,1,0], [4,5,1,0,0,1]])\n",
    "M"
   ]
  },
  {
   "cell_type": "code",
   "execution_count": null,
   "metadata": {},
   "outputs": [],
   "source": [
    "E1 = np.matrix([[1,0,0], [-3,1,0], [0,0,1]])\n",
    "M = E1*M\n",
    "M"
   ]
  },
  {
   "cell_type": "code",
   "execution_count": null,
   "metadata": {},
   "outputs": [],
   "source": [
    "E2 = np.matrix([[1,0,0], [0,1,0], [-4,0,1]])\n",
    "M = E2*M\n",
    "M"
   ]
  },
  {
   "cell_type": "code",
   "execution_count": null,
   "metadata": {},
   "outputs": [],
   "source": [
    "E3 = np.matrix([[1,0,0], [0,1,0], [0,-5,1]])\n",
    "M = E3*M\n",
    "M"
   ]
  },
  {
   "cell_type": "code",
   "execution_count": null,
   "metadata": {},
   "outputs": [],
   "source": [
    "B = M[:,3:]\n",
    "B"
   ]
  },
  {
   "cell_type": "markdown",
   "metadata": {},
   "source": [
    "## Ejercicios"
   ]
  },
  {
   "cell_type": "markdown",
   "metadata": {},
   "source": [
    "**Ejercicio 3:**\n",
    "\n",
    "¿Cuáles de las siguientes matrices son invertibles?:\n",
    "\n",
    "* $\\begin{bmatrix}\n",
    "4 & 3\\\\\n",
    "8 & 6\n",
    "\\end{bmatrix}$\n",
    "* $\\begin{bmatrix}\n",
    "4 & 3\\\\\n",
    "8 & 7\n",
    "\\end{bmatrix}$\n",
    "* $\\begin{bmatrix}\n",
    "6 & 6\\\\\n",
    "6 & 0\n",
    "\\end{bmatrix}$\n",
    "* $\\begin{bmatrix}\n",
    "6 & 6\\\\\n",
    "6 & 6\n",
    "\\end{bmatrix}$\n",
    "* $\\begin{bmatrix}\n",
    "1 & 0 & 0\\\\\n",
    "1 & 1 & 0\\\\\n",
    "1 & 1 & 1\n",
    "\\end{bmatrix}$\n",
    "* $\\begin{bmatrix}\n",
    "1 & 1 & 1\\\\\n",
    "1 & 1 & 0\\\\\n",
    "1 & 1 & 1\n",
    "\\end{bmatrix}$\n"
   ]
  },
  {
   "cell_type": "markdown",
   "metadata": {},
   "source": [
    "**Ejercicio 4:**\n",
    "\n",
    "Mediante la fórmula de las diapositivas, encuentre las inversas de \n",
    "$$\n",
    "A = \\begin{bmatrix}\n",
    "0 & 3\\\\\n",
    "4 & 0\\\n",
    "\\end{bmatrix}\\qquad B = \\begin{bmatrix}\n",
    "2 & 0\\\\\n",
    "4 & 2\\\\\n",
    "\\end{bmatrix}\\qquad C = \\begin{bmatrix}\n",
    "3 & 4\\\\\n",
    "5 & 6\\\\\n",
    "\\end{bmatrix}\n",
    "$$\n"
   ]
  },
  {
   "cell_type": "markdown",
   "metadata": {},
   "source": [
    "**Ejercicio 5:**\n",
    "\n",
    "Para las siguientes matrices de permutación, encuentre $P^{-1}$:\n",
    "\n",
    "$$\n",
    "P = \\begin{bmatrix}\n",
    "0 & 0 & 1\\\\\n",
    "0 & 1 & 0\\\\\n",
    "1 & 0 & 0\n",
    "\\end{bmatrix}\\qquad P = \\begin{bmatrix}\n",
    "0 & 1 & 0\\\\\n",
    "0 & 0 & 1\\\\\n",
    "1 & 0 & 0\n",
    "\\end{bmatrix}\n",
    "$$"
   ]
  },
  {
   "cell_type": "markdown",
   "metadata": {},
   "source": [
    "**Ejercicio 6:**\n",
    "\n",
    "Encuentre una matriz triangular superior $U$ (que no sea diagonal) tal que $U^2=I$ y $U=U^{-1}$."
   ]
  },
  {
   "cell_type": "markdown",
   "metadata": {},
   "source": [
    "**Ejercicio 7:**\n",
    "\n",
    "Suponga que $A=\\begin{bmatrix}1&1\\\\ 1&1\\end{bmatrix}$. Encuentre dos matrices distintas $B$ y $C$ tales que $AB=AC$."
   ]
  },
  {
   "cell_type": "markdown",
   "metadata": {},
   "source": [
    "**Ejercicio 8:**\n",
    "\n",
    "Encuentre las inversas de\n",
    "\n",
    "$$\n",
    "A = \\begin{bmatrix}\n",
    "0 & 0 & 0 & 2\\\\\n",
    "0 & 0 & 3 & 0\\\\\n",
    "0 & 4 & 0 & 0\\\\\n",
    "5 & 0 & 0 & 0\n",
    "\\end{bmatrix}\\qquad B = \\begin{bmatrix}\n",
    "3 & 2 & 0 & 0\\\\\n",
    "4 & 3 & 0 & 0\\\\\n",
    "0 & 0 & 6 & 5\\\\\n",
    "0 & 0 & 7 & 6\n",
    "\\end{bmatrix}\n",
    "$$"
   ]
  },
  {
   "cell_type": "markdown",
   "metadata": {},
   "source": [
    "## Revisión de las ideas principales\n",
    "\n",
    "* La eliminación gaussiana (sin intercambio de filas) factoriza $A$ en $LU$.\n",
    "\n",
    "* La matriz triangular inferior $L$ contiene los multiplicadores $\\ell_{ij}$ que multiplican las filas pivote, para ir de $A$ a $U$. El producto $LU$ restituye esas filas para recuperar $A$.\n",
    "\n",
    "* Para incluir el lado derecho resolvemos $L\\pmb{c}=\\pmb{b}$ y $U\\pmb{x}=\\pmb{c}$.\n",
    "\n",
    "* La transpuesta pone las filas de $A$ en las columnas de $A^T$, es decir, $(A^T)_{ij}=A_{ij}$.\n",
    "\n",
    "* La transpuesta de $AB$ es $B^TA^T$. La transpuesta de $A^{-1}$ es la inversa de $A^T$.\n",
    "\n",
    "* El producto punto es $\\pmb{x}\\cdot\\pmb{y}=\\pmb{x}^T\\pmb{y}$. Así, $(A\\pmb{x})^T\\pmb{y}$ es igual al producto $\\pmb{x}^T(A^T\\pmb{y})$.\n",
    "\n",
    "* Cuando $A$ es simétrica, ($A^T=A$), su factorización $LDU$ es simétrica $A=LDL^T$.\n",
    "\n",
    "* Una matriz de permutación tiene un 1 en cada columna y cada fila, y $P^T=P^{-1}$.\n",
    "\n",
    "* Hay $n!$ matrices de permutación de tamaño $n$.\n",
    "\n",
    "* Si $A$ es invertible, entonces una permutación $P$ reordenará sus filas para que $PA=LU$.\n",
    "\n",
    "\n",
    "## Referencias\n",
    "\n",
    "- Strang, Gilbert (2009) *Introduction to Linear Algebra*, 4th Edition. Wellesley-Cambridge Press, 2009.\n"
   ]
  }
 ],
 "metadata": {
  "kernelspec": {
   "display_name": "Python 3",
   "language": "python",
   "name": "python3"
  },
  "language_info": {
   "codemirror_mode": {
    "name": "ipython",
    "version": 3
   },
   "file_extension": ".py",
   "mimetype": "text/x-python",
   "name": "python",
   "nbconvert_exporter": "python",
   "pygments_lexer": "ipython3",
   "version": "3.9.1"
  }
 },
 "nbformat": 4,
 "nbformat_minor": 4
}
