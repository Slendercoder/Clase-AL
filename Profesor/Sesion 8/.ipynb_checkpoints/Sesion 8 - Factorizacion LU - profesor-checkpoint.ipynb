{
 "cells": [
  {
   "cell_type": "markdown",
   "metadata": {},
   "source": [
    "<table>\n",
    "    <tr>\n",
    "        <td><img src=\"./img/Macc.png\" width=\"400\"/></td>\n",
    "        <td>&nbsp;</td>\n",
    "        <td>\n",
    "            <h1 style=\"color:blue;text-align:left\">Álgebra Lineal</h1></td>\n",
    "        <td>\n",
    "            <table><tr>\n",
    "            <tp><p style=\"font-size:150%;text-align:center\">Sesión 8</p></tp>\n",
    "            <tp><p style=\"font-size:150%;text-align:center\">Factorización LU</p></tp>\n",
    "            </tr></table>\n",
    "        </td>\n",
    "    </tr>\n",
    "</table>\n",
    "\n",
    "---"
   ]
  },
  {
   "cell_type": "markdown",
   "metadata": {},
   "source": [
    "## Objetivos\n",
    "\n",
    "* Comprender la idea general de la factorización LU.\n",
    "* Implementar los algoritmos principales de la factorización LU y las sustituciones hacia atrás y hacia adelante.\n",
    "\n",
    "Adaptado de Strang (2009), capítulo 2, sección 2.6."
   ]
  },
  {
   "cell_type": "markdown",
   "metadata": {},
   "source": [
    "## Integrando todos los conceptos hasta ahora\n",
    "\n",
    "Es momento de juntar todo lo que hemos construido hasta ahora e integrarlo en una solución computacional para resolver sistemas de ecuaciones lineales.\n",
    "\n",
    "Recordemos que hemos visto cómo construir matrices de eliminación $E_{i_1},\\ldots, E_{i_s}$ de tal manera que $E_{i_1}\\ldots E_{i_s}A$ sea una matriz triangular superior $U$. Esto es, la eliminación consiste en transformar el sistema matricial\n",
    "\n",
    "$$\n",
    "A\\pmb{x}=\\pmb{b}\n",
    "$$\n",
    "\n",
    "en el sistema\n",
    "\n",
    "$$\n",
    "E_{i_1}\\ldots E_{i_s}A\\pmb{x}=E_{i_1}\\ldots E_{i_s}\\pmb{b}\n",
    "$$\n",
    "\n",
    "Observe que $E_{i_1}\\ldots E_{i_s}A=U$ (una matriz triangular superior) y llamemos a $E_{i_1}\\ldots E_{i_s}\\pmb{b}$ como $\\pmb{c}$. Así pues, el sistema $U\\pmb{x}=\\pmb{b}$ puede usarse para encontrar los valores de las incógnitas mediante sustitución hacia atrás.\n",
    "\n",
    "**Nota:** Esto se cumple para todas las matrices $A$ cuyo método de eliminación no requiera cambios de filas para disponer de pivotes. Más adelante volveremos sobre el caso general.\n",
    "\n",
    "**Ejemplo:**\n",
    "\n",
    "Por ejemplo, considere el siguiente sistema de ecuaciones:\n",
    "\n",
    "$$\n",
    "\\begin{align}\n",
    "x + 2y &= 5\\\\\n",
    "4x + 9y &= 21\n",
    "\\end{align}\n",
    "$$\n",
    "\n",
    "Su forma matricial es\n",
    "\n",
    "$$\n",
    "\\begin{bmatrix}\n",
    "1 & 2\\\\\n",
    "4 & 9\n",
    "\\end{bmatrix}\\begin{bmatrix}\n",
    "x\\\\\n",
    "y\n",
    "\\end{bmatrix} = \\begin{bmatrix}\n",
    "5\\\\\n",
    "21\n",
    "\\end{bmatrix}\n",
    "$$\n",
    "\n",
    "El método de eliminación gaussiana consiste en usar los pivotes de $A$ para eliminar los coeficientes de las filas inferiores, de tal manera que se obtenga una matriz triangular superior $U$. En nuestro ejemplo, tenemos $E_{21}A=U$\n",
    "\n",
    "$$\n",
    "\\begin{bmatrix}\n",
    "1 & 0\\\\\n",
    "-4 & 1\n",
    "\\end{bmatrix}\\begin{bmatrix}\n",
    "1 & 2\\\\\n",
    "4 & 9\n",
    "\\end{bmatrix} = \\begin{bmatrix}\n",
    "1 & 2\\\\\n",
    "0 & 1\n",
    "\\end{bmatrix}\n",
    "$$\n",
    "\n",
    "donde $E_{21}=\\begin{bmatrix}\n",
    "1 & 0\\\\\n",
    "-4 & 1\n",
    "\\end{bmatrix}$ y $U=\\begin{bmatrix}\n",
    "1 & 2\\\\\n",
    "0 & 1\n",
    "\\end{bmatrix}$.\n",
    "\n",
    "En el lado derecho de la ecuación funciona igual, en donde obtenemos $E_{21}\\pmb{b}=\\pmb{c}$\n",
    "\n",
    "$$\n",
    "\\begin{bmatrix}\n",
    "1 & 0\\\\\n",
    "-4 & 1\n",
    "\\end{bmatrix}\\begin{bmatrix}\n",
    "5\\\\\n",
    "21\n",
    "\\end{bmatrix} = \\begin{bmatrix}\n",
    "5\\\\\n",
    "1\n",
    "\\end{bmatrix}\n",
    "$$\n"
   ]
  },
  {
   "cell_type": "markdown",
   "metadata": {},
   "source": [
    "## Sustitución hacia atrás\n",
    "\n",
    "\n",
    "Comenzaremos primero automatizando el final, es decir, una vez transformada la matriz original $A$ en una matriz triangular superior $U$, procedemos a hacer la sustitución hacia atrás para encontrar el valor de cada incógnita. Veámos esto en nuestro ejemplo.\n",
    "\n",
    "Tenemos \n",
    "\n",
    "$$\\begin{bmatrix}\n",
    "1 & 2\\\\\n",
    "0 & 1\n",
    "\\end{bmatrix}\\begin{bmatrix}\n",
    "x\\\\\n",
    "y\n",
    "\\end{bmatrix} = \\begin{bmatrix}\n",
    "5\\\\\n",
    "1\n",
    "\\end{bmatrix}\n",
    "$$\n",
    "\n",
    "de donde obtenemos $y=1$ y \n",
    "\n",
    "$$\n",
    "x = \\frac{\\stackrel{\\stackrel{\\mbox{primer elemento de $\\pmb{c}$}}{\\downarrow}}{5} - \\stackrel{\\stackrel{\\mbox{elemento $(1,2)$ de $U$}}{\\downarrow}}{2}*\\stackrel{\\stackrel{\\mbox{$y$}}{\\downarrow}}{1}}{\\stackrel{1}{\\stackrel{\\uparrow}{\\mbox{primer pivote}}}}=3\n",
    "$$\n",
    "\n",
    "El siguiente código permite encontrar las soluciones dado un sistema triangular $U\\pmb{x}=\\pmb{c}$:"
   ]
  },
  {
   "cell_type": "code",
   "execution_count": 1,
   "metadata": {},
   "outputs": [],
   "source": [
    "import numpy as np\n",
    "\n",
    "def sustitucion_atras(U, c) :\n",
    "    n, n = U.shape\n",
    "    solucion = [np.nan] * n # Inicializamos el vector solución\n",
    "    for k in range(n-1, -1, -1) : # Para cada k desde n hasta 1\n",
    "        ck = c.item(k) # valor del elemento k-esimo del vector c\n",
    "        t = 0 # Inicializamos la suma de elementos U(k,j) multiplicados por las soluciones j-ésimas\n",
    "        for j in range(k + 1, n) : # para cada j desde k+1 hasta n\n",
    "            t += U.item((k,j)) * solucion[j] # valor del elemento U(k,j) por solución j-ésima\n",
    "        solucion[k] = (ck - t)/U.item(k,k) # solución k-ésima es despeje de fila k-ésima\n",
    "        print(f\"{solucion[k]} = solucion[{k+1}] = (c{k+1} - t)/U({k+1},{k+1}) = ({ck} - {t}) / {U.item(k,k)}\")\n",
    "    return np.matrix([solucion]).T"
   ]
  },
  {
   "cell_type": "markdown",
   "metadata": {},
   "source": [
    "Verificamos con nuestro ejemplo:"
   ]
  },
  {
   "cell_type": "code",
   "execution_count": 2,
   "metadata": {},
   "outputs": [
    {
     "name": "stdout",
     "output_type": "stream",
     "text": [
      "1.0 = solucion[2] = (c2 - t)/U(2,2) = (1 - 0) / 1\n",
      "3.0 = solucion[1] = (c1 - t)/U(1,1) = (5 - 2.0) / 1\n"
     ]
    },
    {
     "data": {
      "text/plain": [
       "matrix([[3.],\n",
       "        [1.]])"
      ]
     },
     "execution_count": 2,
     "metadata": {},
     "output_type": "execute_result"
    }
   ],
   "source": [
    "U = np.matrix([[1,2], [0,1]])\n",
    "c = np.matrix([[5], [1]])\n",
    "sustitucion_atras(U, c)"
   ]
  },
  {
   "cell_type": "markdown",
   "metadata": {},
   "source": [
    "## Propiedades de las matrices triangulares inferiores\n",
    "\n",
    "**Multiplicación**\n",
    "\n",
    "Veámos ahora un par de propiedades importantes de las matrices triangulares inferiores. Suponga que $A$ y $B$ son las siguientes matrices:\n",
    "\n",
    "$$\n",
    "A=\\begin{bmatrix}\n",
    "1 & 0 & 0 & 0 \\\\\n",
    "3 & 2 & 0 & 0 \\\\\n",
    "2 & -1 & 3 & 0 \\\\\n",
    "1 & 3 & 3 & 4 \\\\\n",
    "\\end{bmatrix}\\qquad B = \\begin{bmatrix}\n",
    "1 & 0 & 0 & 0 \\\\\n",
    "2 & 1 & 0 & 0 \\\\\n",
    "1 & 2 & 1 & 0 \\\\\n",
    "2 & 3 & 2 & 4 \\\\\n",
    "\\end{bmatrix}\n",
    "$$\n",
    "\n",
    "Observe que $AB$ también es triangular inferior (ver ejercicio 3 del notebook 6):\n",
    "\n",
    "$$\n",
    "AB=\\begin{bmatrix}\n",
    "1 & 0 & 0 & 0 \\\\\n",
    "7 & 2 & 0 & 0 \\\\\n",
    "3 & 5 & 3 & 0 \\\\\n",
    "18 & 21 & 11 & 16 \\\\\n",
    "\\end{bmatrix}\n",
    "$$\n",
    "\n",
    "Esto ocurre con todas las matrices triangulares inferiores: su multiplicación también es una matriz triangular inferior."
   ]
  },
  {
   "cell_type": "markdown",
   "metadata": {},
   "source": [
    "**Inversa**\n",
    "\n",
    "Lo mismo ocurre con las inversas de matrices triangulares inferiores. Suponga que $A$ es la siguiente matriz:\n",
    "\n",
    "$$\n",
    "A=\\begin{bmatrix}\n",
    "1 & 0 & 0\\\\\n",
    "3 & 1 & 0\\\\\n",
    "4 & 5 & 1\n",
    "\\end{bmatrix}\n",
    "$$\n",
    "\n",
    "Entonces su inversa es (ver ejercicio 2 del notebook 7):\n",
    "\n",
    "$$\n",
    "A^{-1}=\\begin{bmatrix}\n",
    "1 & 0 & 0\\\\\n",
    "-3 & 1 & 0\\\\\n",
    "11 & -5 & 1\n",
    "\\end{bmatrix}\n",
    "$$\n",
    "\n",
    "Observe que $A^{-1}$ también es triangular inferior. Esto ocurre con todas las matrices triangulares inferiores: su inversa también es una matriz triangular inferior."
   ]
  },
  {
   "cell_type": "markdown",
   "metadata": {},
   "source": [
    "## Factorización LU\n",
    "\n",
    "Observe que para resolver el sistema $A\\pmb{x}=\\pmb{b}$ usamos matrices de eliminación para que los pivotes eliminen a los coeficientes debajo de cada uno de ellos. Estas matrices de eliminación son matrices triangulares inferiores $E_{i_1},\\ldots, E_{i_s}$. Así pues, por las propiedades que acabamos de ver, su multiplicación también es una matriz triangular inferior, y su inversa también lo es. Esto es, $(E_{i_1}\\ldots E_{i_s})^{-1}$ es una matriz triangular inferior. Como teníamos que\n",
    "\n",
    "$$\n",
    "E_{i_1}\\ldots E_{i_s}A=U\n",
    "$$\n",
    "\n",
    "entonces tenemos que\n",
    "\n",
    "$$A=(E_{i_1}\\ldots E_{i_s})^{-1}U$$\n",
    "\n",
    "Si llamamos $(E_{i_1}\\ldots E_{i_s})^{-1}=L$, entonces obtenemos la factorización $LU$ de $A$\n",
    "\n",
    "$$A=LU$$\n",
    "\n",
    "donde $L$ es una matriz triangular inferior y $U$ es una matriz triangular superior.\n",
    "\n",
    "\n",
    "**Nota:** Esto se cumple para todas las matrices $A$ cuyo método de eliminación no requiera cambios de filas para disponer de pivotes. Más adelante volveremos sobre el caso general.\n",
    "\n",
    "**Ejemplo:**\n",
    "\n",
    "Por ejemplo, si $A=\\begin{bmatrix}\n",
    "1 & 2\\\\\n",
    "4 & 9\n",
    "\\end{bmatrix}$, entonces\n",
    "\n",
    "$$\n",
    "A = \\begin{bmatrix}\n",
    "1 & 0\\\\\n",
    "4 & 1\n",
    "\\end{bmatrix}\\begin{bmatrix}\n",
    "1 & 2\\\\\n",
    "0 & 1\n",
    "\\end{bmatrix} \n",
    "$$\n",
    "\n",
    "donde \n",
    "\n",
    "$$\n",
    "L=E_{21}^{-1}=\\left(\\begin{bmatrix}\n",
    "1 & 0\\\\\n",
    "-4 & 1\n",
    "\\end{bmatrix}\\right) = \\begin{bmatrix}\n",
    "1 & 0\\\\\n",
    "4 & 1\n",
    "\\end{bmatrix}\n",
    "$$\n"
   ]
  },
  {
   "cell_type": "markdown",
   "metadata": {},
   "source": [
    "**Ejemplo:**\n",
    "\n",
    "Para encontrar la factorización $LU$ de $A$, donde\n",
    "\n",
    "$$\n",
    "A=\\begin{bmatrix}\n",
    "2 & 3\\\\\n",
    "4 & 7\n",
    "\\end{bmatrix}\n",
    "$$\n",
    "\n",
    "Necesitamos usar el primer pivote 2 para eliminar el coeficiente debajo de él, 4. Para ello usamos la matriz\n",
    "\n",
    "$$\n",
    "E_{21}=\\begin{bmatrix}\n",
    "1 & 0\\\\\n",
    "-2 & 1\n",
    "\\end{bmatrix}\n",
    "$$"
   ]
  },
  {
   "cell_type": "code",
   "execution_count": 3,
   "metadata": {},
   "outputs": [
    {
     "name": "stdout",
     "output_type": "stream",
     "text": [
      "A=\n",
      " [[2 3]\n",
      " [4 7]]\n",
      "E=\n",
      " [[ 1  0]\n",
      " [-2  1]]\n",
      "EA=\n",
      " [[2 3]\n",
      " [0 1]]\n"
     ]
    }
   ],
   "source": [
    "A = np.matrix([[2,3], [4,7]])\n",
    "E = np.matrix([[1,0], [-2, 1]])\n",
    "print(\"A=\\n\", A)\n",
    "print(\"E=\\n\", E)\n",
    "print(\"EA=\\n\", E*A)"
   ]
  },
  {
   "cell_type": "markdown",
   "metadata": {},
   "source": [
    "Encontramos que \n",
    "\n",
    "$$\n",
    "U=\\begin{bmatrix}\n",
    "2 & 3\\\\\n",
    "0 & 1\n",
    "\\end{bmatrix}\n",
    "$$\n",
    "\n",
    "y que \n",
    "\n",
    "$$\n",
    "L=E_{21}^{-1}=\\left(\\begin{bmatrix}\n",
    "1 & 0\\\\\n",
    "-2 & 1\n",
    "\\end{bmatrix}\\right) = \\begin{bmatrix}\n",
    "1 & 0\\\\\n",
    "2 & 1\n",
    "\\end{bmatrix}\n",
    "$$\n",
    "\n",
    "Luego \n",
    "\n",
    "$$\n",
    "A = LU = \\begin{bmatrix}\n",
    "1 & 0\\\\\n",
    "2 & 1\n",
    "\\end{bmatrix}\\begin{bmatrix}\n",
    "2 & 3\\\\\n",
    "0 & 1\n",
    "\\end{bmatrix}\n",
    "$$\n",
    "\n",
    "Verificamos mediante numpy:"
   ]
  },
  {
   "cell_type": "code",
   "execution_count": 4,
   "metadata": {},
   "outputs": [
    {
     "name": "stdout",
     "output_type": "stream",
     "text": [
      "L=\n",
      " [[1 0]\n",
      " [2 1]]\n",
      "U=\n",
      " [[2 3]\n",
      " [0 1]]\n",
      "LU=\n",
      " [[2 3]\n",
      " [4 7]]\n",
      "LU=A?\n",
      " [[ True  True]\n",
      " [ True  True]]\n"
     ]
    }
   ],
   "source": [
    "L = np.matrix([[1,0], [2, 1]])\n",
    "U = np.matrix([[2,3], [0, 1]])\n",
    "print(\"L=\\n\", L)\n",
    "print(\"U=\\n\", U)\n",
    "print(\"LU=\\n\", L*U)\n",
    "print(\"LU=A?\\n\", L*U==A)"
   ]
  },
  {
   "cell_type": "markdown",
   "metadata": {},
   "source": [
    "**Ejemplo:**\n",
    "\n",
    "Encuentre la factorización $LU$ de\n",
    "\n",
    "$$\n",
    "A=\\begin{bmatrix}\n",
    "1 & 1 & 1 & 1\\\\\n",
    "1 & 2 & 3 & 4\\\\\n",
    "1 & 3 & 6 & 10\\\\\n",
    "1 & 4 & 10 & 20\\\\\n",
    "\\end{bmatrix}\n",
    "$$\n",
    "\n",
    "Dado que la primera columna es solo 1s, entonces las matrices de eliminación son:\n",
    "\n",
    "$$\n",
    "E_{21}=\\begin{bmatrix}\n",
    "1 & 0 & 0 & 0\\\\\n",
    "-1 & 1 & 0 & 0\\\\\n",
    "0 & 0 & 1 & 0\\\\\n",
    "0 & 0 & 0 & 1\\\\\n",
    "\\end{bmatrix}\\qquad E_{31}=\\begin{bmatrix}\n",
    "1 & 0 & 0 & 0\\\\\n",
    "0 & 1 & 0 & 0\\\\\n",
    "-1 & 0 & 1 & 0\\\\\n",
    "0 & 0 & 0 & 1\\\\\n",
    "\\end{bmatrix}\\qquad E_{41}=\\begin{bmatrix}\n",
    "1 & 0 & 0 & 0\\\\\n",
    "0 & 1 & 0 & 0\\\\\n",
    "0 & 0 & 1 & 0\\\\\n",
    "-1 & 0 & 0 & 1\\\\\n",
    "\\end{bmatrix} \n",
    "$$\n",
    "\n",
    "Observe cómo eliminamos los coeficientes debajo de la primera columna:"
   ]
  },
  {
   "cell_type": "code",
   "execution_count": 5,
   "metadata": {},
   "outputs": [
    {
     "data": {
      "text/plain": [
       "matrix([[ 1,  1,  1,  1],\n",
       "        [ 0,  1,  2,  3],\n",
       "        [ 0,  2,  5,  9],\n",
       "        [ 0,  3,  9, 19]])"
      ]
     },
     "execution_count": 5,
     "metadata": {},
     "output_type": "execute_result"
    }
   ],
   "source": [
    "A = np.matrix([[1,1,1,1], [1,2,3,4], [1,3,6,10], [1,4,10,20]])\n",
    "E21 = np.matrix([[1,0,0,0], [-1,1,0,0], [0,0,1,0], [0,0,0,1]])\n",
    "E31 = np.matrix([[1,0,0,0], [0,1,0,0], [-1,0,1,0], [0,0,0,1]])\n",
    "E41 = np.matrix([[1,0,0,0], [0,1,0,0], [0,0,1,0], [-1,0,0,1]])\n",
    "E41*E31*E21*A"
   ]
  },
  {
   "cell_type": "markdown",
   "metadata": {},
   "source": [
    "Observe que es muy sencillo encontrar las inversas de $E_{21}$, $E_{31}$ y $E_{41}$:\n",
    "\n",
    "$$\n",
    "E_{21}^{-1}=\\begin{bmatrix}\n",
    "1 & 0 & 0 & 0\\\\\n",
    "1 & 1 & 0 & 0\\\\\n",
    "0 & 0 & 1 & 0\\\\\n",
    "0 & 0 & 0 & 1\\\\\n",
    "\\end{bmatrix}\\qquad E_{31}^{-1}=\\begin{bmatrix}\n",
    "1 & 0 & 0 & 0\\\\\n",
    "0 & 1 & 0 & 0\\\\\n",
    "1 & 0 & 1 & 0\\\\\n",
    "0 & 0 & 0 & 1\\\\\n",
    "\\end{bmatrix}\\qquad E_{41}^{-1}=\\begin{bmatrix}\n",
    "1 & 0 & 0 & 0\\\\\n",
    "0 & 1 & 0 & 0\\\\\n",
    "0 & 0 & 1 & 0\\\\\n",
    "1 & 0 & 0 & 1\\\\\n",
    "\\end{bmatrix} \n",
    "$$\n",
    "\n",
    "Con lo cual se puede obtener una matriz triangular inferior:"
   ]
  },
  {
   "cell_type": "code",
   "execution_count": 6,
   "metadata": {},
   "outputs": [
    {
     "data": {
      "text/plain": [
       "matrix([[1, 0, 0, 0],\n",
       "        [1, 1, 0, 0],\n",
       "        [1, 0, 1, 0],\n",
       "        [1, 0, 0, 1]])"
      ]
     },
     "execution_count": 6,
     "metadata": {},
     "output_type": "execute_result"
    }
   ],
   "source": [
    "E21inv = np.matrix([[1,0,0,0], [1,1,0,0], [0,0,1,0], [0,0,0,1]])\n",
    "E31inv = np.matrix([[1,0,0,0], [0,1,0,0], [1,0,1,0], [0,0,0,1]])\n",
    "E41inv = np.matrix([[1,0,0,0], [0,1,0,0], [0,0,1,0], [1,0,0,1]])\n",
    "E21inv*E31inv*E41inv"
   ]
  },
  {
   "cell_type": "markdown",
   "metadata": {},
   "source": [
    "Esta todavía no es la $L$ que buscamos, pues no hemos terminado el proceso de eliminación."
   ]
  },
  {
   "cell_type": "markdown",
   "metadata": {},
   "source": [
    "**Ejercicio 1:**\n",
    "\n",
    "Complete el proceso de factorización $LU$ de $A$.\n",
    "\n",
    "**Nota:**\n",
    "Observe que $(E_{i_1}\\ldots E_{i_s})^{-1}=E_{i_s}^{-1}\\ldots E_{i_1}^{-1}$. Esto simplifica encontrar $L$."
   ]
  },
  {
   "cell_type": "markdown",
   "metadata": {},
   "source": [
    "**Respuesta:**\n",
    "\n",
    "Encontramos las matrices de eliminación de los coeficientes debajo del segundo pivote:"
   ]
  },
  {
   "cell_type": "code",
   "execution_count": 7,
   "metadata": {},
   "outputs": [
    {
     "data": {
      "text/plain": [
       "matrix([[ 1,  1,  1,  1],\n",
       "        [ 0,  1,  2,  3],\n",
       "        [ 0,  0,  1,  3],\n",
       "        [ 0,  0,  3, 10]])"
      ]
     },
     "execution_count": 7,
     "metadata": {},
     "output_type": "execute_result"
    }
   ],
   "source": [
    "E32 = np.matrix([[1,0,0,0], [0,1,0,0], [0,-2,1,0], [0,0,0,1]])\n",
    "E42 = np.matrix([[1,0,0,0], [0,1,0,0], [0,0,1,0], [0,-3,0,1]])\n",
    "E42*E32*E41*E31*E21*A"
   ]
  },
  {
   "cell_type": "markdown",
   "metadata": {},
   "source": [
    "Encontramos la matriz para eliminar el coeficiente debajo del tercer pivote:"
   ]
  },
  {
   "cell_type": "code",
   "execution_count": 8,
   "metadata": {},
   "outputs": [
    {
     "name": "stdout",
     "output_type": "stream",
     "text": [
      "U=\n",
      " [[1 1 1 1]\n",
      " [0 1 2 3]\n",
      " [0 0 1 3]\n",
      " [0 0 0 1]]\n"
     ]
    }
   ],
   "source": [
    "E43 = np.matrix([[1,0,0,0], [0,1,0,0], [0,0,1,0], [0,0,-3,1]])\n",
    "U = E43*E42*E32*E41*E31*E21*A\n",
    "print(\"U=\\n\", U)"
   ]
  },
  {
   "cell_type": "markdown",
   "metadata": {},
   "source": [
    "Encontramos las inversas de todas las matrices de eliminación:"
   ]
  },
  {
   "cell_type": "code",
   "execution_count": 9,
   "metadata": {},
   "outputs": [
    {
     "name": "stdout",
     "output_type": "stream",
     "text": [
      "L=\n",
      " [[1 0 0 0]\n",
      " [1 1 0 0]\n",
      " [1 2 1 0]\n",
      " [1 3 3 1]]\n"
     ]
    }
   ],
   "source": [
    "E21inv = np.matrix([[1,0,0,0], [1,1,0,0], [0,0,1,0], [0,0,0,1]])\n",
    "E31inv = np.matrix([[1,0,0,0], [0,1,0,0], [1,0,1,0], [0,0,0,1]])\n",
    "E41inv = np.matrix([[1,0,0,0], [0,1,0,0], [0,0,1,0], [1,0,0,1]])\n",
    "E32inv = np.matrix([[1,0,0,0], [0,1,0,0], [0,2,1,0], [0,0,0,1]])\n",
    "E42inv = np.matrix([[1,0,0,0], [0,1,0,0], [0,0,1,0], [0,3,0,1]])\n",
    "E43inv = np.matrix([[1,0,0,0], [0,1,0,0], [0,0,1,0], [0,0,3,1]])\n",
    "L = E21inv*E31inv*E41inv*E32inv*E42inv*E43inv\n",
    "print(\"L=\\n\", L)"
   ]
  },
  {
   "cell_type": "code",
   "execution_count": 10,
   "metadata": {},
   "outputs": [
    {
     "data": {
      "text/plain": [
       "matrix([[ 1,  1,  1,  1],\n",
       "        [ 1,  2,  3,  4],\n",
       "        [ 1,  3,  6, 10],\n",
       "        [ 1,  4, 10, 20]])"
      ]
     },
     "execution_count": 10,
     "metadata": {},
     "output_type": "execute_result"
    }
   ],
   "source": [
    "L*U"
   ]
  },
  {
   "cell_type": "code",
   "execution_count": 11,
   "metadata": {},
   "outputs": [
    {
     "data": {
      "text/plain": [
       "matrix([[ True,  True,  True,  True],\n",
       "        [ True,  True,  True,  True],\n",
       "        [ True,  True,  True,  True],\n",
       "        [ True,  True,  True,  True]])"
      ]
     },
     "execution_count": 11,
     "metadata": {},
     "output_type": "execute_result"
    }
   ],
   "source": [
    "A==L*U"
   ]
  },
  {
   "cell_type": "markdown",
   "metadata": {},
   "source": [
    "---"
   ]
  },
  {
   "cell_type": "markdown",
   "metadata": {},
   "source": [
    "**Ejercicio 2$^*$:**\n",
    "\n",
    "Implemente un código para realizar de manera automática la factorización $LU$ de una matriz. Puede usar el siguiente pseudo-código para inspirarse:\n",
    "\n",
    "<img src=\"./img/pseudo-codigo.png\" width=\"auto\"/>"
   ]
  },
  {
   "cell_type": "markdown",
   "metadata": {},
   "source": [
    "## Resolver el sistema\n",
    "\n",
    "Observe que hasta ahora hemos buscado la factorización $LU$ de una matriz $A$. Todavía no hemos precisado cómo usar dicha factorización para resolver un sistema $A\\pmb{x}=\\pmb{b}$. En efecto, la factorización sólo habla de $A$, mas no involucra para nada a $\\pmb{b}$. Más que un defecto del procedimiento, esto es una virtud. Se determina cómo solucionar cualquier sistema independientemente de $\\pmb{b}$. Pero, ¿cómo involucramos a $\\pmb{b}$?\n",
    "\n",
    "Como mencionamos al comienzo, hemos transformado el sistema matricial\n",
    "\n",
    "$$\n",
    "A\\pmb{x}=\\pmb{b}\n",
    "$$\n",
    "\n",
    "en el sistema\n",
    "\n",
    "$$\n",
    "L^{-1}A\\pmb{x}=L^{-1}\\pmb{b}\n",
    "$$\n",
    "\n",
    "Esto es,\n",
    "\n",
    "$$\n",
    "U\\pmb{x}=\\pmb{c}\n",
    "$$\n",
    "\n",
    "donde $U=L^{-1}A$ y $\\pmb{c}=L^{-1}\\pmb{b}$.\n",
    "\n",
    "Ahora bien, observe que $L\\pmb{c}=\\pmb{b}$ y que $L$ es una matriz triangular inferior. Entonces podemos usar sustitución hacia adelante para obtener $\\pmb{c}$ y luego sustitución hacia atrás con $U\\pmb{x}=\\pmb{c}$ para obtener $\\pmb{x}$."
   ]
  },
  {
   "cell_type": "markdown",
   "metadata": {},
   "source": [
    "**Ejemplo:**\n",
    "\n",
    "Consideremos de nuevo el sistema\n",
    "\n",
    "$$\n",
    "\\begin{bmatrix}\n",
    "1 & 2\\\\\n",
    "4 & 9\n",
    "\\end{bmatrix}\\begin{bmatrix}\n",
    "x_1\\\\\n",
    "x_2\n",
    "\\end{bmatrix} = \\begin{bmatrix}\n",
    "5\\\\\n",
    "21\n",
    "\\end{bmatrix}\n",
    "$$\n",
    "\n",
    "La factorización $LU$ permite encontrar que\n",
    "\n",
    "$$\n",
    "A = \\begin{bmatrix}\n",
    "1 & 0\\\\\n",
    "4 & 1\n",
    "\\end{bmatrix}\\begin{bmatrix}\n",
    "1 & 2\\\\\n",
    "0 & 1\n",
    "\\end{bmatrix}\n",
    "$$\n",
    "\n",
    "donde $L=\\begin{bmatrix}\n",
    "1 & 0\\\\\n",
    "4 & 1\n",
    "\\end{bmatrix}$ y $U=\\begin{bmatrix}\n",
    "1 & 2\\\\\n",
    "0 & 1\n",
    "\\end{bmatrix}$.\n",
    "\n",
    "Resolvemos mediante sustitución hacia adelante el sistema $L\\pmb{c}=\\pmb{b}$:\n",
    "\n",
    "$$\n",
    "\\begin{bmatrix}\n",
    "1 & 0\\\\\n",
    "4 & 1\n",
    "\\end{bmatrix}\\begin{bmatrix}\n",
    "c_1\\\\\n",
    "c_2\n",
    "\\end{bmatrix} = \\begin{bmatrix}\n",
    "5\\\\\n",
    "21\n",
    "\\end{bmatrix}\n",
    "$$\n",
    "\n",
    "Se tiene que $c_1=5$ y que\n",
    "\n",
    "$$\n",
    "c_2 = \\frac{21 - 4*5}{1} = 1\n",
    "$$\n",
    "\n",
    "Así, $\\pmb{c}=\\begin{bmatrix}\n",
    "5\\\\\n",
    "1\n",
    "\\end{bmatrix}$.\n",
    "\n",
    "Ahora resolvemos mediante sustitución hacia atrás el sistema $U\\pmb{x}=\\pmb{c}$:\n",
    "\n",
    "$$\n",
    "\\begin{bmatrix}\n",
    "1 & 2\\\\\n",
    "0 & 1\n",
    "\\end{bmatrix}\\begin{bmatrix}\n",
    "x_1\\\\\n",
    "x_2\n",
    "\\end{bmatrix} = \\begin{bmatrix}\n",
    "5\\\\\n",
    "1\n",
    "\\end{bmatrix}\n",
    "$$\n",
    "\n",
    "Se tiene que $x_2=1$ y que\n",
    "\n",
    "$$\n",
    "x_1 = \\frac{5 - 2*1}{1} = 3\n",
    "$$\n",
    "\n",
    "Así, $\\pmb{x}=\\begin{bmatrix}\n",
    "3\\\\\n",
    "1\n",
    "\\end{bmatrix}$."
   ]
  },
  {
   "cell_type": "markdown",
   "metadata": {},
   "source": [
    "**Ejercicio 3$^*$:**\n",
    "\n",
    "Implemente un código para realizar de manera automática la sustitución hacia adelante."
   ]
  },
  {
   "cell_type": "markdown",
   "metadata": {},
   "source": [
    "**Respuesta:**\n",
    "\n",
    "Una posible implementación es la siguiente:"
   ]
  },
  {
   "cell_type": "code",
   "execution_count": 12,
   "metadata": {},
   "outputs": [],
   "source": [
    "def sustitucion_adelante(L, b) :\n",
    "    n, n = L.shape\n",
    "    solucion = [np.nan] * n # Inicializamos el vector solución\n",
    "    for k in range(n) : # Para cada k desde n hasta 1\n",
    "        bk = b.item(k) # valor del elemento k-esimo del vector b\n",
    "        s = 0 # Inicializamos la suma de elementos U(k,j) multiplicados por las soluciones j-ésimas\n",
    "        for j in range(k) : # para cada j desde 1 hasta k-1\n",
    "            s += L.item((k,j)) * solucion[j] # valor del elemento U(k,j) por solución j-ésima\n",
    "        solucion[k] = (bk - s)/L.item(k,k) # solución k-ésima es despeje de fila k-ésima\n",
    "        print(f\"{solucion[k]} = solucion[{k+1}] = (b{k+1} - s)/L({k+1},{k+1}) = ({bk} - {s}) / {L.item(k,k)}\")\n",
    "    return np.matrix([solucion]).T"
   ]
  },
  {
   "cell_type": "code",
   "execution_count": 13,
   "metadata": {},
   "outputs": [
    {
     "name": "stdout",
     "output_type": "stream",
     "text": [
      "Solucionando sistema Lc=b...\n",
      "5.0 = solucion[1] = (b1 - s)/L(1,1) = (5 - 0) / 1\n",
      "1.0 = solucion[2] = (b2 - s)/L(2,2) = (21 - 20.0) / 1\n",
      "Solucionando sistema Ux=c...\n",
      "1.0 = solucion[2] = (c2 - t)/U(2,2) = (1.0 - 0) / 1\n",
      "3.0 = solucion[1] = (c1 - t)/U(1,1) = (5.0 - 2.0) / 1\n"
     ]
    },
    {
     "data": {
      "text/plain": [
       "matrix([[3.],\n",
       "        [1.]])"
      ]
     },
     "execution_count": 13,
     "metadata": {},
     "output_type": "execute_result"
    }
   ],
   "source": [
    "L = np.matrix([[1,0], [4,1]])\n",
    "U = np.matrix([[1,2], [0,1]])\n",
    "b = np.matrix([[5], [21]])\n",
    "print(\"Solucionando sistema Lc=b...\")\n",
    "c = sustitucion_adelante(L, b)\n",
    "print(\"Solucionando sistema Ux=c...\")\n",
    "sustitucion_atras(U, c)"
   ]
  },
  {
   "cell_type": "markdown",
   "metadata": {},
   "source": [
    "## Ejercicios"
   ]
  },
  {
   "cell_type": "markdown",
   "metadata": {},
   "source": [
    "**Ejercicio 4:**\n",
    "\n",
    "Encuentre la factorización $LU$ de las siguientes matrices:\n",
    "\n",
    "$$\n",
    "A = \\begin{bmatrix}\n",
    "2 & 1 & 0\\\\\n",
    "0 & 4 & 2\\\\\n",
    "6 & 3 & 5\\\\\n",
    "\\end{bmatrix}\\qquad A = \\begin{bmatrix}\n",
    "1 & 1 & 1\\\\\n",
    "2 & 4 & 5\\\\\n",
    "6 & 4 & 0\\\\\n",
    "\\end{bmatrix}\n",
    "$$"
   ]
  },
  {
   "cell_type": "markdown",
   "metadata": {},
   "source": [
    "**Ejercicio 5:**\n",
    "    \n",
    "¿Qué matriz diagonal $D$ permite que la matriz $DU$ tenga solo 1s en la diagonal, donde\n",
    "\n",
    "$$\n",
    "U = \\begin{bmatrix}\n",
    "2 & 4 & 8\\\\\n",
    "0 & 3 & 9\\\\\n",
    "0 & 0 & 7\\\\\n",
    "\\end{bmatrix}\n",
    "$$"
   ]
  },
  {
   "cell_type": "markdown",
   "metadata": {},
   "source": [
    "**Ejercicio 6:**\n",
    "    \n",
    "Suponga que \n",
    "\n",
    "$$\n",
    "A = \\begin{bmatrix}\n",
    "2 & 4\\\\\n",
    "4 & 11\\\\\n",
    "\\end{bmatrix}\n",
    "$$\n",
    "\n",
    "Encuentre una factorización $LDU$ de $A$ de tal manera que $L$ sea una matriz triangular superior, $D$ una matriz diagonal y $U$ solo tenga 1s en la diagonal."
   ]
  },
  {
   "cell_type": "markdown",
   "metadata": {},
   "source": [
    "**Ejercicio 7:**\n",
    "\n",
    "Resuelva los sistemas $L\\pmb{c}=\\pmb{b}$ y $U\\pmb{x}=\\pmb{c}$ para\n",
    "\n",
    "$$\n",
    "L = \\begin{bmatrix}\n",
    "1 & 0 & 0\\\\\n",
    "1 & 1 & 0\\\\\n",
    "1 & 1 & 1\n",
    "\\end{bmatrix}\\qquad U = \\begin{bmatrix}\n",
    "1 & 1 & 1\\\\\n",
    "0 & 1 & 1\\\\\n",
    "0 & 0 & 1\\\\\n",
    "\\end{bmatrix}\\qquad \\pmb{b} = \\begin{bmatrix}\n",
    "4\\\\\n",
    "5\\\\\n",
    "6\\\\\n",
    "\\end{bmatrix}\n",
    "$$"
   ]
  },
  {
   "cell_type": "markdown",
   "metadata": {},
   "source": [
    "## Revisión de las ideas principales\n",
    "\n",
    "* La eliminación gaussiana (sin intercambio de filas) factoriza $A$ en $LU$.\n",
    "\n",
    "* La matriz triangular inferior $L$ contiene los multiplicadores $\\ell_{ij}$ que multiplican las filas pivote, para ir de $A$ a $U$. El producto $LU$ restituye esas filas para recuperar $A$.\n",
    "\n",
    "* Para incluir el lado derecho resolvemos $L\\pmb{c}=\\pmb{b}$ y $U\\pmb{x}=\\pmb{c}$.\n",
    "\n",
    "\n",
    "## Referencias\n",
    "\n",
    "- Strang, Gilbert (2009) *Introduction to Linear Algebra*, 4th Edition. Wellesley-Cambridge Press, 2009.\n"
   ]
  }
 ],
 "metadata": {
  "kernelspec": {
   "display_name": "Python 3",
   "language": "python",
   "name": "python3"
  },
  "language_info": {
   "codemirror_mode": {
    "name": "ipython",
    "version": 3
   },
   "file_extension": ".py",
   "mimetype": "text/x-python",
   "name": "python",
   "nbconvert_exporter": "python",
   "pygments_lexer": "ipython3",
   "version": "3.9.1"
  }
 },
 "nbformat": 4,
 "nbformat_minor": 4
}
