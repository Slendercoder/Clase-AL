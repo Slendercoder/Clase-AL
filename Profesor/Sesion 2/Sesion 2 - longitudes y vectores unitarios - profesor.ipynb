{
 "cells": [
  {
   "cell_type": "markdown",
   "metadata": {},
   "source": [
    "<table>\n",
    "    <tr>\n",
    "        <td><img src=\"./img/Macc.png\" width=\"400\"/></td>\n",
    "        <td>&nbsp;</td>\n",
    "        <td>\n",
    "            <h1 style=\"color:blue;text-align:left\">Álgebra Lineal</h1></td>\n",
    "        <td>\n",
    "            <table><tr>\n",
    "            <tp><p style=\"font-size:150%;text-align:center\">Sesión 2</p></tp>\n",
    "            <tp><p style=\"font-size:150%;text-align:center\">Longitudes y vectores unitarios</p></tp>\n",
    "            </tr></table>\n",
    "        </td>\n",
    "    </tr>\n",
    "</table>\n",
    "\n",
    "---"
   ]
  },
  {
   "cell_type": "markdown",
   "metadata": {},
   "source": [
    "## Objetivos\n",
    "\n",
    "1. Operar el producto punto entre dos vectores.\n",
    "2. Comprender la relación entre el producto punto, la longitud de un vector y el ángulo entre dos vectores.\n",
    "\n",
    "Adaptado de Strang (2009), capítulo 1, sección 1.2.\n",
    "\n",
    "\n",
    "## Producto punto\n",
    "\n",
    "El *producto punto* de $\\pmb{v}=(v_1, v_2)$ y $\\pmb{w}=(w_1, w_2)$ es el número $\\pmb{v}\\cdot\\pmb{w}=v_1w_1 + v_2w_2$.\n",
    "\n",
    "Esta cantidad aparentemente inocente resulta aparecer por todo lado en el Álgebra Lineal. Por esta razón, nos resulta conveniente definir una función en Python para calcularla. Usaremos de nuevo nuestro objeto `EspacioVectorial2S`."
   ]
  },
  {
   "cell_type": "code",
   "execution_count": 18,
   "metadata": {},
   "outputs": [],
   "source": [
    "from Algebra import *"
   ]
  },
  {
   "cell_type": "code",
   "execution_count": 19,
   "metadata": {},
   "outputs": [],
   "source": [
    "EV = EspacioVectorial2D()\n",
    "EV.asignar_vector(nombre='v', x=4, y=2, color='blue')\n",
    "EV.asignar_vector(nombre='w', x=-1, y=2, color='red')\n",
    "v = EV.coordenadas('v')\n",
    "w = EV.coordenadas('w')"
   ]
  },
  {
   "cell_type": "markdown",
   "metadata": {},
   "source": [
    "Definimos la función `prod_punto`:"
   ]
  },
  {
   "cell_type": "code",
   "execution_count": 21,
   "metadata": {},
   "outputs": [],
   "source": [
    "def prod_punto(v, w):\n",
    "    return np.sum(v*w)"
   ]
  },
  {
   "cell_type": "code",
   "execution_count": 22,
   "metadata": {},
   "outputs": [
    {
     "data": {
      "text/plain": [
       "0"
      ]
     },
     "execution_count": 22,
     "metadata": {},
     "output_type": "execute_result"
    }
   ],
   "source": [
    "prod_punto(v, w)"
   ]
  },
  {
   "cell_type": "markdown",
   "metadata": {},
   "source": [
    "Observe que el producto punto es conmutativo:"
   ]
  },
  {
   "cell_type": "code",
   "execution_count": 23,
   "metadata": {},
   "outputs": [
    {
     "data": {
      "text/plain": [
       "0"
      ]
     },
     "execution_count": 23,
     "metadata": {},
     "output_type": "execute_result"
    }
   ],
   "source": [
    "prod_punto(w, v)"
   ]
  },
  {
   "cell_type": "markdown",
   "metadata": {},
   "source": [
    "**Ejercicio 1:**\n",
    "\n",
    "- Dibuje los vectores $\\pmb{v}$ y $\\pmb{w}$. ¿Qué ángulo $\\theta$ se forma entre ellos?\n",
    "- Dibuje otros dos vectores distintos con el mismo ángulo $\\theta$."
   ]
  },
  {
   "cell_type": "markdown",
   "metadata": {},
   "source": [
    "**Respuesta:**\n",
    "\n",
    "Una posible implementación es la siguiente:"
   ]
  },
  {
   "cell_type": "code",
   "execution_count": 6,
   "metadata": {},
   "outputs": [
    {
     "data": {
      "image/png": "[encoded data removed]",
      "text/plain": [
       "<Figure size 432x216 with 1 Axes>"
      ]
     },
     "metadata": {
      "needs_background": "light"
     },
     "output_type": "display_data"
    }
   ],
   "source": [
    "EV.dibujar()"
   ]
  },
  {
   "cell_type": "markdown",
   "metadata": {},
   "source": [
    "El ángulo que se forma entre $\\pmb{v}$ y $\\pmb{w}$ es de 90 grados. Otros dos vectores con el mismo ángulo son los siguientes:"
   ]
  },
  {
   "cell_type": "code",
   "execution_count": 7,
   "metadata": {},
   "outputs": [
    {
     "name": "stdout",
     "output_type": "stream",
     "text": [
      "El producto punto entre u y m es: 0\n"
     ]
    },
    {
     "data": {
      "image/png": "[encoded data removed]",
      "text/plain": [
       "<Figure size 504x216 with 1 Axes>"
      ]
     },
     "metadata": {
      "needs_background": "light"
     },
     "output_type": "display_data"
    }
   ],
   "source": [
    "EV.asignar_vector(nombre='u', x=1, y=2, color='green')\n",
    "EV.asignar_vector(nombre='m', x=-2, y=1, color='orange')\n",
    "u = EV.coordenadas('u')\n",
    "m = EV.coordenadas('m')\n",
    "print(\"El producto punto entre u y m es:\", prod_punto(u, m))\n",
    "EV.dibujar()"
   ]
  },
  {
   "cell_type": "markdown",
   "metadata": {},
   "source": [
    "## Longitud o norma de un vector\n",
    "\n",
    "La longitud de un vector $\\pmb{v}=(v_1, v_2)$, denotada como $||\\pmb{v}||$, se define como $\\sqrt{\\pmb{v}\\cdot\\pmb{v}}=\\sqrt{v_1^2 + v_2^2}$.\n",
    "\n",
    "**Nota:** Esta definición sirve para vectores de cualquier cantidad de coordenadas.\n",
    "\n",
    "**Nota:** La fórmula de la longitud de un vector coincide con la fórmula de pitágoras."
   ]
  },
  {
   "cell_type": "markdown",
   "metadata": {},
   "source": [
    "**Ejercicio 2:**\n",
    "\n",
    "Defina una función en Python para hallar la `norma` de un vector y halle la norma de nuestro vector $\\pmb{v}$ del ejemplo anterior."
   ]
  },
  {
   "cell_type": "markdown",
   "metadata": {},
   "source": [
    "**Respuesta:**\n",
    "\n",
    "Una posible implementación es la siguiente:"
   ]
  },
  {
   "cell_type": "code",
   "execution_count": 8,
   "metadata": {},
   "outputs": [],
   "source": [
    "def norma(v):\n",
    "    return np.sqrt(prod_punto(v, v))"
   ]
  },
  {
   "cell_type": "code",
   "execution_count": 9,
   "metadata": {},
   "outputs": [
    {
     "data": {
      "text/plain": [
       "4.47213595499958"
      ]
     },
     "execution_count": 9,
     "metadata": {},
     "output_type": "execute_result"
    }
   ],
   "source": [
    "norma(v)"
   ]
  },
  {
   "cell_type": "markdown",
   "metadata": {},
   "source": [
    "**Nota:** Observe que la norma de $c\\pmb{v}$ es $c$ veces la norma de $\\pmb{v}$. Es decir $||c\\pmb{v}||=c||\\pmb{v}||$ para todo vector $\\pmb{v}$."
   ]
  },
  {
   "cell_type": "code",
   "execution_count": 10,
   "metadata": {},
   "outputs": [
    {
     "name": "stdout",
     "output_type": "stream",
     "text": [
      "Norma de 2v: 8.94427190999916\n",
      "2 veces norma de v: 8.94427190999916\n"
     ]
    },
    {
     "data": {
      "image/png": "[encoded data removed]",
      "text/plain": [
       "<Figure size 792x360 with 1 Axes>"
      ]
     },
     "metadata": {
      "needs_background": "light"
     },
     "output_type": "display_data"
    }
   ],
   "source": [
    "c = 2\n",
    "c_v = 2*v \n",
    "EV.asignar_vector(nombre=str(c)+'v', x=c_v[0], y=c_v[1], color='blue')\n",
    "print(f\"Norma de {c}v: {norma(c_v)}\")\n",
    "print(f\"{c} veces norma de v: {c*norma(v)}\")\n",
    "EV.dibujar()"
   ]
  },
  {
   "cell_type": "markdown",
   "metadata": {},
   "source": [
    "### Vectores unitarios\n",
    "\n",
    "Un *vector unitario* es un vector cuya longitud es 1. Los *vectores unitarios estándar* se llaman $\\pmb{i}=(1, 0)$ y $\\pmb{j}=(0, 1)$."
   ]
  },
  {
   "cell_type": "code",
   "execution_count": 11,
   "metadata": {},
   "outputs": [
    {
     "name": "stdout",
     "output_type": "stream",
     "text": [
      "Longitud de i: 1.0\n",
      "Longitud de j: 1.0\n"
     ]
    },
    {
     "data": {
      "image/png": "[encoded data removed]",
      "text/plain": [
       "<Figure size 288x288 with 1 Axes>"
      ]
     },
     "metadata": {
      "needs_background": "light"
     },
     "output_type": "display_data"
    }
   ],
   "source": [
    "EV = EspacioVectorial2D()\n",
    "EV.asignar_vector(nombre='i', x=1, y=0, color='black')\n",
    "EV.asignar_vector(nombre='j', x=0, y=1, color='black')\n",
    "i = EV.coordenadas('i')\n",
    "j = EV.coordenadas('j')\n",
    "print(\"Longitud de i:\", norma(i))\n",
    "print(\"Longitud de j:\", norma(j))\n",
    "EV.dibujar(2)"
   ]
  },
  {
   "cell_type": "markdown",
   "metadata": {},
   "source": [
    "**Ejercicio 3:**\n",
    "\n",
    "Encuentre $c$ y $d$ de tal manera que la combinación lineal $c\\pmb{i}+d\\pmb{j}$ sea igual a $(3,4)$."
   ]
  },
  {
   "cell_type": "markdown",
   "metadata": {},
   "source": [
    "Dado un vector no nulo $\\pmb{v}$, ¿cómo podemos obtener un vector unitario en la misma dirección de $\\pmb{v}$? La respuesta claramente debe ser un múltiplo escalar de $\\pmb{v}$, $c\\pmb{v}$, pero ¿cómo encontrar $c$?. Observe que lo que queremos es que $||c\\pmb{v}||=1$. Por lo tanto, $c=\\frac{1}{||\\pmb{v}||}$."
   ]
  },
  {
   "cell_type": "code",
   "execution_count": 12,
   "metadata": {},
   "outputs": [
    {
     "name": "stdout",
     "output_type": "stream",
     "text": [
      "La norma de v es: 2.23606797749979\n",
      "La norma de v_unitario es: 0.9999999999999999\n"
     ]
    },
    {
     "data": {
      "image/png": "[encoded data removed]",
      "text/plain": [
       "<Figure size 216x324 with 1 Axes>"
      ]
     },
     "metadata": {
      "needs_background": "light"
     },
     "output_type": "display_data"
    }
   ],
   "source": [
    "EV = EspacioVectorial2D()\n",
    "EV.asignar_vector(nombre='v', x=1, y=2, color='blue')\n",
    "v = EV.coordenadas('v')\n",
    "print(\"La norma de v es:\", norma(v))\n",
    "v_unitario = (1/norma(v))*v\n",
    "EV.asignar_vector(nombre='v_unitario', x=v_unitario[0], y=v_unitario[1], color='red')\n",
    "print(\"La norma de v_unitario es:\", norma(v_unitario))\n",
    "EV.dibujar(1.5)"
   ]
  },
  {
   "cell_type": "markdown",
   "metadata": {},
   "source": [
    "Ahora un poco de trigonometría con vectores. Supongamos dado el vector $\\pmb{i}$ y un ángulo $\\theta$. ¿Cómo encontrar un vector unitario $\\pmb{v}$ con ángulo $\\theta$?. Es decir, debemos encontrar un vector $\\pmb{v}$ tal que:\n",
    "\n",
    "- El ángulo entre $\\pmb{i}$ y $\\pmb{v}$ sea $\\theta$.\n",
    "- La longitud de $\\pmb{v}$ sea igual a 1.\n",
    "\n",
    "La respuesta está dada por nuestras nociones de trigonometría de séptimo grado:\n",
    "\n",
    "<img src=\"./img/sin-cos.gif\" width=\"400\"/>\n",
    "\n",
    "Tenemos que $\\pmb{v}=(\\cos\\theta, \\sin\\theta)$. "
   ]
  },
  {
   "cell_type": "code",
   "execution_count": 13,
   "metadata": {},
   "outputs": [
    {
     "data": {
      "image/png": "[encoded data removed]",
      "text/plain": [
       "<Figure size 288x245.823 with 1 Axes>"
      ]
     },
     "metadata": {
      "needs_background": "light"
     },
     "output_type": "display_data"
    }
   ],
   "source": [
    "theta = 0.25 * np.pi\n",
    "x = np.cos(theta)\n",
    "y = np.sin(theta)\n",
    "EV = EspacioVectorial2D()\n",
    "EV.asignar_vector(nombre='i', x=1, y=0, color='black')\n",
    "EV.asignar_vector(nombre='v', x=x, y=y, color='green')\n",
    "EV.dibujar(2)"
   ]
  },
  {
   "cell_type": "markdown",
   "metadata": {},
   "source": [
    "**Ejercicio 4:**\n",
    "\n",
    "Dibuje 100 vectores unitarios distintos."
   ]
  },
  {
   "cell_type": "markdown",
   "metadata": {},
   "source": [
    "**Respuesta:**\n",
    "\n",
    "Una posible implementación es la siguiente:"
   ]
  },
  {
   "cell_type": "code",
   "execution_count": 14,
   "metadata": {
    "scrolled": true
   },
   "outputs": [
    {
     "data": {
      "image/png": "[encoded data removed]",
      "text/plain": [
       "<Figure size 216x216 with 1 Axes>"
      ]
     },
     "metadata": {
      "needs_background": "light"
     },
     "output_type": "display_data"
    }
   ],
   "source": [
    "EV = EspacioVectorial2D()\n",
    "for k in range(100):\n",
    "    theta = k*2*np.pi/100\n",
    "    x = np.cos(theta)\n",
    "    y = np.sin(theta)\n",
    "    EV.asignar_vector(nombre='unitario_'+str(k), x=x, y=y, color='black')\n",
    "EV.puntos()"
   ]
  },
  {
   "cell_type": "markdown",
   "metadata": {},
   "source": [
    "### Ángulos y producto punto\n",
    "\n",
    "Observe que si $\\pmb{v}=(\\cos\\theta, \\sin\\theta)$, entonces \n",
    "\n",
    "$$\\pmb{v}\\cdot\\pmb{i}=(\\cos\\theta, \\sin\\theta)\\cdot(1, 0)=\\cos\\theta$$\n",
    "\n",
    "Sean $\\pmb{v}$ y $\\pmb{w}$ vectores unitarios. Entonces $\\pmb{v}$ y $\\pmb{w}$ pueden escribirse de la forma $\\pmb{v}=(\\cos\\beta,\\sin\\beta)$ y $\\pmb{w}=(\\cos\\alpha,\\sin\\alpha)$ para algún $\\beta$ y algún $\\alpha$. Supongamos sin pérdida de generalidad que $\\beta>\\alpha$, luego el ángulo entre $\\pmb{v}$ y $\\pmb{w}$ es $\\theta=\\beta-\\alpha$, como en el lado derecho de la siguiente figura:\n",
    "\n",
    "<img src=\"./img/angulos.png\" width=\"500\"/>\n",
    "\n",
    "Observe que \n",
    "\n",
    "$$\\pmb{v}\\cdot\\pmb{w}=(\\cos\\beta, \\sin\\beta)\\cdot(\\cos\\alpha, \\sin\\alpha)=\\cos\\beta\\cos\\alpha + \\sin\\beta\\sin\\alpha$$\n",
    "\n",
    "Del curso de trigonometría de séptimo sabemos que $\\cos\\beta\\cos\\alpha + \\sin\\beta\\sin\\alpha = \\cos(\\beta-\\alpha)$, por lo tanto:\n",
    "\n",
    "$$\\pmb{v}\\cdot\\pmb{w}= \\cos(\\beta-\\alpha) = \\cos\\theta$$\n",
    "\n",
    "Ahora vamos considerar cualesquiera vectores no nulos $\\pmb{v}$ y $\\pmb{w}$. Observe que cualquier vector no nulo $\\pmb{v}$ puede verse como un múltiplo escalar de un vector unitario, de la siguiente manera:\n",
    "\n",
    "$$\\pmb{v}=||\\pmb{v}||\\left(\\frac{\\pmb{v}}{||\\pmb{v}||}\\right)$$\n",
    "\n",
    "Usando la descripción del vector unitario $\\frac{\\pmb{v}}{||\\pmb{v}||}$ en términos de su ángulo $\\beta$ respecto al vector $\\pmb{i}$, se tiene\n",
    "\n",
    "$$\\pmb{v}=||\\pmb{v}||\\left(\\frac{\\pmb{v}}{||\\pmb{v}||}\\right)=||\\pmb{v}||(\\cos\\beta,\\sin\\beta)=(||\\pmb{v}||\\cos\\beta,||\\pmb{v}||\\sin\\beta)$$\n",
    "\n",
    "Igualmente para $\\pmb{w}$:\n",
    "\n",
    "$$\\pmb{w}=||\\pmb{w}||\\left(\\frac{\\pmb{w}}{||\\pmb{w}||}\\right)=||\\pmb{w}||(\\cos\\alpha,\\sin\\alpha)=(||\\pmb{w}||\\cos\\alpha,||\\pmb{w}||\\sin\\alpha)$$\n",
    "\n",
    "Por lo tanto, al hacer el producto punto entre $\\pmb{v}$ y $\\pmb{w}$ se obtiene:\n",
    "\n",
    "$$\\pmb{v}\\cdot\\pmb{w}=(||\\pmb{v}||\\cos\\beta,||\\pmb{v}||\\sin\\beta)\\cdot(||\\pmb{w}||\\cos\\alpha,||\\pmb{w}||\\sin\\alpha)$$\n",
    "\n",
    "$$=||\\pmb{v}||||\\pmb{w}||\\cos\\beta\\cos\\alpha+||\\pmb{v}||||\\pmb{w}||\\sin\\beta\\sin\\alpha$$\n",
    "\n",
    "$$=||\\pmb{v}||||\\pmb{w}||(\\cos\\beta\\cos\\alpha+\\sin\\beta\\sin\\alpha)$$\n",
    "\n",
    "$$=||\\pmb{v}||||\\pmb{w}||\\cos\\theta$$\n",
    "\n",
    "Así pues,\n",
    "\n",
    "$$\\frac{\\pmb{v}\\cdot\\pmb{w}}{||\\pmb{v}||||\\pmb{w}||}=\\cos\\theta$$"
   ]
  },
  {
   "cell_type": "markdown",
   "metadata": {},
   "source": [
    "**Ejercicio 5:**\n",
    "    \n",
    "Encuentre el ángulo entre los vectores $\\pmb{v}=(1,\\sqrt{3})$ y $\\pmb{w}=(1,0)$."
   ]
  },
  {
   "cell_type": "markdown",
   "metadata": {},
   "source": [
    "**Respuesta:**\n",
    "\n",
    "Si $\\theta$ es el ángulo entre $\\pmb{v}$ y $\\pmb{w}$, entonces se tiene que $\\cos\\theta=\\frac{\\pmb{v}\\cdot\\pmb{w}}{||\\pmb{v}||||\\pmb{w}||}$, luego\n",
    "\n",
    "$$\\theta=\\arccos(\\cos\\theta)=\\arccos\\left(\\frac{\\pmb{v}\\cdot\\pmb{w}}{||\\pmb{v}||||\\pmb{w}||}\\right)$$\n",
    "\n",
    "Podemos definir una función en Python para obtener este ángulo:"
   ]
  },
  {
   "cell_type": "code",
   "execution_count": 16,
   "metadata": {},
   "outputs": [],
   "source": [
    "def angulo(v, w):\n",
    "    return np.arccos(prod_punto(v,w)/(norma(v)*norma(w)))"
   ]
  },
  {
   "cell_type": "code",
   "execution_count": 17,
   "metadata": {},
   "outputs": [
    {
     "name": "stdout",
     "output_type": "stream",
     "text": [
      "El ángulo entre v y w es 60.0 grados\n"
     ]
    },
    {
     "data": {
      "image/png": "[encoded data removed]",
      "text/plain": [
       "<Figure size 288x393.415 with 1 Axes>"
      ]
     },
     "metadata": {
      "needs_background": "light"
     },
     "output_type": "display_data"
    }
   ],
   "source": [
    "EV = EspacioVectorial2D()\n",
    "EV.asignar_vector(nombre='v', x=1, y=np.sqrt(3), color='blue')\n",
    "EV.asignar_vector(nombre='w', x=1, y=0, color='green')\n",
    "v = EV.coordenadas('v')\n",
    "w = EV.coordenadas('w')\n",
    "print(f\"El ángulo entre v y w es {angulo(v,w)/np.pi*180} grados\")\n",
    "EV.dibujar(2)\n"
   ]
  },
  {
   "cell_type": "markdown",
   "metadata": {},
   "source": [
    "**Ejercicio 6:**\n",
    "\n",
    "Dibuje 20 vectores distintos sobre el círculo de radio 2."
   ]
  },
  {
   "cell_type": "markdown",
   "metadata": {},
   "source": [
    "**Respuesta:**\n",
    "\n",
    "Una posible implementación es la siguiente:"
   ]
  },
  {
   "cell_type": "code",
   "execution_count": 26,
   "metadata": {},
   "outputs": [
    {
     "data": {
      "image/png": "[encoded data removed]",
      "text/plain": [
       "<Figure size 360x360 with 1 Axes>"
      ]
     },
     "metadata": {
      "needs_background": "light"
     },
     "output_type": "display_data"
    }
   ],
   "source": [
    "EV = EspacioVectorial2D()\n",
    "for k in range(20):\n",
    "    theta = k*2*np.pi/20\n",
    "    x = 2*np.cos(theta)\n",
    "    y = 2*np.sin(theta)\n",
    "    EV.asignar_vector(nombre='unitario_'+str(k), x=x, y=y, color='black')\n",
    "EV.puntos()"
   ]
  },
  {
   "cell_type": "markdown",
   "metadata": {},
   "source": [
    "**Ejercicio 7:** \n",
    "\n",
    "Demuestre que dos vectores son perpendiculares sii su producto punto es 0. "
   ]
  },
  {
   "cell_type": "markdown",
   "metadata": {},
   "source": [
    "### Desigualdad de Schwartz\n",
    "\n",
    "Observe que para cualquier $\\theta$ siempre se tiene que $-1\\leq\\cos\\theta\\leq 1$. Así pues,\n",
    "\n",
    "$$-1\\leq\\frac{\\pmb{v}\\cdot\\pmb{w}}{||\\pmb{v}||||\\pmb{w}||}\\leq 1$$\n",
    "\n",
    "Como $||\\pmb{v}||$ y $||\\pmb{w}||$ siempre son positivos, entonces\n",
    "\n",
    "$$-||\\pmb{v}||||\\pmb{w}||\\leq\\pmb{v}\\cdot\\pmb{w}\\leq ||\\pmb{v}||||\\pmb{w}||$$\n",
    "\n",
    "En otras palabras,\n",
    "\n",
    "$$|\\pmb{v}\\cdot\\pmb{w}|\\leq||\\pmb{v}||||\\pmb{w}||$$"
   ]
  },
  {
   "cell_type": "markdown",
   "metadata": {},
   "source": [
    "### Desigualdad triangular\n",
    "\n",
    "La *desigualdad triangular* afirma que $||\\pmb{v}+\\pmb{w}||\\leq||\\pmb{v}||+||\\pmb{w}||$. Observe que en el lado derecho está la suma de dos lados de un triángulo y en el izquierdo está su diagonal."
   ]
  },
  {
   "cell_type": "code",
   "execution_count": 18,
   "metadata": {},
   "outputs": [
    {
     "name": "stdout",
     "output_type": "stream",
     "text": [
      "Vector v=(1, 0) creado!\n",
      "Vector w=(0, 1) creado!\n",
      "Vector v+w=(1, 1) creado!\n",
      "Suma de los lados: 2.0\n",
      "Suma de la diagonal: 1.4142135623730951\n"
     ]
    },
    {
     "data": {
      "image/png": "[encoded data removed]",
      "text/plain": [
       "<Figure size 288x288 with 1 Axes>"
      ]
     },
     "metadata": {
      "needs_background": "light"
     },
     "output_type": "display_data"
    }
   ],
   "source": [
    "EV = EspacioVectorial2D()\n",
    "EV.asignar_vector(nombre='v', x=1, y=0, color='blue')\n",
    "EV.asignar_vector(nombre='w', x=0, y=1, color='green')\n",
    "v = EV.coordenadas('v')\n",
    "w = EV.coordenadas('w')\n",
    "suma = v + w\n",
    "EV.asignar_vector(nombre='v+w', x=suma[0], y=suma[1], color='red')\n",
    "print(\"Suma de los lados:\", norma(v) + norma(w))\n",
    "print(\"Suma de la diagonal:\", norma(v + w))\n",
    "EV.dibujar(2)"
   ]
  },
  {
   "cell_type": "markdown",
   "metadata": {},
   "source": [
    "La demostración de la desigualdad triangular se sigue de la desigualdad de Schwartz. Observe que\n",
    "\n",
    "$$||\\pmb{v}+\\pmb{w}||^2=(\\pmb{v}+\\pmb{w})\\cdot(\\pmb{v}+\\pmb{w})=\\pmb{v}\\cdot\\pmb{v}+\\pmb{v}\\cdot\\pmb{w}+\\pmb{w}\\cdot\\pmb{v}+\\pmb{w}\\cdot\\pmb{w}$$\n",
    "\n",
    "$$=||\\pmb{v}||^2 + 2\\pmb{v}\\cdot\\pmb{w} + ||\\pmb{w}||^2$$\n",
    "\n",
    "Por la desigualdad de Schwartz se tiene que $2\\pmb{v}\\cdot\\pmb{w}\\leq 2||\\pmb{v}||||\\pmb{w}||$, por lo tanto\n",
    "\n",
    "$$||\\pmb{v}+\\pmb{w}||^2 \\leq ||\\pmb{v}||^2 + 2||\\pmb{v}||||\\pmb{w}|| + ||\\pmb{w}||^2=(||\\pmb{v}||+||\\pmb{w}||)^2$$\n",
    "\n",
    "La desigualdad triangular se obtiene al sacar raíz cuadrada en ambos lados de la desigualdad."
   ]
  },
  {
   "cell_type": "markdown",
   "metadata": {},
   "source": [
    "## Ejercicios"
   ]
  },
  {
   "cell_type": "markdown",
   "metadata": {},
   "source": [
    "**Ejercicio 8:**\n",
    "\n",
    "Sean $\\pmb{u}=(-.6,.8)$, $\\pmb{v}=(3,4)$ y $\\pmb{w}=(8,6)$. Calcule los productos punto $\\pmb{u}\\cdot\\pmb{v}$, $\\pmb{u}\\cdot\\pmb{w}$, $\\pmb{u}\\cdot(\\pmb{v}+\\pmb{w})$ y $\\pmb{w}\\cdot\\pmb{v}$."
   ]
  },
  {
   "cell_type": "markdown",
   "metadata": {},
   "source": [
    "**Ejercicio 9:**\n",
    "\n",
    "Calcule las longitudes $||\\pmb{u}||$, $||\\pmb{v}||$ y $||\\pmb{w}||$ para los vectores del ejercicio 8. Además, verifique las desigualdades de Schwartz $|\\pmb{u}\\cdot\\pmb{v}|\\leq||\\pmb{u}||||\\pmb{v}||$ y $|\\pmb{v}\\cdot\\pmb{w}|\\leq||\\pmb{v}||||\\pmb{w}||$."
   ]
  },
  {
   "cell_type": "markdown",
   "metadata": {},
   "source": [
    "**Ejercicio 10:**\n",
    "\n",
    "Describa geométrica y algebráicamente la colección de todos los vectores $\\pmb{w}=(w_1,w_2)$ que son perpendiculares a $\\pmb{v}=(2,-1)$."
   ]
  },
  {
   "cell_type": "markdown",
   "metadata": {},
   "source": [
    "## Revisión de las ideas principales\n",
    "\n",
    "1. El producto punto $\\pmb{v}\\cdot\\pmb{w}$ multiplica cada componente $v_i$ por $w_i$ y luego suma todos los $v_iw_i$.\n",
    "* La longitud $||\\pmb{v}||$ de un vector es la raiz cuadrada de $\\pmb{v}\\cdot\\pmb{v}$.\n",
    "* $\\pmb{u}=\\frac{v}{||\\pmb{v}||}$ es un *vector unitario*. Su longitud es 1.\n",
    "* El producto punto $\\pmb{v}\\cdot\\pmb{w}=0$ cuando los vectores $\\pmb{v}$ y $\\pmb{w}$ son perpendiculares.\n",
    "* El coseno de $\\theta$ (el ángulo entre dos vectores no nulos $\\pmb{v}$ y $\\pmb{w}$) nunca excede 1.\n",
    "* $\\cos\\theta = \\frac{\\pmb{v}\\cdot\\pmb{w}}{||\\pmb{v}|| ||\\pmb{w}||}$\n",
    "* Desigualdad de Schwartz: $|\\pmb{v}\\cdot\\pmb{w}|\\leq ||\\pmb{v}|| ||\\pmb{w}||$\n",
    "* Desigualdad del triángulo: $||\\pmb{v}+\\pmb{w}||\\leq ||\\pmb{v}|| + ||\\pmb{w}|| $\n",
    "\n",
    "\n",
    "## Referencias\n",
    "\n",
    "- Strang, Gilbert (2009) *Introduction to Linear Algebra*, 4th Edition. Wellesley-Cambridge Press, 2009.\n"
   ]
  }
 ],
 "metadata": {
  "kernelspec": {
   "display_name": "Python 3",
   "language": "python",
   "name": "python3"
  },
  "language_info": {
   "codemirror_mode": {
    "name": "ipython",
    "version": 3
   },
   "file_extension": ".py",
   "mimetype": "text/x-python",
   "name": "python",
   "nbconvert_exporter": "python",
   "pygments_lexer": "ipython3",
   "version": "3.9.1"
  }
 },
 "nbformat": 4,
 "nbformat_minor": 4
}
