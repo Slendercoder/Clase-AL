{
 "cells": [
  {
   "cell_type": "markdown",
   "metadata": {},
   "source": [
    "<table>\n",
    "    <tr>\n",
    "        <td><img src=\"./img/Macc.png\" width=\"400\"/></td>\n",
    "        <td>&nbsp;</td>\n",
    "        <td>\n",
    "            <h1 style=\"color:blue;text-align:left\">Álgebra Lineal</h1></td>\n",
    "        <td>\n",
    "            <table><tr>\n",
    "            <tp><p style=\"font-size:150%;text-align:center\">Sesión 7</p></tp>\n",
    "            <tp><p style=\"font-size:150%;text-align:center\">Matrices inversas</p></tp>\n",
    "            </tr></table>\n",
    "        </td>\n",
    "    </tr>\n",
    "</table>\n",
    "\n",
    "---"
   ]
  },
  {
   "cell_type": "markdown",
   "metadata": {},
   "source": [
    "## Objetivos\n",
    "\n",
    "* Calcular la inversa de una matriz mediante el método de Gauss-Jordan.\n",
    "\n",
    "Adaptado de Strang (2009), capítulo 2, sección 2.5.\n",
    "\n",
    "\n",
    "## Comprobación de la inversa\n",
    "\n",
    "En las diapositivas vimos que si $\n",
    "A = \\begin{bmatrix}\n",
    "2 & -1 & 0 \\\\\n",
    "-1 & 2 & -1\\\\\n",
    "0 & -1 & 2 \\\\\n",
    "\\end{bmatrix}\n",
    "$, entonces\n",
    "\n",
    "$$\n",
    "\\begin{bmatrix}\n",
    "1 & 0 & 0 \\\\\n",
    "0 & 1 & 0\\\\\n",
    "0 & 0 & \\frac{3}{4} \\\\\n",
    "\\end{bmatrix}\\begin{bmatrix}\n",
    "1 & 0 & 0 \\\\\n",
    "0 & \\frac{2}{3} & 0\\\\\n",
    "0 & 0 & 1 \\\\\n",
    "\\end{bmatrix}\\begin{bmatrix}\n",
    "\\frac{1}{2} & 0 & 0 \\\\\n",
    "0 & 1 & 0\\\\\n",
    "0 & 0 & 1 \\\\\n",
    "\\end{bmatrix}\\begin{bmatrix}\n",
    "1 & \\frac{2}{3} & 0 \\\\\n",
    "0 & 1 & 0\\\\\n",
    "0 & 0 & 1 \\\\\n",
    "\\end{bmatrix}\\begin{bmatrix}\n",
    "1 & 0 & 0 \\\\\n",
    "0 & 1 & \\frac{3}{4}\\\\\n",
    "0 & 0 & 1 \\\\\n",
    "\\end{bmatrix}\\begin{bmatrix}\n",
    "1 & 0 & 0 \\\\\n",
    "0 & 1 & 0\\\\\n",
    "0 & \\frac{2}{3} & 1 \\\\\n",
    "\\end{bmatrix}\\begin{bmatrix}\n",
    "1 & 0 & 0 \\\\\n",
    "\\frac{1}{2} & 1 & 0\\\\\n",
    "0 & 0 & 1 \\\\\n",
    "\\end{bmatrix}A  = I\n",
    "$$\n",
    "\n"
   ]
  },
  {
   "cell_type": "markdown",
   "metadata": {},
   "source": [
    "**Ejercicio 1:**\n",
    "\n",
    "Mediante numpy ncuentre la multiplicación\n",
    "\n",
    "$$\n",
    "B = \\begin{bmatrix}\n",
    "1 & 0 & 0 \\\\\n",
    "0 & 1 & 0\\\\\n",
    "0 & 0 & \\frac{3}{4} \\\\\n",
    "\\end{bmatrix}\\begin{bmatrix}\n",
    "1 & 0 & 0 \\\\\n",
    "0 & \\frac{2}{3} & 0\\\\\n",
    "0 & 0 & 1 \\\\\n",
    "\\end{bmatrix}\\begin{bmatrix}\n",
    "\\frac{1}{2} & 0 & 0 \\\\\n",
    "0 & 1 & 0\\\\\n",
    "0 & 0 & 1 \\\\\n",
    "\\end{bmatrix}\\begin{bmatrix}\n",
    "1 & \\frac{2}{3} & 0 \\\\\n",
    "0 & 1 & 0\\\\\n",
    "0 & 0 & 1 \\\\\n",
    "\\end{bmatrix}\\begin{bmatrix}\n",
    "1 & 0 & 0 \\\\\n",
    "0 & 1 & \\frac{3}{4}\\\\\n",
    "0 & 0 & 1 \\\\\n",
    "\\end{bmatrix}\\begin{bmatrix}\n",
    "1 & 0 & 0 \\\\\n",
    "0 & 1 & 0\\\\\n",
    "0 & \\frac{2}{3} & 1 \\\\\n",
    "\\end{bmatrix}\\begin{bmatrix}\n",
    "1 & 0 & 0 \\\\\n",
    "\\frac{1}{2} & 1 & 0\\\\\n",
    "0 & 0 & 1 \\\\\n",
    "\\end{bmatrix}\n",
    "$$\n",
    "\n",
    "y compruebe que\n",
    "\n",
    "* $BA=I$\n",
    "* $AB=I$"
   ]
  },
  {
   "cell_type": "markdown",
   "metadata": {},
   "source": [
    "## Aplicar matrices de eliminación para encontrar la inversa\n",
    "\n",
    "Suponga que queremos encontrar la inversa de \n",
    "\n",
    "$$\n",
    "A=\\begin{bmatrix}\n",
    "2 & 3\\\\\n",
    "4 & 7\n",
    "\\end{bmatrix}\n",
    "$$ \n",
    "\n",
    "mediante el método de Gauss-Jordan. Lo primero que debemos hacer es poner la matriz en su forma $\\begin{bmatrix} A & I \\end{bmatrix}$:"
   ]
  },
  {
   "cell_type": "code",
   "execution_count": 37,
   "metadata": {},
   "outputs": [
    {
     "data": {
      "text/plain": [
       "matrix([[2, 3, 1, 0],\n",
       "        [4, 7, 0, 1]])"
      ]
     },
     "execution_count": 37,
     "metadata": {},
     "output_type": "execute_result"
    }
   ],
   "source": [
    "M = np.matrix([[2,3,1,0], [4,7,0,1]])\n",
    "M"
   ]
  },
  {
   "cell_type": "markdown",
   "metadata": {},
   "source": [
    "Ahora buscamos matrices de eliminación para obtener $\\begin{bmatrix} I & A^{-1} \\end{bmatrix}$:"
   ]
  },
  {
   "cell_type": "code",
   "execution_count": 38,
   "metadata": {},
   "outputs": [
    {
     "data": {
      "text/plain": [
       "matrix([[ 1,  0],\n",
       "        [-2,  1]])"
      ]
     },
     "execution_count": 38,
     "metadata": {},
     "output_type": "execute_result"
    }
   ],
   "source": [
    "E1 = np.matrix([[1,0], [-2, 1]])\n",
    "E1"
   ]
  },
  {
   "cell_type": "code",
   "execution_count": 39,
   "metadata": {},
   "outputs": [
    {
     "data": {
      "text/plain": [
       "matrix([[ 2,  3,  1,  0],\n",
       "        [ 0,  1, -2,  1]])"
      ]
     },
     "execution_count": 39,
     "metadata": {},
     "output_type": "execute_result"
    }
   ],
   "source": [
    "M = E1*M\n",
    "M"
   ]
  },
  {
   "cell_type": "markdown",
   "metadata": {},
   "source": [
    "Después de obtener una matriz triangular superior, debemos usar los pivotes para obtener una matriz diagonal:"
   ]
  },
  {
   "cell_type": "code",
   "execution_count": 41,
   "metadata": {},
   "outputs": [
    {
     "data": {
      "text/plain": [
       "matrix([[ 1, -3],\n",
       "        [ 0,  1]])"
      ]
     },
     "execution_count": 41,
     "metadata": {},
     "output_type": "execute_result"
    }
   ],
   "source": [
    "E2 = np.matrix([[1,-3], [0, 1]])\n",
    "E2"
   ]
  },
  {
   "cell_type": "code",
   "execution_count": 43,
   "metadata": {},
   "outputs": [
    {
     "data": {
      "text/plain": [
       "matrix([[ 2,  0,  7, -3],\n",
       "        [ 0,  1, -2,  1]])"
      ]
     },
     "execution_count": 43,
     "metadata": {},
     "output_type": "execute_result"
    }
   ],
   "source": [
    "M = E2*M\n",
    "M"
   ]
  },
  {
   "cell_type": "markdown",
   "metadata": {},
   "source": [
    "Ahora volvemos la diagonal 1:"
   ]
  },
  {
   "cell_type": "code",
   "execution_count": 44,
   "metadata": {},
   "outputs": [
    {
     "data": {
      "text/plain": [
       "matrix([[0.5, 0. ],\n",
       "        [0. , 1. ]])"
      ]
     },
     "execution_count": 44,
     "metadata": {},
     "output_type": "execute_result"
    }
   ],
   "source": [
    "E3 = np.matrix([[1/2,0], [0, 1]])\n",
    "E3"
   ]
  },
  {
   "cell_type": "code",
   "execution_count": 45,
   "metadata": {},
   "outputs": [
    {
     "data": {
      "text/plain": [
       "matrix([[ 1. ,  0. ,  3.5, -1.5],\n",
       "        [ 0. ,  1. , -2. ,  1. ]])"
      ]
     },
     "execution_count": 45,
     "metadata": {},
     "output_type": "execute_result"
    }
   ],
   "source": [
    "M = E3*M\n",
    "M"
   ]
  },
  {
   "cell_type": "markdown",
   "metadata": {},
   "source": [
    "Hemos obtenido la inversa en el lado derecho de la matriz aumentada.\n"
   ]
  },
  {
   "cell_type": "code",
   "execution_count": 54,
   "metadata": {},
   "outputs": [
    {
     "data": {
      "text/plain": [
       "matrix([[ 3.5, -1.5],\n",
       "        [-2. ,  1. ]])"
      ]
     },
     "execution_count": 54,
     "metadata": {},
     "output_type": "execute_result"
    }
   ],
   "source": [
    "B = M[:,2:]\n",
    "B"
   ]
  },
  {
   "cell_type": "markdown",
   "metadata": {},
   "source": [
    "También podemos obtenerla mediante la multiplicación $E_3E_2E_1$:"
   ]
  },
  {
   "cell_type": "code",
   "execution_count": 48,
   "metadata": {},
   "outputs": [
    {
     "data": {
      "text/plain": [
       "matrix([[ 3.5, -1.5],\n",
       "        [-2. ,  1. ]])"
      ]
     },
     "execution_count": 48,
     "metadata": {},
     "output_type": "execute_result"
    }
   ],
   "source": [
    "E3*E2*E1"
   ]
  },
  {
   "cell_type": "markdown",
   "metadata": {},
   "source": [
    "Comprobamos:"
   ]
  },
  {
   "cell_type": "code",
   "execution_count": 56,
   "metadata": {},
   "outputs": [
    {
     "name": "stdout",
     "output_type": "stream",
     "text": [
      "BA:\n",
      " [[1. 0.]\n",
      " [0. 1.]]\n",
      "AB:\n",
      " [[1. 0.]\n",
      " [0. 1.]]\n"
     ]
    }
   ],
   "source": [
    "A = np.matrix([[2,3], [4,7]])\n",
    "print(\"BA:\\n\", B*A)\n",
    "print(\"AB:\\n\", A*B)"
   ]
  },
  {
   "cell_type": "markdown",
   "metadata": {},
   "source": [
    "**Ejercicio 2:**\n",
    "\n",
    "Use el método de Gauss-Jordan para encontrar la inversa de\n",
    "\n",
    "$$\n",
    "A=\\begin{bmatrix}\n",
    "1 & 0 & 0\\\\\n",
    "3 & 1 & 0\\\\\n",
    "4 & 5 & 1\n",
    "\\end{bmatrix}\n",
    "$$"
   ]
  },
  {
   "cell_type": "markdown",
   "metadata": {},
   "source": [
    "## Ejercicios"
   ]
  },
  {
   "cell_type": "markdown",
   "metadata": {},
   "source": [
    "**Ejercicio 3:**\n",
    "\n",
    "¿Cuáles de las siguientes matrices son invertibles?:\n",
    "\n",
    "* $\\begin{bmatrix}\n",
    "4 & 3\\\\\n",
    "8 & 6\n",
    "\\end{bmatrix}$\n",
    "* $\\begin{bmatrix}\n",
    "4 & 3\\\\\n",
    "8 & 7\n",
    "\\end{bmatrix}$\n",
    "* $\\begin{bmatrix}\n",
    "6 & 6\\\\\n",
    "6 & 0\n",
    "\\end{bmatrix}$\n",
    "* $\\begin{bmatrix}\n",
    "6 & 6\\\\\n",
    "6 & 6\n",
    "\\end{bmatrix}$\n",
    "* $\\begin{bmatrix}\n",
    "1 & 0 & 0\\\\\n",
    "1 & 1 & 0\\\\\n",
    "1 & 1 & 1\n",
    "\\end{bmatrix}$\n",
    "* $\\begin{bmatrix}\n",
    "1 & 1 & 1\\\\\n",
    "1 & 1 & 0\\\\\n",
    "1 & 1 & 1\n",
    "\\end{bmatrix}$\n"
   ]
  },
  {
   "cell_type": "markdown",
   "metadata": {},
   "source": [
    "**Ejercicio 4:**\n",
    "\n",
    "Mediante la fórmula de las diapositivas, encuentre las inversas de \n",
    "$$\n",
    "A = \\begin{bmatrix}\n",
    "0 & 3\\\\\n",
    "4 & 0\\\n",
    "\\end{bmatrix}\\qquad B = \\begin{bmatrix}\n",
    "2 & 0\\\\\n",
    "4 & 2\\\\\n",
    "\\end{bmatrix}\\qquad C = \\begin{bmatrix}\n",
    "3 & 4\\\\\n",
    "5 & 6\\\\\n",
    "\\end{bmatrix}\n",
    "$$\n"
   ]
  },
  {
   "cell_type": "markdown",
   "metadata": {},
   "source": [
    "**Ejercicio 5:**\n",
    "\n",
    "Para las siguientes matrices de permutación, encuentre $P^{-1}$:\n",
    "\n",
    "$$\n",
    "P = \\begin{bmatrix}\n",
    "0 & 0 & 1\\\\\n",
    "0 & 1 & 0\\\\\n",
    "1 & 0 & 0\n",
    "\\end{bmatrix}\\qquad P = \\begin{bmatrix}\n",
    "0 & 1 & 0\\\\\n",
    "0 & 0 & 1\\\\\n",
    "1 & 0 & 0\n",
    "\\end{bmatrix}\n",
    "$$"
   ]
  },
  {
   "cell_type": "markdown",
   "metadata": {},
   "source": [
    "**Ejercicio 6:**\n",
    "\n",
    "Encuentre una matriz triangular superior $U$ (que no sea diagonal) tal que $U^2=I$ y $U=U^{-1}$."
   ]
  },
  {
   "cell_type": "markdown",
   "metadata": {},
   "source": [
    "**Ejercicio 7:**\n",
    "\n",
    "Suponga que $A=\\begin{bmatrix}1&1\\\\ 1&1\\end{bmatrix}$. Encuentre dos matrices distintas $B$ y $C$ tales que $AB=AC$."
   ]
  },
  {
   "cell_type": "markdown",
   "metadata": {},
   "source": [
    "**Ejercicio 8:**\n",
    "\n",
    "Encuentre las inversas de\n",
    "\n",
    "$$\n",
    "A = \\begin{bmatrix}\n",
    "0 & 0 & 0 & 2\\\\\n",
    "0 & 0 & 3 & 0\\\\\n",
    "0 & 4 & 0 & 0\\\\\n",
    "5 & 0 & 0 & 0\n",
    "\\end{bmatrix}\\qquad B = \\begin{bmatrix}\n",
    "3 & 2 & 0 & 0\\\\\n",
    "4 & 3 & 0 & 0\\\\\n",
    "0 & 0 & 6 & 5\\\\\n",
    "0 & 0 & 7 & 6\n",
    "\\end{bmatrix}\n",
    "$$"
   ]
  },
  {
   "cell_type": "markdown",
   "metadata": {},
   "source": [
    "## Revisión de las ideas principales\n",
    "\n",
    "* La matriz inversa produce $AA^{-1}=I$ y $A^{-1}A=I$.\n",
    "* $A$ es invertible si, y sólo si, tiene $n$ pivotes.\n",
    "* Si $A\\pmb{x}=\\pmb{0}$ para un vector no nulo $\\pmb{x}$, entonces $A$ no es invertible.\n",
    "* La inversa de $AB$ es el producto en orden inverso $B^{-1}A^{-1}$. Similarmente, $(ABC)^{-1}=C^{-1}B^{-1}A^{-1}$.\n",
    "* El método de Gauss-Jordan encuentra la solución de $AA^{-1}=I$ buscando las $n$ columnas de $A^{-1}$. La matriz aumentada $\\begin{bmatrix} A I \\end{bmatrix}$ se reduce por filas a $\\begin{bmatrix} I A^{-1}\\end{bmatrix}$.\n",
    "\n",
    "\n",
    "\n",
    "## Referencias\n",
    "\n",
    "- Strang, Gilbert (2009) *Introduction to Linear Algebra*, 4th Edition. Wellesley-Cambridge Press, 2009.\n"
   ]
  }
 ],
 "metadata": {
  "kernelspec": {
   "display_name": "Python 3",
   "language": "python",
   "name": "python3"
  },
  "language_info": {
   "codemirror_mode": {
    "name": "ipython",
    "version": 3
   },
   "file_extension": ".py",
   "mimetype": "text/x-python",
   "name": "python",
   "nbconvert_exporter": "python",
   "pygments_lexer": "ipython3",
   "version": "3.9.1"
  }
 },
 "nbformat": 4,
 "nbformat_minor": 4
}
