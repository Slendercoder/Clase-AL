{
 "cells": [
  {
   "cell_type": "markdown",
   "metadata": {},
   "source": [
    "<table>\n",
    "    <tr>\n",
    "        <td><img src=\"./img/Macc.png\" width=\"400\"/></td>\n",
    "        <td>&nbsp;</td>\n",
    "        <td>\n",
    "            <h1 style=\"color:blue;text-align:left\">Álgebra Lineal</h1></td>\n",
    "        <td>\n",
    "            <table><tr>\n",
    "            <tp><p style=\"font-size:150%;text-align:center\">Sesión 1</p></tp>\n",
    "            <tp><p style=\"font-size:150%;text-align:center\">Vectores y combinaciones lineales</p></tp>\n",
    "            </tr></table>\n",
    "        </td>\n",
    "    </tr>\n",
    "</table>\n",
    "\n",
    "---"
   ]
  },
  {
   "cell_type": "markdown",
   "metadata": {},
   "source": [
    "## Objetivos\n",
    "\n",
    "1. Distinguir y relacionar las posibles maneras de representar un vector.\n",
    "2. Realizar operaciones básicas entre vectores.\n",
    "\n",
    "Adaptado de Strang (2009), capítulo 1, sección 1.1.\n",
    "\n",
    "\n",
    "## Tres maneras de ver a los vectores\n",
    "\n",
    "Uno de los tres temas más importantes del Álgebra Lineal son los vectores (los otros dos son las matrices y las transformaciones lineales). Los vectores se pueden representar de varias maneras y todas son importantes de manejar. Es más, poder entender bien los vectores supone poder pasar de una representación a otra de manera natural. Las tres maneras de representar a los vectores son la representación algebráica, la representación por coordenadas y la representación geométrica, las cuales pasamos a describir."
   ]
  },
  {
   "cell_type": "markdown",
   "metadata": {},
   "source": [
    "### Representación algebráica\n",
    "\n",
    "Es la representación más abstracta de los vectores. A la pregunta ¿qué son los vectores? respondemos \"Son los elementos de un espacio vectorial\". Y a la pregunta ¿qué es un espacio vectorial? respondemos \"Es una colección de vectores\". \n",
    "\n",
    "Hablando más en serio, la representación algebráica consiste en definir una colección de vectores mediante un *sistema de axiomas* (ver, por ejemplo, Apostol, 2006). En este curso no veremos tal sistema. No obstante, sí veremos muchos ejemplos de espacios vectoriales y su relación con sus *subespacios*. \n",
    "\n",
    "Para nuestros propósitos, podemos decir que un vector 'vive' en un espacio vectorial, junto con otros vectores, los cuales se operan entre sí mediante algunas operaciones que veremos más adelante. \n",
    "\n",
    "Los nómbres más usados para los vectores serán $\\pmb{u}$, $\\pmb{v}$, $\\pmb{w}$, escritos en itálica y negrilla."
   ]
  },
  {
   "cell_type": "markdown",
   "metadata": {},
   "source": [
    "### Representación por coordenadas\n",
    "\n",
    "La manera anterior de representar un vector no nos dijo mucho sobre los vectores. Y no hemos dicho mucho dado que no vamos a considerar los vectores desde un punto de vista axiomático, pero esta es la manera principal mediante la cual los matemáticos suelen tratar a los vectores. Ahora bien, podemos en efecto dar una mejor ilustración de los vectores.\n",
    "\n",
    "Resulta que un aspecto muy importante de los vectores es que pueden representarse mediante *coordenadas*. Cada coordenada es un valor concreto a lo largo de una dimensión específica. Esta idea -- a saber, considerar de manera simultánea valores concretos de varias dimensiones distintas -- es precisamente lo que le da su razón de ser a los vectores.\n",
    "\n",
    "Por ejemplo, podemos pensar en $\\pmb{v}=(v_1, v_2)$, donde $v_1$ y $v_2$ son números reales. Este es un vector que se representa mediante dos coordenadas. Otros vectores deben representarse mediante más coordenadas. Por ejemplo, podemos pensar en $\\pmb{u}=(u_1, u_2, u_3)$, donde $u_1$, $u_2$ y $u_3$ son números reales. Cualquier número de coordenadas es posible (incluso es posible tener un número infinito de coordenadas).\n",
    "\n",
    "**Nota:** Todos los vectores que viven en el mismo espacio vectorial se representan mediante el mismo número de coordenadas.\n",
    "\n",
    "Consideremos un ejemplo para ilustrar mejor la idea de representar un vector mediante coordenadas. Una reconstrucción teórica de la producción de una fábrica puede hacerse mediante vectores. Un vector puede asociarse a un producto particular en términos de cuáles y cuántos insumos se requieren para su producción. En una fábrica de textiles, un vector puede ser un mantel, otro una falda y otro una camisa, dependiendo de su valor concreto respecto a los insumos que se requieren para su producción.\n",
    "\n",
    "<table>\n",
    "    <tr>\n",
    "        <td><img src=\"./img/mantel.webp\" width=\"100\"/></td>\n",
    "        <td><img src=\"./img/falda.webp\" width=\"100\"/></td>\n",
    "        <td><img src=\"./img/camisa.jpg\" width=\"100\"/></td>\n",
    "    </tr>\n",
    "    <tr>\n",
    "        <td>tela: 3m$^2$</td>\n",
    "        <td>tela: 1.5m$^2$</td>\n",
    "        <td>tela: 2m$^2$</td>\n",
    "    </tr>\n",
    "    <tr>\n",
    "        <td>Hilo: 4m</td>\n",
    "        <td>Hilo: 5m</td>\n",
    "        <td>Hilo: 6m</td>\n",
    "    </tr>\n",
    "    <tr>\n",
    "        <td>Botones: 0</td>\n",
    "        <td>Botones: 4</td>\n",
    "        <td>Botones: 11</td>\n",
    "    </tr>\n",
    "</table>\n",
    "\n",
    "En este ejemplo, un mantel se puede representar mediante el vector $(3, 4, 0)$."
   ]
  },
  {
   "cell_type": "markdown",
   "metadata": {},
   "source": [
    "**Ejercicio 1:**\n",
    "\n",
    "¿Qué vectores representan a la falda y a la camisa?"
   ]
  },
  {
   "cell_type": "markdown",
   "metadata": {},
   "source": [
    "### Representación geométrica\n",
    "\n",
    "Mediante un plano coordenado es posible dibujar los vectores de acuerdo a su representación por coordenadas. Dado un vector $\\pmb{v}=(v_1, v_2)$, ponemos en el eje $x$ el valor $v_1$ y en el eje $y$ el valor $v_2$. Este es un extremo del vector. El otro extremo de $\\pmb{v}$ -- en efecto, de *cualquier* vector -- es el origen, es decir, el punto $(0,0)$.\n",
    "\n",
    "En este punto nos valdremos de las herramientas de Python para dibujar vectores. El siguiente código define la clase de objetos llamados `EspacioVectorial2D`, los cuales permiten mantener una colección de vectores en dos dimensiones, como bien lo dice su nombre. Estos objetos nos serán muy útiles a la hora de dibujar vectores."
   ]
  },
  {
   "cell_type": "code",
   "execution_count": 1,
   "metadata": {},
   "outputs": [],
   "source": [
    "import numpy as np\n",
    "import matplotlib.pyplot as plt\n",
    "\n",
    "class EspacioVectorial2D :\n",
    "    \n",
    "    def __init__(self) :\n",
    "        self.vectores = np.array([[0], [0]])\n",
    "        self.colores = ['black']\n",
    "        self.nombres = ['O']\n",
    "    \n",
    "    def asignar_vector(self, nombre, x, y, color='blue'):\n",
    "        if nombre not in self.nombres:\n",
    "            self.vectores = np.c_[self.vectores, np.array([[x], [y]])]\n",
    "            self.nombres.append(nombre)\n",
    "            self.colores.append(color)\n",
    "            print(f\"Vector {nombre} creado!\")\n",
    "        else:\n",
    "            indice = self.nombres.index(nombre)\n",
    "            self.vectores[0,indice] = x\n",
    "            self.vectores[1,indice] = y\n",
    "            self.colores[indice] = color\n",
    "            print(f\"Vector {nombre} modificado!\")\n",
    "    \n",
    "    def coordenadas(self, nombre) :\n",
    "        indice = self.nombres.index(nombre)\n",
    "        return self.vectores[:,indice]\n",
    "        \n",
    "    def dibujar(self, dim=1):\n",
    "        V = self.vectores\n",
    "        num_rows, num_cols = V.shape\n",
    "        ceros = [0]*num_cols\n",
    "        origin = np.array([ceros, ceros])\n",
    "        xses = V[0,:]\n",
    "        x_max = np.max(xses) + 0.5\n",
    "        x_min = np.min(xses) - 0.5\n",
    "        yses = V[1,:]\n",
    "        y_max = np.max(yses) + 0.5\n",
    "        y_min = np.min(yses) - 0.5\n",
    "        fig = plt.subplots(figsize=(dim*(x_max-x_min), dim*(y_max-y_min)))\n",
    "        plt.quiver(*origin, \n",
    "                   xses, \n",
    "                   yses, \n",
    "                   color=self.colores, \n",
    "                   angles='xy', \n",
    "                   scale_units='xy', \n",
    "                   scale=1)\n",
    "        plt.axis([x_min, x_max, y_min, y_max])\n",
    "        plt.show()\n",
    "\n",
    "    def puntos(self):\n",
    "        V = self.vectores[:, 1:]\n",
    "        xses = V[0,:]\n",
    "        x_max = np.max(xses) + 0.5\n",
    "        x_min = np.min(xses) - 0.5\n",
    "        yses = V[1,:]\n",
    "        y_max = np.max(yses) + 0.5\n",
    "        y_min = np.min(yses) - 0.5\n",
    "        plt.scatter(xses, yses)\n",
    "        plt.axis([x_min, x_max, y_min, y_max])\n",
    "        plt.show()"
   ]
  },
  {
   "cell_type": "markdown",
   "metadata": {},
   "source": [
    "El código anterior no es más que la definición de la clase. Ahora vamos a crear un objeto, asignarle dos vectores mediante el método `asignar_vector` y a dibujar los vectores que contiene."
   ]
  },
  {
   "cell_type": "code",
   "execution_count": 2,
   "metadata": {},
   "outputs": [
    {
     "name": "stdout",
     "output_type": "stream",
     "text": [
      "Vector v creado!\n",
      "Vector w creado!\n"
     ]
    },
    {
     "data": {
      "image/png": "[encoded data removed]",
      "text/plain": [
       "<Figure size 216x288 with 1 Axes>"
      ]
     },
     "metadata": {
      "needs_background": "light"
     },
     "output_type": "display_data"
    }
   ],
   "source": [
    "EV = EspacioVectorial2D()\n",
    "EV.asignar_vector(nombre='v', x=2, y=3, color='black')\n",
    "EV.asignar_vector(nombre='w', x=1, y=1, color='red')\n",
    "EV.dibujar()"
   ]
  },
  {
   "cell_type": "markdown",
   "metadata": {},
   "source": [
    "Si no nos gusta el color negro para el vector $\\pmb{v}$ ni tampoco su posición, dado que está muy cerca del vector $\\pmb{w}$, lo podemos modificar así:"
   ]
  },
  {
   "cell_type": "code",
   "execution_count": 3,
   "metadata": {},
   "outputs": [
    {
     "name": "stdout",
     "output_type": "stream",
     "text": [
      "Vector v modificado!\n"
     ]
    },
    {
     "data": {
      "image/png": "[encoded data removed]",
      "text/plain": [
       "<Figure size 324x216 with 1 Axes>"
      ]
     },
     "metadata": {
      "needs_background": "light"
     },
     "output_type": "display_data"
    }
   ],
   "source": [
    "EV.asignar_vector(nombre='v', x=2, y=1, color='blue')\n",
    "EV.dibujar(1.5)"
   ]
  },
  {
   "cell_type": "markdown",
   "metadata": {},
   "source": [
    "**Ejercicio 2:**\n",
    "\n",
    "Modifique la posición del vector $\\pmb{w}$ para que quede en el cuarto cuadrante."
   ]
  },
  {
   "cell_type": "markdown",
   "metadata": {},
   "source": [
    "**Ejercicio 3:**\n",
    "\n",
    "Cree un vector $\\pmb{u}$ en el segundo cuadrante y dibújelo."
   ]
  },
  {
   "cell_type": "markdown",
   "metadata": {},
   "source": [
    "## Operaciones básicas\n",
    "\n",
    "La operación por excelencia del Álgebra Lineal se llama la *combinación lineal*. Una combinación lineal es una *suma* de *múltiplos escalares* de vectores. Así pues, para entender una combinación lineal debemos entender primero estas dos operaciones. \n",
    "\n",
    "### Suma\n",
    "\n",
    "Es muy sencilla la suma. Lo que hay que hacer para sumar dos vectores es sumar por componentes. Por ejemplo, si $\\pmb{v}=(v_1,v_2)$ y $\\pmb{w}=(w_1,w_2)$, entonces\n",
    "\n",
    "$\\pmb{v} + \\pmb{w} = (v_1 + w_1, v_2 + w_2)$\n",
    "\n",
    "Hasta mi hijo que está en primaria puede sumar vectores. Lo que veremos ahora es cómo utilizar las herramientas de Python para hacer suma de vectores y, adicionalmente, cómo se representa geométricamente esta suma.\n",
    "\n",
    "En primer lugar, tenemos el método `coordenadas` de nuestro objeto `EspacioVectorial2D` mediante el cual podemos obtener un vector (`array` en Pyhton). Por ejemplo, mediante la siguiente instrucción podemos obtener el vector $\\pmb{v}$:"
   ]
  },
  {
   "cell_type": "code",
   "execution_count": 4,
   "metadata": {},
   "outputs": [
    {
     "data": {
      "text/plain": [
       "array([2, 1])"
      ]
     },
     "execution_count": 4,
     "metadata": {},
     "output_type": "execute_result"
    }
   ],
   "source": [
    "v = EV.coordenadas('v')\n",
    "v"
   ]
  },
  {
   "cell_type": "markdown",
   "metadata": {},
   "source": [
    "También el vector $\\pmb{w}$:"
   ]
  },
  {
   "cell_type": "code",
   "execution_count": 5,
   "metadata": {},
   "outputs": [
    {
     "data": {
      "text/plain": [
       "array([1, 1])"
      ]
     },
     "execution_count": 5,
     "metadata": {},
     "output_type": "execute_result"
    }
   ],
   "source": [
    "w = EV.coordenadas('w')\n",
    "w"
   ]
  },
  {
   "cell_type": "markdown",
   "metadata": {},
   "source": [
    "Y, finalmente, el vector $\\pmb{v} + \\pmb{w}$: \n",
    "\n",
    "(Antes de correr la siguiente celda, encuentre en su mente las coordenadas de $\\pmb{v} + \\pmb{w}$)"
   ]
  },
  {
   "cell_type": "code",
   "execution_count": 6,
   "metadata": {},
   "outputs": [
    {
     "data": {
      "text/plain": [
       "array([3, 2])"
      ]
     },
     "execution_count": 6,
     "metadata": {},
     "output_type": "execute_result"
    }
   ],
   "source": [
    "suma_v_w = v + w\n",
    "suma_v_w"
   ]
  },
  {
   "cell_type": "markdown",
   "metadata": {},
   "source": [
    "Hemos encontrado la suma y la podemos dibujar:"
   ]
  },
  {
   "cell_type": "code",
   "execution_count": 7,
   "metadata": {},
   "outputs": [
    {
     "name": "stdout",
     "output_type": "stream",
     "text": [
      "Vector v+w creado!\n"
     ]
    },
    {
     "data": {
      "image/png": "[encoded data removed]",
      "text/plain": [
       "<Figure size 576x432 with 1 Axes>"
      ]
     },
     "metadata": {
      "needs_background": "light"
     },
     "output_type": "display_data"
    }
   ],
   "source": [
    "EV.asignar_vector(nombre='v+w', x=suma_v_w[0], y=suma_v_w[1], color='violet')\n",
    "EV.dibujar(2)"
   ]
  },
  {
   "cell_type": "markdown",
   "metadata": {},
   "source": [
    "**Nota:** Cuando los vectores se consideran de manera geométrica, su suma se puede encontrar mediante la ley del paralelogramo. Esto es, se usan los vectores sumandos como los lados de un paralelogramo. Se completa el paralelogramo y la suma de los vectores es su diagonal. ¡Compruebe esto en el dibujo para $\\pmb{u} + \\pmb{v}$! \n",
    "\n",
    "**Ejercicio 4:**\n",
    "\n",
    "Use la ley del paralelogramo para encontrar, en su pantalla, los vectores $\\pmb{u} + \\pmb{v}$ y $\\pmb{u} + \\pmb{w}$."
   ]
  },
  {
   "cell_type": "markdown",
   "metadata": {},
   "source": [
    "**Ejercicio 5:**\n",
    "\n",
    "Encuentre y dibuje los vectores $\\pmb{u} + \\pmb{v}$ y $\\pmb{u} + \\pmb{w}$."
   ]
  },
  {
   "cell_type": "markdown",
   "metadata": {},
   "source": [
    "### Multiplicación por escalar\n",
    "\n",
    "La multiplicación por escalar también es muy fácil (¡casi todo en el Álgebra Lineal es muy fácil!). Lo que hay que hacer es tomar un vector $\\pmb{v}$ y un *escalar* $c$ (un nombre elegante para referirse a un número real) y multiplicar cada componente de $\\pmb{v}$ por $c$. Así, si estuviéramos en dos dimensiones y $\\pmb{v}=(v_1,v_2)$, entonces\n",
    "\n",
    "$c\\pmb{v} = (cv_1, cv_2)$\n",
    "\n",
    "En Python es muy fácil hacer la multiplicación por escalar:"
   ]
  },
  {
   "cell_type": "code",
   "execution_count": 8,
   "metadata": {},
   "outputs": [
    {
     "name": "stdout",
     "output_type": "stream",
     "text": [
      "[2 1]\n",
      "[4 2]\n"
     ]
    }
   ],
   "source": [
    "print(v)\n",
    "print(2 * v)"
   ]
  },
  {
   "cell_type": "markdown",
   "metadata": {},
   "source": [
    "Veamos ahora la representación geométrica de un múltiplo escalar de un vector. Para mayor comodidad, reiniciemos nuestro objeto de espacio vectorial de la siguiente manera:"
   ]
  },
  {
   "cell_type": "code",
   "execution_count": 9,
   "metadata": {},
   "outputs": [
    {
     "name": "stdout",
     "output_type": "stream",
     "text": [
      "Vector v creado!\n",
      "Vector w creado!\n"
     ]
    },
    {
     "data": {
      "image/png": "[encoded data removed]",
      "text/plain": [
       "<Figure size 324x324 with 1 Axes>"
      ]
     },
     "metadata": {
      "needs_background": "light"
     },
     "output_type": "display_data"
    }
   ],
   "source": [
    "EV = EspacioVectorial2D()\n",
    "EV.asignar_vector(nombre='v', x=1, y=0, color='red')\n",
    "EV.asignar_vector(nombre='w', x=2, y=2, color='blue')\n",
    "v = EV.coordenadas('v')\n",
    "EV.dibujar(1.5)"
   ]
  },
  {
   "cell_type": "markdown",
   "metadata": {},
   "source": [
    "Ahora dibujamos el vector $2\\pmb{v}$:"
   ]
  },
  {
   "cell_type": "code",
   "execution_count": 10,
   "metadata": {},
   "outputs": [
    {
     "name": "stdout",
     "output_type": "stream",
     "text": [
      "Vector 2v creado!\n"
     ]
    },
    {
     "data": {
      "image/png": "[encoded data removed]",
      "text/plain": [
       "<Figure size 324x324 with 1 Axes>"
      ]
     },
     "metadata": {
      "needs_background": "light"
     },
     "output_type": "display_data"
    }
   ],
   "source": [
    "x = (2 * v)[0]\n",
    "y = (2 * v)[1]\n",
    "EV.asignar_vector(nombre='2v', x=x, y=y, color='green')\n",
    "EV.dibujar(1.5)"
   ]
  },
  {
   "cell_type": "markdown",
   "metadata": {},
   "source": [
    "Y podemos dibujar algunos múltiplos más de $\\pmb{v}$:"
   ]
  },
  {
   "cell_type": "code",
   "execution_count": 11,
   "metadata": {},
   "outputs": [
    {
     "name": "stdout",
     "output_type": "stream",
     "text": [
      "Vector 3v creado!\n",
      "Vector 4v creado!\n",
      "Vector 5v creado!\n",
      "Vector 6v creado!\n"
     ]
    },
    {
     "data": {
      "image/png": "[encoded data removed]",
      "text/plain": [
       "<Figure size 504x216 with 1 Axes>"
      ]
     },
     "metadata": {
      "needs_background": "light"
     },
     "output_type": "display_data"
    }
   ],
   "source": [
    "for c in range(3, 7):\n",
    "    EV.asignar_vector(nombre=str(c) + 'v', x=(c * v)[0], y=(c * v)[1], color='green')\n",
    "\n",
    "EV.dibujar()"
   ]
  },
  {
   "cell_type": "markdown",
   "metadata": {},
   "source": [
    "**Ejercicio 6:**\n",
    "\n",
    "- ¿En dónde se encuentran los múltiplos de $\\pmb{v}$ cuando $c<0$? \n",
    "- Dibuje algunos cuantos múltiplos negativos de $\\pmb{v}$.\n",
    "- ¿En dónde se encuentran los múltiplos de $\\pmb{v}$ si $\\pmb{v}=(0,0)$?"
   ]
  },
  {
   "cell_type": "markdown",
   "metadata": {},
   "source": [
    "**Nota:** Cuando un vector $\\pmb{v}$ se considera de manera geométrica, los múltiplos escalares de $\\pmb{v}$ son vectores en la misma dirección de $\\pmb{v}$, pero cuya longitud es un múltiplo de la longitud de $\\pmb{v}$. Así pues, si consideramos la colección de todos los múltiplos escalares de un vector no nulo $\\pmb{v}$ obtenemos una línea que pasa por el origen en la dirección de $\\pmb{v}$."
   ]
  },
  {
   "cell_type": "markdown",
   "metadata": {},
   "source": [
    "### Combinaciones lineales"
   ]
  },
  {
   "cell_type": "markdown",
   "metadata": {},
   "source": [
    "Ahora ya tenemos las herramientas para entender las combinaciones lineales. La combinación lineal de dos vectores $\\pmb{v}$ y $\\pmb{w}$ se define como\n",
    "\n",
    "$c\\pmb{v} + d\\pmb{w}$\n",
    "\n",
    "para algunos escalares $c$ y $d$.\n",
    "\n",
    "Si tuviéramos tres vectores, $\\pmb{u}$, $\\pmb{v}$ y $\\pmb{w}$, su combinación lineal se define como\n",
    "\n",
    "$c\\pmb{u} + d\\pmb{v} + e\\pmb{w}$\n",
    "\n",
    "para algunos escalares $c$, $d$ y $e$.\n",
    "\n",
    "Observe las siguientes cuatro combinaciones lineales especiales:\n",
    "\n",
    "- $1\\pmb{v} + 1\\pmb{w}$ corresponde a la suma de vectores.\n",
    "- $1\\pmb{v} - 1\\pmb{w}$ corresponde a la resta de vectores.\n",
    "- $0\\pmb{v} + 0\\pmb{w}$ corresponde al vector cero o nulo.\n",
    "- $c\\pmb{v} + 0\\pmb{w}$ corresponde a un múltiplo escalar de $\\pmb{v}$.\n",
    "\n",
    " "
   ]
  },
  {
   "cell_type": "markdown",
   "metadata": {},
   "source": [
    "**Ejercicio 7:**\n",
    "\n",
    "Suponga que $\\pmb{v}=(1,0)$ y $\\pmb{w}=(0,1)$. \n",
    "\n",
    "- Describa todos los puntos $c\\pmb{v}$ cuando $c$ es un entero positivo.\n",
    "- Describa todas las combinaciones lineales $c\\pmb{v}+d\\pmb{w}$ para todos los posibles números reales $d$. \n",
    "- Encuentre una combinación lineal de $\\pmb{v}$ y $\\pmb{w}$ que corresponda al vector $(2, 4.5)$."
   ]
  },
  {
   "cell_type": "markdown",
   "metadata": {},
   "source": [
    "## Ejemplos en 3D\n",
    "\n",
    "Las herramientas de Python nos son muy útiles para dibujar los vectores en tres dimensiones. Comenzamos por definir la clase `EspacioVectorial3D`."
   ]
  },
  {
   "cell_type": "code",
   "execution_count": 12,
   "metadata": {},
   "outputs": [],
   "source": [
    "class EspacioVectorial3D :\n",
    "    \n",
    "    def __init__(self) :\n",
    "        self.vectores = np.array([[0], [0], [0]])\n",
    "        self.colores = ['black']\n",
    "        self.nombres = ['O']\n",
    "    \n",
    "    def asignar_vector(self, nombre, x, y, z, color='blue'):\n",
    "        if nombre not in self.nombres:\n",
    "            self.vectores = np.c_[self.vectores, np.array([[x], [y], [z]])]\n",
    "            self.nombres.append(nombre)\n",
    "            self.colores.append(color)\n",
    "        else:\n",
    "            indice = self.nombres.index(nombre)\n",
    "            self.vectores[0,indice] = x\n",
    "            self.vectores[1,indice] = y\n",
    "            self.vectores[2,indice] = z\n",
    "            self.colores[indice] = color\n",
    "    \n",
    "    def coordenadas(self, nombre) :\n",
    "        indice = self.nombres.index(nombre)\n",
    "        return self.vectores[:,indice]\n",
    "        \n",
    "    def dibujar(self, elevacion=30, angulo=45):\n",
    "        V = self.vectores\n",
    "        num_rows, num_cols = V.shape\n",
    "        ceros = [0]*num_cols\n",
    "        origin = np.array([ceros, ceros, ceros])\n",
    "        xses = V[0,:]\n",
    "        x_max = np.max(xses) + 0.5\n",
    "        x_min = np.min(xses) - 0.5\n",
    "        yses = V[1,:]\n",
    "        y_max = np.max(yses) + 0.5\n",
    "        y_min = np.min(yses) - 0.5\n",
    "        zses = V[1,:]\n",
    "        z_max = np.max(zses) + 0.5\n",
    "        z_min = np.min(zses) - 0.5\n",
    "        fig = plt.figure()\n",
    "        ax = fig.add_subplot(111, projection='3d')\n",
    "        ax.quiver(*origin, \n",
    "                   xses, \n",
    "                   yses,\n",
    "                   zses\n",
    "                  )\n",
    "        ax.set_xlim([x_min, x_max])\n",
    "        ax.set_ylim([y_min, y_max])\n",
    "        ax.set_zlim([z_min, z_max])\n",
    "        ax.view_init(elevacion, angulo)\n",
    "        plt.show()\n",
    "        \n",
    "    def puntos(self, elevacion, angulo):\n",
    "        V = self.vectores[:, 1:]\n",
    "        xses = V[0,:]\n",
    "        x_max = np.max(xses) + 0.5\n",
    "        x_min = np.min(xses) - 0.5\n",
    "        yses = V[1,:]\n",
    "        y_max = np.max(yses) + 0.5\n",
    "        y_min = np.min(yses) - 0.5\n",
    "        zses = V[2,:]\n",
    "        z_max = np.max(zses) + 0.5\n",
    "        z_min = np.min(zses) - 0.5\n",
    "        fig = plt.figure()\n",
    "        ax = fig.add_subplot(111, projection='3d')\n",
    "        ax.scatter(xses, yses, zses)\n",
    "        ax.view_init(elevacion, angulo)\n",
    "        plt.show()"
   ]
  },
  {
   "cell_type": "markdown",
   "metadata": {},
   "source": [
    "Ahora definimos un par de vectores:"
   ]
  },
  {
   "cell_type": "code",
   "execution_count": 13,
   "metadata": {},
   "outputs": [],
   "source": [
    "EV = EspacioVectorial3D()\n",
    "EV.asignar_vector(nombre='v', x=1, y=1, z=0)\n",
    "EV.asignar_vector(nombre='w', x=0, y=1, z=1)"
   ]
  },
  {
   "cell_type": "markdown",
   "metadata": {},
   "source": [
    "Para dibujar, debemos seleccionar una `elevación` y un `angulo`. Podemos modificarlos varias veces para darnos una mejor idea de los vectores en el espacio tridimensional:"
   ]
  },
  {
   "cell_type": "code",
   "execution_count": 14,
   "metadata": {},
   "outputs": [
    {
     "data": {
      "image/png": "[encoded data removed]",
      "text/plain": [
       "<Figure size 432x288 with 1 Axes>"
      ]
     },
     "metadata": {
      "needs_background": "light"
     },
     "output_type": "display_data"
    }
   ],
   "source": [
    "EV.dibujar(elevacion=15, angulo=5)"
   ]
  },
  {
   "cell_type": "markdown",
   "metadata": {},
   "source": [
    "El ejercicio ahora es ver qué forman todas las combinaciones lineales de los vectores $\\pmb{v}=(1,1,0)$ y $\\pmb{w}=(0,1,1)$. Podemos hacer esto de manera relativamente fácil mediante nuestro objeto `EspacioVectorial3D`:"
   ]
  },
  {
   "cell_type": "code",
   "execution_count": 15,
   "metadata": {},
   "outputs": [],
   "source": [
    "v = EV.coordenadas('v')\n",
    "w = EV.coordenadas('w')\n",
    "\n",
    "for c in [0.1*i for i in range(20)]:\n",
    "    for d in [0.1*i for i in range(20)]:\n",
    "        EV.asignar_vector(nombre=str(c)+'v+'+str(d)+'w', \n",
    "                          x=c*v[0]+d*w[0], \n",
    "                          y=c*v[1]+d*w[1], \n",
    "                          z=c*v[2]+d*w[2]\n",
    "                         )"
   ]
  },
  {
   "cell_type": "code",
   "execution_count": 16,
   "metadata": {},
   "outputs": [
    {
     "data": {
      "image/png": "[encoded data removed]",
      "text/plain": [
       "<Figure size 432x288 with 1 Axes>"
      ]
     },
     "metadata": {
      "needs_background": "light"
     },
     "output_type": "display_data"
    }
   ],
   "source": [
    "EV.puntos(elevacion=15, angulo=5)"
   ]
  },
  {
   "cell_type": "markdown",
   "metadata": {},
   "source": [
    "## Ejercicios"
   ]
  },
  {
   "cell_type": "markdown",
   "metadata": {},
   "source": [
    "**Ejercicio 8:**\n",
    "\n",
    "Describa geométricamente todas las combinaciones lineales de los siguientes pares de vectores:\n",
    "\n",
    "- $(1, 2, 3)$ y $(3, 6, 9)$\n",
    "- $(1, 0, 0)$ y $(0, 2, 3)$\n",
    "- $(2, 0, 0)$ y $(0, 2, 2)$ y $(2, 2, 3)$."
   ]
  },
  {
   "cell_type": "markdown",
   "metadata": {},
   "source": [
    "**Ejercicio 9:**\n",
    "\n",
    "Si $\\pmb{v}=(2, 1)$ y $\\pmb{w}=(1, 2)$, encuentre los componentes de $3\\pmb{v}+\\pmb{w}$ y $c\\pmb{v}+d\\pmb{w}$."
   ]
  },
  {
   "cell_type": "markdown",
   "metadata": {},
   "source": [
    "**Ejercicio 10:**\n",
    "\n",
    "Si $\\pmb{v}+\\pmb{w}=(5, 1)$ y $\\pmb{v}-\\pmb{w}=(1, 5)$, compute y dibuje $\\pmb{v}$ y $\\pmb{w}$."
   ]
  },
  {
   "cell_type": "markdown",
   "metadata": {},
   "source": [
    "**Ejercicio 11:**\n",
    "\n",
    "Si $\\pmb{v}=(1, -2, 1)$ y $\\pmb{w}=(0, 1, -1)$, encuentre $c$ y $d$ tales que $c\\pmb{v}+d\\pmb{w}=(3, 3, -6)$."
   ]
  },
  {
   "cell_type": "markdown",
   "metadata": {},
   "source": [
    "## Revisión de las ideas principales\n",
    "\n",
    "1. Un vector $\\pmb{v}$ en dos dimensiones tiene dos componentes $v_1$ y $v_2$.\n",
    "* Las operaciones $\\pmb{v}+\\pmb{w}=(v_1+w_1, v_2+w_2)$ y $c\\pmb{v}=(cv_1, cv_2)$ se obtienen un componente a la vez.\n",
    "* Una combinación lineal de tres vectores $\\pmb{u}$, $\\pmb{v}$ y $\\pmb{w}$ es $c\\pmb{u}+d\\pmb{v}+e\\pmb{w}$.\n",
    "* Considere todas las combinaciones lineales de $\\pmb{u}, \\pmb{v}, \\pmb{w}$. En tres dimensiones, estas combinaciones llenan una línea, un plano o todo el espacio.\n",
    "\n",
    "## Referencias\n",
    "\n",
    "- Strang, Gilbert (2009) *Introduction to Linear Algebra*, 4th Edition. Wellesley-Cambridge Press, 2009.\n",
    "\n",
    "- Apostol, Tom M. (2006). *Calculus: Cálculo con funciones de una variable, con una introducción al álgebra lineal*. Vol. 1. Segunda edición. México: Editorial Reverté."
   ]
  }
 ],
 "metadata": {
  "kernelspec": {
   "display_name": "Python 3",
   "language": "python",
   "name": "python3"
  },
  "language_info": {
   "codemirror_mode": {
    "name": "ipython",
    "version": 3
   },
   "file_extension": ".py",
   "mimetype": "text/x-python",
   "name": "python",
   "nbconvert_exporter": "python",
   "pygments_lexer": "ipython3",
   "version": "3.9.1"
  }
 },
 "nbformat": 4,
 "nbformat_minor": 4
}
