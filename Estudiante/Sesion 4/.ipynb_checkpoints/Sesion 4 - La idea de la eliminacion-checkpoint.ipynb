{
 "cells": [
  {
   "cell_type": "markdown",
   "metadata": {},
   "source": [
    "<table>\n",
    "    <tr>\n",
    "        <td><img src=\"./img/Macc.png\" width=\"400\"/></td>\n",
    "        <td>&nbsp;</td>\n",
    "        <td>\n",
    "            <h1 style=\"color:blue;text-align:left\">Álgebra Lineal</h1></td>\n",
    "        <td>\n",
    "            <table><tr>\n",
    "            <tp><p style=\"font-size:150%;text-align:center\">Sesión 4</p></tp>\n",
    "            <tp><p style=\"font-size:150%;text-align:center\">La idea de la eliminación</p></tp>\n",
    "            </tr></table>\n",
    "        </td>\n",
    "    </tr>\n",
    "</table>\n",
    "\n",
    "---"
   ]
  },
  {
   "cell_type": "markdown",
   "metadata": {},
   "source": [
    "## Objetivos\n",
    "\n",
    "1. Comprender la idea general de la solución de los sistemas de ecuaciones lineales mediante el método de eliminación.\n",
    "2. Enlistar los componentes esenciales del método de eliminación.\n",
    "\n",
    "Adaptado de Strang (2009), capítulo 1, sección 2.2.\n",
    "\n",
    "\n",
    "## Ejemplo de eliminación de un sistema 2x2\n",
    "\n",
    "Trabajaremos de nuevo con el siguiente ejemplo:\n",
    "\n",
    "$$\n",
    "\\begin{align*}\n",
    "x &- 2y = &1\\\\  \n",
    "3x &+ 2y = &11\\\\  \n",
    "\\end{align*}\n",
    "$$\n",
    "\n",
    "La operación básica de la eliminación es eliminar incógnitas de una ecuación mediante la sustración de múltipos de otra ecuación. En este ejemplo, al sustraer 3 veces la primera fila de la segunda se obtiene:\n",
    "\n",
    "$$\n",
    "\\begin{align*}\n",
    "x - &2y = &1\\\\  \n",
    " &8y = &8\\\\  \n",
    "\\end{align*}\n",
    "$$"
   ]
  },
  {
   "cell_type": "markdown",
   "metadata": {},
   "source": [
    "**Ejercicio 1:**\n",
    "\n",
    "* Dibuje la imagen fila del sistema inicial.\n",
    "* Dibuje la imagen fila del sistema después de la eliminación.\n",
    "* ¿Qué observa respecto a las líneas en ambos dibujos?"
   ]
  },
  {
   "cell_type": "code",
   "execution_count": 1,
   "metadata": {},
   "outputs": [],
   "source": [
    "from Algebra import *"
   ]
  },
  {
   "cell_type": "markdown",
   "metadata": {},
   "source": [
    "**Ejercicio 2:**\n",
    "\n",
    "Considere el siguiente sistema:\n",
    "\n",
    "$$\n",
    "\\begin{align*}\n",
    "x &- 2y = &1\\\\  \n",
    "3x &- 6y = &11\\\\  \n",
    "\\end{align*}\n",
    "$$\n",
    "\n",
    "* Dibuje la imagen fila.\n",
    "* Dibuje la imagen columna."
   ]
  },
  {
   "cell_type": "markdown",
   "metadata": {},
   "source": [
    "**Ejercicio 3:**\n",
    "\n",
    "Considere el siguiente sistema:\n",
    "\n",
    "$$\n",
    "\\begin{align*}\n",
    "x &- 2y = &1\\\\  \n",
    "3x &- 6y = &3\\\\  \n",
    "\\end{align*}\n",
    "$$\n",
    "\n",
    "* Dibuje la imagen columna."
   ]
  },
  {
   "cell_type": "markdown",
   "metadata": {},
   "source": [
    "**Ejercicio 4:**\n",
    "    \n",
    "Use la imagen columna para comprobar que el siguiente sistema de ecuaciones no tiene solución:\n",
    "\n",
    "$$\n",
    "\\begin{aligned}\n",
    "x &+ y &+ z = &7\\\\  \n",
    "x &+ y &- z = &5\\\\  \n",
    "-x &- y &+ z = &3\\\\  \n",
    "\\end{aligned}\n",
    "$$\n",
    "\n",
    "1. Encuentre los vectores $\\pmb{u}$, $\\pmb{v}$ y $\\pmb{w}$ que corresponden a las columnas del sistema y el vector $\\pmb{b}$ que corresponde al vector del lado derecho de la igualdad.\n",
    "2. Dibuje una gran cantidad de combinaciones lineales de los vectores $\\pmb{u}$, $\\pmb{v}$  y $\\pmb{w}$ usando un objeto `EspacioVectorial3D` y el método `puntos`.\n",
    "3. ¿Cómo se puede describir geométricamente esta colección de combinaciones lineales?\n",
    "4. Ahora incluya en el dibujo el vector $\\pmb{b}$.\n",
    "5. Analice por qué el sistema no tiene solución en términos de la disposición espacial entre las combinaciones lineales de los vectores $\\pmb{u}$, $\\pmb{v}$ y $\\pmb{w}$, por un lado, y el vector $\\pmb{b}$,  por el otro."
   ]
  },
  {
   "cell_type": "markdown",
   "metadata": {},
   "source": [
    "## Ejercicios"
   ]
  },
  {
   "cell_type": "markdown",
   "metadata": {},
   "source": [
    "**Ejercicio 5:**\n",
    "\n",
    "Un sistema de ecuaciones lineales no puede tener exactamente dos soluciones. ¿Por qué?\n",
    "\n",
    "* Si $(x,y,z)$ y $(X,Y,Z)$ son dos soluciones, ¿puede encontrar otra solución?\n",
    "* Si 25 planos se encuentran en dos puntos, ¿dónde más se encuentran?"
   ]
  },
  {
   "cell_type": "markdown",
   "metadata": {},
   "source": [
    "**Ejercicio 6:**\n",
    "\n",
    "Reduzca el siguiente sistema a su forma triangular superior mediante dos operaciones sobre filas. Encuentre $x$, $y$ y $z$ mediante sustitución hacia atrás:\n",
    "\n",
    "$$\n",
    "\\begin{align*}\n",
    "2x + &3y + z &= 8\\\\  \n",
    "4x + &7y + 5z &= 20\\\\  \n",
    "-&2y + 2z &= 0\n",
    "\\end{align*}\n",
    "$$"
   ]
  },
  {
   "cell_type": "markdown",
   "metadata": {},
   "source": [
    "**Ejercicio 7:**\n",
    "\n",
    "¿Qué número $q$ hace que el sistema sea singular (sin solución o infinitas soluciones) y cuál número $t$ permite tener infinitas soluciones? Encuentre la solución cuando $z=1$:\n",
    "\n",
    "$$\n",
    "\\begin{align*}\n",
    "x + &4y - 2z &= 1\\\\  \n",
    "x + &7y - 6z &= 6\\\\  \n",
    "&3y + qz &= t\n",
    "\\end{align*}\n",
    "$$"
   ]
  },
  {
   "cell_type": "markdown",
   "metadata": {},
   "source": [
    "**Ejercicio 8:**\n",
    "\n",
    "¿Para cuáles dos números $a$ falla la eliminación sobre $A=\\begin{bmatrix}\n",
    "a & 2\\\\\n",
    "a & a\n",
    "\\end{bmatrix}$?"
   ]
  },
  {
   "cell_type": "markdown",
   "metadata": {},
   "source": [
    "## Revisión de las ideas principales\n",
    "\n",
    "* Un sistema lineal ($A\\pmb{x}=\\pmb{b}$) se vuelve *triangular superior* ($U\\pmb{x}=\\pmb{b}$) después de hacerle eliminación.\n",
    "\n",
    "* La operación básica para la eliminación es sustraer $\\ell_{ij}$ veces la ecuación $j$ de la ecuación $i$, para que la entrada $(i,j)$ de la matriz se vuelva cero.\n",
    "\n",
    "* El *multiplicador* es $\\ell_{ij}=\\frac{\\mbox{entrada a eliminar en la fila $i$}}{\\mbox{pivote en la fila $j$}}$\n",
    "\n",
    "* Los pivotes  no pueden ser cero.\n",
    "\n",
    "* Un cero en la posición de un pivote puede solucionarse si hay un coeficiente distinto de cero debajo de él.\n",
    "\n",
    "* El sistema triangular superior se resuelve mediante sustitución hacia atrás, comenzando desde abajo.\n",
    "\n",
    "* Cuando la ruptura es permanente, el sistema no tiene solución o tiene infinitas soluciones. \n",
    "\n",
    "\n",
    "## Referencias\n",
    "\n",
    "- Strang, Gilbert (2009) *Introduction to Linear Algebra*, 4th Edition. Wellesley-Cambridge Press, 2009.\n"
   ]
  }
 ],
 "metadata": {
  "kernelspec": {
   "display_name": "Python 3",
   "language": "python",
   "name": "python3"
  },
  "language_info": {
   "codemirror_mode": {
    "name": "ipython",
    "version": 3
   },
   "file_extension": ".py",
   "mimetype": "text/x-python",
   "name": "python",
   "nbconvert_exporter": "python",
   "pygments_lexer": "ipython3",
   "version": "3.9.1"
  }
 },
 "nbformat": 4,
 "nbformat_minor": 4
}
