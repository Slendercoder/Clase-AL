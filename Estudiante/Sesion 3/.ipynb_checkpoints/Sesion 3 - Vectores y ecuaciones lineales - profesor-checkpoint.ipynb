{
 "cells": [
  {
   "cell_type": "markdown",
   "metadata": {},
   "source": [
    "<table>\n",
    "    <tr>\n",
    "        <td><img src=\"./img/Macc.png\" width=\"400\"/></td>\n",
    "        <td>&nbsp;</td>\n",
    "        <td>\n",
    "            <h1 style=\"color:blue;text-align:left\">Álgebra Lineal</h1></td>\n",
    "        <td>\n",
    "            <table><tr>\n",
    "            <tp><p style=\"font-size:150%;text-align:center\">Sesión 3</p></tp>\n",
    "            <tp><p style=\"font-size:150%;text-align:center\">Vectores y ecuaciones lineales</p></tp>\n",
    "            </tr></table>\n",
    "        </td>\n",
    "    </tr>\n",
    "</table>\n",
    "\n",
    "---"
   ]
  },
  {
   "cell_type": "markdown",
   "metadata": {},
   "source": [
    "## Objetivos\n",
    "\n",
    "1. Comprender dos maneras geométricas de entender los sistemas de ecuaciones lineales.\n",
    "2. Asociar un sistema de ecuaciones lineales a una representación matricial.\n",
    "3. Multiplicar una matriz por un vector como un producto punto o como una combinación lineal.\n",
    "\n",
    "Adaptado de Strang (2009), capítulo 1, sección 2.1.\n",
    "\n",
    "\n",
    "## Dos maneras de entender los sistemas de ecuaciones lineales\n",
    "\n",
    "El problema central del Álgebra Lineal es resolver sistemas de ecuaciones. Estos sistemas se llaman lineales porque las incógnitas sólo están multiplicadas por números.\n",
    "\n",
    "Trabajaremos con el siguiente ejemplo:\n",
    "\n",
    "$$\n",
    "\\begin{align*}\n",
    "x &- 2y = &1\\\\  \n",
    "3x &+ 2y = &11\\\\  \n",
    "\\end{align*}\n",
    "$$\n",
    "\n",
    "Mostraremos dos maneras de imaginarnos geométricamente la solución del sistema. Estas son la imagen fila y la imagen columna.\n",
    "\n",
    "### Imagen fila\n",
    "\n",
    "Se llama *imagen fila* cuando consideramos de manera geométrica cada fila del sistema, es decir, cada ecuación. Si tenemos dos incógnitas, cada ecuación define una línea. Con tres incógnitas tenemos un plano. Con más de tres incógnitas tenemos un \"hiperplano\".\n",
    "\n",
    "En nuestro ejemplo, tenemos dos líneas:\n",
    "\n",
    "$$y = \\frac{1}{2}x - \\frac{1}{2}$$\n",
    "\n",
    "y \n",
    "\n",
    "$$y = \\frac{-3}{2}x + \\frac{11}{2}$$\n",
    "\n",
    "La solución del sistema es el punto de intersección entre estas líneas.\n",
    "\n",
    "Podemos usar nuestro objeto `EspacioVectorial2D` para ayudarnos en la visualización."
   ]
  },
  {
   "cell_type": "code",
   "execution_count": 1,
   "metadata": {},
   "outputs": [],
   "source": [
    "from Algebra import *"
   ]
  },
  {
   "cell_type": "code",
   "execution_count": 2,
   "metadata": {},
   "outputs": [
    {
     "data": {
      "image/png": "[encoded data removed]",
      "text/plain": [
       "<Figure size 339.84x480.96 with 1 Axes>"
      ]
     },
     "metadata": {
      "needs_background": "light"
     },
     "output_type": "display_data"
    }
   ],
   "source": [
    "EV = EspacioVectorial2D()\n",
    "# Asignando primera línea\n",
    "for x in [a*0.1 for a in range(50)]:\n",
    "    y = 1/2*x - 1/2\n",
    "    EV.asignar_vector(nombre=str(x)+'v', x=x, y=y, color='blue')\n",
    "# Asignando segunda línea\n",
    "for x in [a*0.1 for a in range(50)]:\n",
    "    y = -3/2*x + 11/2\n",
    "    EV.asignar_vector(nombre=str(x)+'w', x=x, y=y, color='blue')\n",
    "EV.puntos(0.8)    "
   ]
  },
  {
   "cell_type": "markdown",
   "metadata": {},
   "source": [
    "El punto de intersección parece estar en $(3,1)$. Podemos comprobar si este punto está en ambas líneas:\n",
    "\n",
    "$$1 = \\frac{1}{2}3 - \\frac{1}{2}$$\n",
    "\n",
    "¡El punto está en la primera línea!\n",
    "\n",
    "$$1 = -\\frac{3}{2}3 + \\frac{11}{2}$$\n",
    "\n",
    "¡El punto está en la segunda línea!\n"
   ]
  },
  {
   "cell_type": "markdown",
   "metadata": {},
   "source": [
    "### Imagen columna\n",
    "\n",
    "Para ver el sistema en su *imagen columna* debemos escribir el sistema como una combinación lineal de vectores. Repetimos aquí el sistema por conveniencia:\n",
    "\n",
    "\n",
    "$$\n",
    "\\begin{align*}\n",
    "x &- 2y = &1\\\\  \n",
    "3x &+ 2y = &11\\\\  \n",
    "\\end{align*}\n",
    "$$\n",
    "\n",
    "Ahora lo vemos como combinación de vectores columna:\n",
    "\n",
    "$$\n",
    "x\\begin{bmatrix}\n",
    "1\\\\\n",
    "3\n",
    "\\end{bmatrix} + y\\begin{bmatrix}\n",
    "-2\\\\\n",
    "2\n",
    "\\end{bmatrix} = \\begin{bmatrix}\n",
    "1\\\\\n",
    "11\n",
    "\\end{bmatrix} = \\pmb{b}\n",
    "$$\n",
    "\n",
    "La solución es un par de escalares $x$ e $y$ de tal manera que la combinación lineal $x\\begin{bmatrix}\n",
    "1\\\\\n",
    "3\n",
    "\\end{bmatrix} + y\\begin{bmatrix}\n",
    "-2\\\\\n",
    "2\n",
    "\\end{bmatrix}$ sea igual al vector $\\pmb{b}=\\begin{bmatrix}\n",
    "1\\\\\n",
    "11\n",
    "\\end{bmatrix}$."
   ]
  },
  {
   "cell_type": "code",
   "execution_count": 17,
   "metadata": {},
   "outputs": [
    {
     "data": {
      "image/png": "[encoded data removed]",
      "text/plain": [
       "<Figure size 172.8x518.4 with 1 Axes>"
      ]
     },
     "metadata": {
      "needs_background": "light"
     },
     "output_type": "display_data"
    }
   ],
   "source": [
    "EV = EspacioVectorial2D()\n",
    "EV.asignar_vector(nombre='v', x=1, y=3, color='blue')\n",
    "EV.asignar_vector(nombre='w', x=-2, y=2, color='green')\n",
    "EV.asignar_vector(nombre='b', x=1, y=11, color='orange')\n",
    "EV.dibujar(0.6)"
   ]
  },
  {
   "cell_type": "markdown",
   "metadata": {},
   "source": [
    "Ya vimos que sí existe dicha combinación, cuando $x=3$ e $y=1$. Podemos ver de manera visual que $\\pmb{b}$ es la diagonal del paralelogramo formado por $3(1,3)$ y $(-2,2)$:"
   ]
  },
  {
   "cell_type": "code",
   "execution_count": 16,
   "metadata": {},
   "outputs": [
    {
     "data": {
      "image/png": "[encoded data removed]",
      "text/plain": [
       "<Figure size 259.2x518.4 with 1 Axes>"
      ]
     },
     "metadata": {
      "needs_background": "light"
     },
     "output_type": "display_data"
    }
   ],
   "source": [
    "EV = EspacioVectorial2D()\n",
    "EV.asignar_vector(nombre='3v', x=3, y=9, color='blue')\n",
    "EV.asignar_vector(nombre='w', x=-2, y=2, color='green')\n",
    "EV.asignar_vector(nombre='b', x=1, y=11, color='orange')\n",
    "EV.dibujar(0.6)"
   ]
  },
  {
   "cell_type": "markdown",
   "metadata": {},
   "source": [
    "Observe que la diagonal del paralelogramo es la suma de los vectores que forman sus lados. Entonces vemos de manera geométrica que la solución del sistema está dentro de las combinaciones lineales de sus vectores columnas."
   ]
  },
  {
   "cell_type": "markdown",
   "metadata": {},
   "source": [
    "## Ejemplo en 3D\n",
    "\n",
    "Consideremos ahora el siguiente sistema de tres ecuaciones con tres incógnitas:\n",
    "\n",
    "$$\n",
    "\\begin{align*}\n",
    "x &+ 2y &+ 3z = &6\\\\  \n",
    "2x &+ 5y &+ 2z = &4\\\\  \n",
    "6x &- 3y &+ z = &2\\\\  \n",
    "\\end{align*}\n",
    "$$\n",
    "\n",
    "**Imagen fila:**\n",
    "\n",
    "La imágen fila es cuando visualizamos los tres planos correspondientes a las tres ecuaciones. Este no es el punto para ver las ecuaciones de los planos, así que lo haremos de manera sencilla: despejar $z$ en función de $x$ e $y$ y visualizar el plano asignando valores a $x$ e $y$. Al despejar obtenemos las siguientes ecuaciones:\n",
    "\n",
    "$$\n",
    "\\begin{align*}\n",
    "z &= 2 - \\frac{1}{3}x - \\frac{2}{3}y\\\\  \n",
    "z &= 2 - x - \\frac{5}{2}y\\\\  \n",
    "z &= 2 - 6x + 3y\\\\  \n",
    "\\end{align*}\n",
    "$$\n",
    "\n",
    "Los planos se pueden visualizar así:"
   ]
  },
  {
   "cell_type": "code",
   "execution_count": 3,
   "metadata": {},
   "outputs": [
    {
     "data": {
      "image/png": "[encoded data removed]",
      "text/plain": [
       "<Figure size 432x288 with 1 Axes>"
      ]
     },
     "metadata": {
      "needs_background": "light"
     },
     "output_type": "display_data"
    }
   ],
   "source": [
    "EV = EspacioVectorial3D()\n",
    "        \n",
    "# Asignando primer plano\n",
    "for x in [0.1*a for a in range(-10,10)]:\n",
    "    for y in [0.1*a for a in range(-10,10)]:\n",
    "        z = 2 - 1/3*x - 2/3*y\n",
    "        EV.asignar_vector(nombre=str(x)+str(y)+'u', x=x, y=y, z=z)\n",
    "\n",
    "# Asignando segundo plano\n",
    "for x in [0.1*a for a in range(-10,10)]:\n",
    "    for y in [0.1*a for a in range(-10,10)]:\n",
    "        z = 2 - x - 5/2*y\n",
    "        EV.asignar_vector(nombre=str(x)+str(y)+'v', x=x, y=y, z=z)\n",
    "\n",
    "# Asignando tercer plano\n",
    "for x in [0.1*a for a in range(-10,10)]:\n",
    "    for y in [0.1*a for a in range(-10,10)]:\n",
    "        z = 2 - 6*x + 3*y\n",
    "        EV.asignar_vector(nombre=str(x)+str(y)+'w', x=x, y=y, z=z)\n",
    "\n",
    "\n",
    "EV.puntos(elevacion=0, angulo=-10) "
   ]
  },
  {
   "cell_type": "markdown",
   "metadata": {},
   "source": [
    "**Imagen columna:**\n",
    "\n",
    "La imagen columna del sistema\n",
    "$$\n",
    "\\begin{align*}\n",
    "x &+ 2y &+ 3z = &6\\\\  \n",
    "2x &+ 5y &+ 2z = &4\\\\  \n",
    "6x &- 3y &+ z = &2\\\\  \n",
    "\\end{align*}\n",
    "$$\n",
    "\n",
    "se obtiene al ver el sistema como una combinación lineal de tres vectores columna:\n",
    "\n",
    "$$\n",
    "x\\begin{bmatrix}\n",
    "1\\\\\n",
    "2\\\\\n",
    "6\n",
    "\\end{bmatrix} + y\\begin{bmatrix}\n",
    "2\\\\\n",
    "5\\\\\n",
    "-3\n",
    "\\end{bmatrix}  + z\\begin{bmatrix}\n",
    "3\\\\\n",
    "2\\\\\n",
    "1\n",
    "\\end{bmatrix} = \\begin{bmatrix}\n",
    "6\\\\\n",
    "4\\\\\n",
    "2\n",
    "\\end{bmatrix} = \\pmb{b}\n",
    "$$\n",
    "\n",
    "La idea es ver si $\\pmb{b}$ se puede obtener como una combinación lineal de los vectores $\\pmb{u}=(1,2,6)$, $\\pmb{v}=(2,5,-3)$ y $\\pmb{w}=(3,2,1)$.\n",
    "\n",
    "Primero visualizamos los vectores $\\pmb{u}$, $\\pmb{v}$ y $\\pmb{w}$ en el espacio:"
   ]
  },
  {
   "cell_type": "code",
   "execution_count": 4,
   "metadata": {},
   "outputs": [
    {
     "data": {
      "image/png": "[encoded data removed]",
      "text/plain": [
       "<Figure size 432x288 with 1 Axes>"
      ]
     },
     "metadata": {
      "needs_background": "light"
     },
     "output_type": "display_data"
    }
   ],
   "source": [
    "EV = EspacioVectorial3D()\n",
    "EV.asignar_vector(nombre='u', x=1, y=2, z=6)\n",
    "EV.asignar_vector(nombre='v', x=2, y=5, z=-3)\n",
    "EV.asignar_vector(nombre='w', x=3, y=2, z=1)\n",
    "EV.dibujar(elevacion=40, angulo=5)"
   ]
  },
  {
   "cell_type": "markdown",
   "metadata": {},
   "source": [
    "Tomémonos un tiempo para entender cuál vector geométrico corresponde a cuáles coordenadas. \n",
    "\n",
    "Luego incluimos el vector $\\pmb{b}$:"
   ]
  },
  {
   "cell_type": "code",
   "execution_count": 5,
   "metadata": {},
   "outputs": [
    {
     "data": {
      "image/png": "[encoded data removed]",
      "text/plain": [
       "<Figure size 432x288 with 1 Axes>"
      ]
     },
     "metadata": {
      "needs_background": "light"
     },
     "output_type": "display_data"
    }
   ],
   "source": [
    "EV.asignar_vector(nombre='b', x=6, y=4, z=2)\n",
    "EV.dibujar(elevacion=40, angulo=5)"
   ]
  },
  {
   "cell_type": "markdown",
   "metadata": {},
   "source": [
    "Podemos ver que $\\pmb{b}$ es un múltiplo escalar de $\\pmb{w}$. Tampoco es difícil ver que $\\pmb{b}=2\\pmb{w}$. Luego la combinación lineal que nos sirve es $x=0$, $y=0$ y $z=2$."
   ]
  },
  {
   "cell_type": "markdown",
   "metadata": {},
   "source": [
    "**Ejercicio 1:**\n",
    "\n",
    "Describa el siguiente sistema según su imagen columna e intente encontrar visualmente una combinación linean que permita obtener a $\\pmb{b}$:\n",
    "\n",
    "$$\n",
    "\\begin{align*}\n",
    "x &+ 3y &+ 2z = &-3\\\\  \n",
    "2x &+ 2y &+ 2z = &-2\\\\  \n",
    "3x &+ 5y &+ 6z = &-5\\\\  \n",
    "\\end{align*}\n",
    "$$"
   ]
  },
  {
   "cell_type": "markdown",
   "metadata": {},
   "source": [
    "**Ejercicio 2:**\n",
    "\n",
    "El propósito de este ejercicio es usar la imagen fila para visualizar el caso en el que un sistema no tiene solución. El sistema es el siguiente:\n",
    "\n",
    "$$\n",
    "\\begin{align*}\n",
    "x &+ 3y &+ 5z = &4\\\\  \n",
    "x &+ 2y &- 3z = &5\\\\  \n",
    "2x &+ 5y &+ 2z = &8\\\\  \n",
    "\\end{align*}\n",
    "$$\n",
    "\n",
    "1. Encuentre las ecuaciones de los tres planos correspondientes a las tres ecuaciones despejando $z$ en términos de $x$ e $y$.\n",
    "2. Dibuje los tres planos usando un objeto `EspacioVectorial3D`.\n",
    "3. Analice por qué el sistema no tiene solución en términos de la disposición espacial de los tres planos."
   ]
  },
  {
   "cell_type": "markdown",
   "metadata": {},
   "source": [
    "**Ejercicio 3:**\n",
    "\n",
    "El propósito de este ejercicio es usar la imagen *columna* para visualizar el caso en el que un sistema no tiene solución. El sistema es el siguiente:\n",
    "\n",
    "$$\n",
    "\\begin{align*}\n",
    "x &+ 3y &+ 5z = &4\\\\  \n",
    "x &+ 2y &- 3z = &5\\\\  \n",
    "2x &+ 5y &+ 2z = &8\\\\  \n",
    "\\end{align*}\n",
    "$$\n",
    "\n",
    "1. Encuentre los vectores $\\pmb{u}$, $\\pmb{v}$ y $\\pmb{w}$ que corresponden a las columnas del sistema y el vector $\\pmb{b}$ que corresponde al vector del lado derecho de la igualdad.\n",
    "2. Dibuje una gran cantidad de combinaciones lineales de los vectores $\\pmb{u}$, $\\pmb{v}$  y $\\pmb{w}$ usando un objeto `EspacioVectorial3D` y el método `puntos`.\n",
    "3. ¿Cómo se puede describir geométricamente esta colección de combinaciones lineales?\n",
    "4. Ahora incluya en el dibujo el vector $\\pmb{b}$.\n",
    "5. Analice por qué el sistema no tiene solución en términos de la disposición espacial entre las combinaciones lineales de los vectores $\\pmb{u}$, $\\pmb{v}$ y $\\pmb{w}$, por un lado, y el vector $\\pmb{b}$,  por el otro."
   ]
  },
  {
   "cell_type": "markdown",
   "metadata": {},
   "source": [
    "## La forma matricial de los sitemas de ecuaciones\n",
    "\n",
    "Suponga dado el siguiente sistema de ecuaciones:\n",
    "\n",
    "$$\n",
    "\\begin{align*}\n",
    "x &+ 2y &+ 3z = &6\\\\  \n",
    "2x &+ 5y &+ 2z = &4\\\\  \n",
    "6x &- 3y &+ z = &2\\\\  \n",
    "\\end{align*}\n",
    "$$\n",
    "\n",
    "La matriz $A$ de coeficientes es:\n",
    "\n",
    "$$A=\\begin{bmatrix}\n",
    "1 & 2 & 3\\\\\n",
    "2 & 5 & 2\\\\\n",
    "6 & -3 & 1\n",
    "\\end{bmatrix}$$\n",
    "\n",
    "Asumiendo el vector incóginta $\\pmb{x}=\\begin{bmatrix}\n",
    "x\\\\ y\\\\ z\\end{bmatrix}$, podemos representar el sistema de ecuaciones mediante la siguiente ecuación matricial:\n",
    "\n",
    "$$A\\pmb{x}=\\pmb{b}$$\n",
    "\n",
    "Para poder hacer esta representación, es necesario definir la multiplicación de la matriz de coeficientes $A$ por el vector incóginta $\\pmb{x}$. \n",
    "\n",
    "Es posible hacer dos definiciones para esta operación:\n",
    "\n",
    "**Multiplicación por filas:**\n",
    "\n",
    "$$A\\pmb{x}=\\begin{bmatrix}\n",
    "(\\mbox{fila 1})\\cdot\\pmb{c}\\\\\n",
    "(\\mbox{fila 2})\\cdot\\pmb{c}\\\\\n",
    "(\\mbox{fila 3})\\cdot\\pmb{c}\n",
    "\\end{bmatrix}$$\n",
    "\n",
    "El \"$\\cdot$\" en esta definición corresponde al producto punto entre vectores, definido en la sesión anterior.\n",
    "\n",
    "Observe que al hacer la multiplicación $A\\pmb{x}$ se vuelve a obtener el lado izquierdo del sistema original:\n",
    "\n",
    "$$A\\pmb{x}=\\begin{bmatrix}\n",
    "1 & 2 & 3\\\\\n",
    "2 & 5 & 2\\\\\n",
    "6 & -3 & 1\n",
    "\\end{bmatrix}\\begin{bmatrix}\n",
    "x\\\\ y\\\\ z\\end{bmatrix}=\\begin{bmatrix}\n",
    "(1, 2, 3)\\cdot (x, y, z)\\\\\n",
    "(2, 5, 2)\\cdot (x, y, z)\\\\\n",
    "(6, -3, 1)\\cdot (x, y, z)\n",
    "\\end{bmatrix}=\\begin{bmatrix}\n",
    "x+2y+3z\\\\\n",
    "2x+5y+2z\\\\  \n",
    "6x-3y+z\n",
    "\\end{bmatrix}$$"
   ]
  },
  {
   "cell_type": "markdown",
   "metadata": {},
   "source": [
    "**Ejercicio 4:**\n",
    "\n",
    "Suponga que $A=\\begin{bmatrix}\n",
    "1 & 0 & 0\\\\\n",
    "0 & 1 & 0\\\\\n",
    "0 & 0 & 1\n",
    "\\end{bmatrix}$ y que $\\pmb{x}=\\begin{bmatrix}\n",
    "4\\\\ 5\\\\ 6\\end{bmatrix}$. \n",
    "\n",
    "Utilice el método fila para encontrar $A\\pmb{x}$."
   ]
  },
  {
   "cell_type": "markdown",
   "metadata": {},
   "source": [
    "**Ejercicio 5:**\n",
    "\n",
    "* Defina de nuevo la función `prod_punto` para dos vectores.\n",
    "* Defina una función `mult_fila` para multiplicar una matriz por un vector mediante el método de producto punto.\n",
    "* Pruebe su función con el siguiente ejemplo:\n",
    "\n",
    "$A=\\begin{bmatrix}\n",
    "1 & 2 & 4\\\\\n",
    "-2 & 3 & 1\\\\\n",
    "-4 & 1 & 2\n",
    "\\end{bmatrix}$ y $\\pmb{x}=\\begin{bmatrix}\n",
    "2\\\\ 2\\\\ 3\\end{bmatrix}$. Se obtiene $A\\pmb{x}=\\begin{bmatrix}\n",
    "18\\\\ 5\\\\ 17\\end{bmatrix}$."
   ]
  },
  {
   "cell_type": "markdown",
   "metadata": {},
   "source": [
    "**Multiplicación por columnas:**\n",
    "\n",
    "$$A\\pmb{x}=x(\\mbox{columna 1}) + y(\\mbox{columna 2}) + z(\\mbox{columna 3})$$\n",
    "\n",
    "Observe que al hacer la multiplicación $A\\pmb{x}$ mediante el método columna se vuelve a obtener el lado izquierdo del sistema original:\n",
    "\n",
    "$$A\\pmb{x}=\\begin{bmatrix}\n",
    "1 & 2 & 3\\\\\n",
    "2 & 5 & 2\\\\\n",
    "6 & -3 & 1\n",
    "\\end{bmatrix}\\begin{bmatrix}\n",
    "x\\\\ y\\\\ z\\end{bmatrix}=x\\begin{bmatrix}\n",
    "1\\\\ 2\\\\ 6\\end{bmatrix} + y\\begin{bmatrix}\n",
    "2\\\\ 5\\\\ -3\\end{bmatrix} + z\\begin{bmatrix}\n",
    "3\\\\ 2\\\\ 1\\end{bmatrix}=\\begin{bmatrix}\n",
    "x\\\\ 2x\\\\ 6x\\end{bmatrix} + \\begin{bmatrix}\n",
    "2y\\\\ 5y\\\\ -3y\\end{bmatrix} + \\begin{bmatrix}\n",
    "3z\\\\ 2z\\\\ z\\end{bmatrix}=\\begin{bmatrix}\n",
    "x+2y+3z\\\\\n",
    "2x+5y+2z\\\\  \n",
    "6x-3y+z\n",
    "\\end{bmatrix}$$"
   ]
  },
  {
   "cell_type": "markdown",
   "metadata": {},
   "source": [
    "**Ejercicio 6:**\n",
    "\n",
    "Suponga que $A=\\begin{bmatrix}\n",
    "2 & 1 & -1\\\\\n",
    "1 & 2 & 3\\\\\n",
    "3 & 3 & -2\n",
    "\\end{bmatrix}$ y que $\\pmb{x}=\\begin{bmatrix}\n",
    "1\\\\ 1\\\\ 0\\end{bmatrix}$. \n",
    "\n",
    "1. Utilice el método *columna* para encontrar $A\\pmb{x}$.\n",
    "2. Cree una función `mult_columna` y verifique su respuesta."
   ]
  },
  {
   "cell_type": "markdown",
   "metadata": {},
   "source": [
    "## Ejercicios"
   ]
  },
  {
   "cell_type": "markdown",
   "metadata": {},
   "source": [
    "**Ejercicio 7:**\n",
    "\n",
    "Suponga que $A=\\begin{bmatrix}\n",
    "2 & 1 & 0 & 0\\\\\n",
    "1 & 2 & 1 & 0\\\\\n",
    "0 & 1 & 2 & 1\\\\\n",
    "0 & 0 & 1 & 2\n",
    "\\end{bmatrix}$ y que $\\pmb{x}=\\begin{bmatrix}\n",
    "1\\\\ 1\\\\ 1\\\\ 2\\end{bmatrix}$. \n",
    "\n",
    "Utilice el método fila para encontrar $A\\pmb{x}$."
   ]
  },
  {
   "cell_type": "markdown",
   "metadata": {},
   "source": [
    "**Ejercicio 8:**\n",
    "\n",
    "Suponga que $A=\\begin{bmatrix}\n",
    "1 & 2 & 4\\\\\n",
    "-2 & 3 & 1\\\\\n",
    "-4 & 1 & 2\n",
    "\\end{bmatrix}$ y $\\pmb{x}=\\begin{bmatrix}\n",
    "2\\\\ 2\\\\ 3\\end{bmatrix}$. \n",
    "\n",
    "Utilice el método columna para encontrar $A\\pmb{x}$."
   ]
  },
  {
   "cell_type": "markdown",
   "metadata": {},
   "source": [
    "**Ejercicio 9:**\n",
    "\n",
    "Encuentre los dos componentes de $A\\pmb{x}$ por filas o columnas:\n",
    "\n",
    "a) $\n",
    "\\begin{bmatrix}\n",
    "2 & 3\\\\  \n",
    "5 & 1\\\\  \n",
    "\\end{bmatrix}\\begin{bmatrix}\n",
    "4\\\\  \n",
    "4\\\\  \n",
    "\\end{bmatrix}\\qquad$ b) $\n",
    "\\begin{bmatrix}\n",
    "3 & 6\\\\  \n",
    "6 & 12\\\\  \n",
    "\\end{bmatrix}\\begin{bmatrix}\n",
    "2\\\\  \n",
    "-1\\\\  \n",
    "\\end{bmatrix}\\qquad$ c) $\n",
    "\\begin{bmatrix}\n",
    "1 & 2 & 4\\\\  \n",
    "2 & 0 & 1\\\\  \n",
    "\\end{bmatrix}\\begin{bmatrix}\n",
    "3\\\\  \n",
    "1\\\\  \n",
    "1\n",
    "\\end{bmatrix}$"
   ]
  },
  {
   "cell_type": "markdown",
   "metadata": {},
   "source": [
    "**Ejercicio 10:**\n",
    "\n",
    "Multiplique $A\\pmb{x}$ para encontrar sus tres componentes (para el punto (b) puede usar las funciones que creó anteriormente en python):\n",
    "\n",
    "a) $\n",
    "\\begin{bmatrix}\n",
    "0 & 0 & 1\\\\  \n",
    "0 & 1 & 0\\\\  \n",
    "1 & 0 & 0\n",
    "\\end{bmatrix}\\begin{bmatrix}\n",
    "x\\\\  \n",
    "y\\\\\n",
    "z\n",
    "\\end{bmatrix}\\qquad$ b) $\n",
    "\\begin{bmatrix}\n",
    "2 & 1 & 3\\\\  \n",
    "1 & 2 & 3\\\\\n",
    "3 & 3 & 6\n",
    "\\end{bmatrix}\\begin{bmatrix}\n",
    "1\\\\  \n",
    "1\\\\\n",
    "-1\\\\  \n",
    "\\end{bmatrix}\\qquad$ c) $\n",
    "\\begin{bmatrix}\n",
    "2 & 1\\\\  \n",
    "1 & 2\\\\\n",
    "3 & 3\n",
    "\\end{bmatrix}\\begin{bmatrix}\n",
    "1\\\\  \n",
    "1\\\\  \n",
    "\\end{bmatrix}$"
   ]
  },
  {
   "cell_type": "markdown",
   "metadata": {},
   "source": [
    "## Revisión de las ideas principales\n",
    "\n",
    "1. Las operaciones básicas sobre vectores son la multiplicación por escalar $c\\pmb{v}$ y la suma de vectores $\\pmb{v}+\\pmb{w}$.\n",
    "* Estas dos operaciones juntas dan lugar a las combinaciones lineales $c\\pmb{v}+d\\pmb{w}$.\n",
    "* La multiplicación de una matriz por un vector $A\\pmb{x}$ se calcula mediante productors puntos, una fila a la vez. Pero $A\\pmb{x}$ debe entenderse como una combinación lineal de las columnas de $A$.\n",
    "* Imagen columna: $A\\pmb{x}=\\pmb{b}$ pide una combinación de las columnas para producir $\\pmb{b}$.\n",
    "* Imagen fila: Cada ecuación en $A\\pmb{x}=\\pmb{b}$ da una linea ($n=2$) o un plano ($n=3$) o un \"hiperplano\" ($n>3$). Ellos se intersectan en la o las soluciones, si es que existen.\n",
    "\n",
    "\n",
    "## Referencias\n",
    "\n",
    "- Strang, Gilbert (2009) *Introduction to Linear Algebra*, 4th Edition. Wellesley-Cambridge Press, 2009.\n"
   ]
  }
 ],
 "metadata": {
  "kernelspec": {
   "display_name": "Python 3",
   "language": "python",
   "name": "python3"
  },
  "language_info": {
   "codemirror_mode": {
    "name": "ipython",
    "version": 3
   },
   "file_extension": ".py",
   "mimetype": "text/x-python",
   "name": "python",
   "nbconvert_exporter": "python",
   "pygments_lexer": "ipython3",
   "version": "3.9.1"
  }
 },
 "nbformat": 4,
 "nbformat_minor": 4
}
