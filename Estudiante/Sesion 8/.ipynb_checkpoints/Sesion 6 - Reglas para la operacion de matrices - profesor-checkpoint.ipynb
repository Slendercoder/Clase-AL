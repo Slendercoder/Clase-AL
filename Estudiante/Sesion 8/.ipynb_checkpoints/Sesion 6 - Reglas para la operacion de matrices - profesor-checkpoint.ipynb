{
 "cells": [
  {
   "cell_type": "markdown",
   "metadata": {},
   "source": [
    "<table>\n",
    "    <tr>\n",
    "        <td><img src=\"./img/Macc.png\" width=\"400\"/></td>\n",
    "        <td>&nbsp;</td>\n",
    "        <td>\n",
    "            <h1 style=\"color:blue;text-align:left\">Álgebra Lineal</h1></td>\n",
    "        <td>\n",
    "            <table><tr>\n",
    "            <tp><p style=\"font-size:150%;text-align:center\">Sesión 6</p></tp>\n",
    "            <tp><p style=\"font-size:150%;text-align:center\">Reglas para la operacion de matrices</p></tp>\n",
    "            </tr></table>\n",
    "        </td>\n",
    "    </tr>\n",
    "</table>\n",
    "\n",
    "---"
   ]
  },
  {
   "cell_type": "markdown",
   "metadata": {},
   "source": [
    "## Objetivos\n",
    "\n",
    "1. Comprender y calcular la suma entre matrices y la multiplicación por escalar.\n",
    "2. Conocer las propiedades de la suma y la multiplicación por escalar.\n",
    "3. Comprender las reglas de la multiplicación entre matrices y su complejidad computacional.\n",
    "4. Comprender la multiplicación por bloques.\n",
    "\n",
    "Adaptado de Strang (2009), capítulo 2, sección 2.4.\n",
    "\n",
    "\n",
    "## Suma y multiplicación por escalares\n",
    "\n",
    "Al igual que los vectores, las matrices se suman componente a componente:\n",
    "\n",
    "$$\n",
    "\\begin{bmatrix}\n",
    "a_{11} & \\ldots &a_{1n}\\\\  \n",
    "\\vdots &           & \\vdots\\\\\n",
    "a_{m1} & \\ldots &a_{mn}\\\\  \n",
    "\\end{bmatrix} + \\begin{bmatrix}\n",
    "b_{11} & \\ldots &b_{1n}\\\\  \n",
    "\\vdots &           & \\vdots\\\\\n",
    "b_{m1} & \\ldots &b_{mn}\\\\  \n",
    "\\end{bmatrix} = \\begin{bmatrix}\n",
    "a_{11} + b_{11} & \\ldots &a_{1n} + b_{1n}\\\\  \n",
    "\\vdots &           & \\vdots\\\\\n",
    "a_{m1} + b_{m1}& \\ldots &a_{mn} + b_{mn}\\\\  \n",
    "\\end{bmatrix}\n",
    "$$\n",
    "\n",
    "Y la multiplicación por escalar consiste en multiplicar cada elemento de la matriz por el escalar:\n",
    "\n",
    "$$\n",
    "c\\begin{bmatrix}\n",
    "a_{11} & \\ldots & a_{1n}\\\\  \n",
    "\\vdots &           & \\vdots\\\\\n",
    "a_{m1} & \\ldots & a_{mn}\\\\  \n",
    "\\end{bmatrix} = \\begin{bmatrix}\n",
    "ca_{11} & \\ldots & ca_{1n}\\\\  \n",
    "\\vdots &           & \\vdots\\\\\n",
    "ca_{m1} & \\ldots & ca_{mn}\\\\  \n",
    "\\end{bmatrix}\n",
    "$$"
   ]
  },
  {
   "cell_type": "markdown",
   "metadata": {},
   "source": [
    "**Ejercicio 1:**\n",
    "\n",
    "Suponga que\n",
    "\n",
    "$$\n",
    "A = \\begin{bmatrix}\n",
    "1 & 2\\\\  \n",
    "4 & 3\\\\  \n",
    "\\end{bmatrix}\\qquad B = \\begin{bmatrix}\n",
    "3 & 6\\\\  \n",
    "12 & 9\\\\  \n",
    "\\end{bmatrix}\n",
    "$$\n",
    "\n",
    "* Use numpy para encontrar la suma $A+B$.\n",
    "* Multiplique la primera matriz por 2 y la segunda por -1.\n",
    "* ¿Es cierto que A + B = B + A?\n"
   ]
  },
  {
   "cell_type": "markdown",
   "metadata": {},
   "source": [
    "**Respuesta:**\n",
    "\n",
    "Usamos numpy:"
   ]
  },
  {
   "cell_type": "code",
   "execution_count": 7,
   "metadata": {},
   "outputs": [
    {
     "data": {
      "text/plain": [
       "matrix([[ 4,  8],\n",
       "        [16, 12]])"
      ]
     },
     "execution_count": 7,
     "metadata": {},
     "output_type": "execute_result"
    }
   ],
   "source": [
    "import numpy as np\n",
    "\n",
    "A = np.matrix([[1,2], [4,3]])\n",
    "B = np.matrix([[3,6], [12,9]])\n",
    "A+B"
   ]
  },
  {
   "cell_type": "code",
   "execution_count": 8,
   "metadata": {},
   "outputs": [
    {
     "data": {
      "text/plain": [
       "matrix([[2, 4],\n",
       "        [8, 6]])"
      ]
     },
     "execution_count": 8,
     "metadata": {},
     "output_type": "execute_result"
    }
   ],
   "source": [
    "2*A"
   ]
  },
  {
   "cell_type": "code",
   "execution_count": 9,
   "metadata": {},
   "outputs": [
    {
     "data": {
      "text/plain": [
       "matrix([[ -3,  -6],\n",
       "        [-12,  -9]])"
      ]
     },
     "execution_count": 9,
     "metadata": {},
     "output_type": "execute_result"
    }
   ],
   "source": [
    "-1*B"
   ]
  },
  {
   "cell_type": "code",
   "execution_count": 10,
   "metadata": {},
   "outputs": [
    {
     "data": {
      "text/plain": [
       "matrix([[ True,  True],\n",
       "        [ True,  True]])"
      ]
     },
     "execution_count": 10,
     "metadata": {},
     "output_type": "execute_result"
    }
   ],
   "source": [
    "A+B == B+A"
   ]
  },
  {
   "cell_type": "markdown",
   "metadata": {},
   "source": [
    "## Multiplicación de matrices\n",
    "\n",
    "Consideremos dos matrices $A$ y $B$\n",
    "\n",
    "$$\n",
    "A = \\begin{bmatrix}\n",
    "a_{11} & \\ldots &a_{1n}\\\\  \n",
    "\\vdots &           & \\vdots\\\\\n",
    "a_{m1} & \\ldots &a_{mn}\\\\  \n",
    "\\end{bmatrix}\\qquad B= \\begin{bmatrix}\n",
    "b_{11} & \\ldots &b_{1p}\\\\  \n",
    "\\vdots &           & \\vdots\\\\\n",
    "b_{n1} & \\ldots &b_{np}\\\\  \n",
    "\\end{bmatrix}\n",
    "$$\n",
    "\n",
    "La multiplicación se define mediante la fórmula del elemento de $C=AB$ que va en la fila $i$ (con $1\\leq i\\leq m$) y columna $j$ (con $1\\leq j\\leq p$):\n",
    "\n",
    "$$\n",
    "c_{ij} = \\sum_{k=1}^n a_{ik}b_{kj}\n",
    "$$"
   ]
  },
  {
   "cell_type": "markdown",
   "metadata": {},
   "source": [
    "**Ejercicio 2:**\n",
    "\n",
    "Suponga que\n",
    "\n",
    "$$\n",
    "A = \\begin{bmatrix}\n",
    "1 & 2\\\\  \n",
    "4 & 3\\\\  \n",
    "\\end{bmatrix}\\qquad B = \\begin{bmatrix}\n",
    "2 & -1 & 5\\\\  \n",
    "-3 & 1 & 4\\\\  \n",
    "\\end{bmatrix}\n",
    "$$\n",
    "\n",
    "* Use numpy para encontrar el producto $AB$.\n",
    "* ¿Es cierto que AB = BA?"
   ]
  },
  {
   "cell_type": "markdown",
   "metadata": {},
   "source": [
    "**Respuesta:**\n",
    "\n",
    "Usamos numpy:"
   ]
  },
  {
   "cell_type": "code",
   "execution_count": 13,
   "metadata": {},
   "outputs": [
    {
     "data": {
      "text/plain": [
       "matrix([[-4,  1, 13],\n",
       "        [-1, -1, 32]])"
      ]
     },
     "execution_count": 13,
     "metadata": {},
     "output_type": "execute_result"
    }
   ],
   "source": [
    "A = np.matrix([[1,2], [4,3]])\n",
    "B = np.matrix([[2,-1,5], [-3,1,4]])\n",
    "A*B"
   ]
  },
  {
   "cell_type": "code",
   "execution_count": 14,
   "metadata": {},
   "outputs": [
    {
     "ename": "ValueError",
     "evalue": "shapes (2,3) and (2,2) not aligned: 3 (dim 1) != 2 (dim 0)",
     "output_type": "error",
     "traceback": [
      "\u001b[0;31m---------------------------------------------------------------------------\u001b[0m",
      "\u001b[0;31mValueError\u001b[0m                                Traceback (most recent call last)",
      "\u001b[0;32m<ipython-input-14-a181b2c28303>\u001b[0m in \u001b[0;36m<module>\u001b[0;34m\u001b[0m\n\u001b[0;32m----> 1\u001b[0;31m \u001b[0mA\u001b[0m\u001b[0;34m*\u001b[0m\u001b[0mB\u001b[0m \u001b[0;34m==\u001b[0m \u001b[0mB\u001b[0m\u001b[0;34m*\u001b[0m\u001b[0mA\u001b[0m\u001b[0;34m\u001b[0m\u001b[0;34m\u001b[0m\u001b[0m\n\u001b[0m",
      "\u001b[0;32m/usr/local/lib/python3.9/site-packages/numpy/matrixlib/defmatrix.py\u001b[0m in \u001b[0;36m__mul__\u001b[0;34m(self, other)\u001b[0m\n\u001b[1;32m    216\u001b[0m         \u001b[0;32mif\u001b[0m \u001b[0misinstance\u001b[0m\u001b[0;34m(\u001b[0m\u001b[0mother\u001b[0m\u001b[0;34m,\u001b[0m \u001b[0;34m(\u001b[0m\u001b[0mN\u001b[0m\u001b[0;34m.\u001b[0m\u001b[0mndarray\u001b[0m\u001b[0;34m,\u001b[0m \u001b[0mlist\u001b[0m\u001b[0;34m,\u001b[0m \u001b[0mtuple\u001b[0m\u001b[0;34m)\u001b[0m\u001b[0;34m)\u001b[0m \u001b[0;34m:\u001b[0m\u001b[0;34m\u001b[0m\u001b[0;34m\u001b[0m\u001b[0m\n\u001b[1;32m    217\u001b[0m             \u001b[0;31m# This promotes 1-D vectors to row vectors\u001b[0m\u001b[0;34m\u001b[0m\u001b[0;34m\u001b[0m\u001b[0;34m\u001b[0m\u001b[0m\n\u001b[0;32m--> 218\u001b[0;31m             \u001b[0;32mreturn\u001b[0m \u001b[0mN\u001b[0m\u001b[0;34m.\u001b[0m\u001b[0mdot\u001b[0m\u001b[0;34m(\u001b[0m\u001b[0mself\u001b[0m\u001b[0;34m,\u001b[0m \u001b[0masmatrix\u001b[0m\u001b[0;34m(\u001b[0m\u001b[0mother\u001b[0m\u001b[0;34m)\u001b[0m\u001b[0;34m)\u001b[0m\u001b[0;34m\u001b[0m\u001b[0;34m\u001b[0m\u001b[0m\n\u001b[0m\u001b[1;32m    219\u001b[0m         \u001b[0;32mif\u001b[0m \u001b[0misscalar\u001b[0m\u001b[0;34m(\u001b[0m\u001b[0mother\u001b[0m\u001b[0;34m)\u001b[0m \u001b[0;32mor\u001b[0m \u001b[0;32mnot\u001b[0m \u001b[0mhasattr\u001b[0m\u001b[0;34m(\u001b[0m\u001b[0mother\u001b[0m\u001b[0;34m,\u001b[0m \u001b[0;34m'__rmul__'\u001b[0m\u001b[0;34m)\u001b[0m \u001b[0;34m:\u001b[0m\u001b[0;34m\u001b[0m\u001b[0;34m\u001b[0m\u001b[0m\n\u001b[1;32m    220\u001b[0m             \u001b[0;32mreturn\u001b[0m \u001b[0mN\u001b[0m\u001b[0;34m.\u001b[0m\u001b[0mdot\u001b[0m\u001b[0;34m(\u001b[0m\u001b[0mself\u001b[0m\u001b[0;34m,\u001b[0m \u001b[0mother\u001b[0m\u001b[0;34m)\u001b[0m\u001b[0;34m\u001b[0m\u001b[0;34m\u001b[0m\u001b[0m\n",
      "\u001b[0;32m<__array_function__ internals>\u001b[0m in \u001b[0;36mdot\u001b[0;34m(*args, **kwargs)\u001b[0m\n",
      "\u001b[0;31mValueError\u001b[0m: shapes (2,3) and (2,2) not aligned: 3 (dim 1) != 2 (dim 0)"
     ]
    }
   ],
   "source": [
    "A*B == B*A"
   ]
  },
  {
   "cell_type": "markdown",
   "metadata": {},
   "source": [
    "**Ejercicio 3:**\n",
    "\n",
    "Suponga que\n",
    "\n",
    "$$\n",
    "A=\\begin{bmatrix}\n",
    "1 & 0 & 0 & 0 \\\\\n",
    "3 & 2 & 0 & 0 \\\\\n",
    "2 & -1 & 3 & 0 \\\\\n",
    "1 & 3 & 3 & 4 \\\\\n",
    "\\end{bmatrix}\\qquad B = \\begin{bmatrix}\n",
    "1 & 0 & 0 & 0 \\\\\n",
    "2 & 1 & 0 & 0 \\\\\n",
    "1 & 2 & 1 & 0 \\\\\n",
    "2 & 3 & 2 & 4 \\\\\n",
    "\\end{bmatrix}\n",
    "$$\n",
    "\n",
    "* Use numpy para encontrar el producto $AB$.\n"
   ]
  },
  {
   "cell_type": "markdown",
   "metadata": {},
   "source": [
    "**Respuesta:**\n",
    "\n",
    "Usamos numpy:"
   ]
  },
  {
   "cell_type": "code",
   "execution_count": 15,
   "metadata": {},
   "outputs": [
    {
     "data": {
      "text/plain": [
       "matrix([[ 1,  0,  0,  0],\n",
       "        [ 7,  2,  0,  0],\n",
       "        [ 3,  5,  3,  0],\n",
       "        [18, 21, 11, 16]])"
      ]
     },
     "execution_count": 15,
     "metadata": {},
     "output_type": "execute_result"
    }
   ],
   "source": [
    "A = np.matrix([[1,0,0,0], [3,2,0,0], [2,-1,3,0], [1,3,3,4]])\n",
    "B = np.matrix([[1,0,0,0], [2,1,0,0], [1,2,1,0], [2,3,2,4]])\n",
    "A*B"
   ]
  },
  {
   "cell_type": "markdown",
   "metadata": {},
   "source": [
    "**Ejercicio 4:**\n",
    "\n",
    "Suponga que\n",
    "\n",
    "$$\n",
    "A=\\begin{bmatrix}\n",
    "1 & 0 & 0 & 0 \\\\\n",
    "1 & 1 & 0 & 0 \\\\\n",
    "1 & 2 & 1 & 0 \\\\\n",
    "1 & 3 & 3 & 1 \\\\\n",
    "\\end{bmatrix}\\qquad B = \\begin{bmatrix}\n",
    "1\\\\  \n",
    "1\\\\  \n",
    "1\\\\  \n",
    "1\\\\  \n",
    "\\end{bmatrix}\n",
    "$$\n",
    "\n",
    "* Use numpy para encontrar $AB$.\n",
    "* Use numpy para encontrar $AA$.\n",
    "* Use numpy para encontrar $AAB$.\n",
    "\n"
   ]
  },
  {
   "cell_type": "markdown",
   "metadata": {},
   "source": [
    "**Respuesta:**\n",
    "\n",
    "Usamos numpy:"
   ]
  },
  {
   "cell_type": "code",
   "execution_count": 17,
   "metadata": {},
   "outputs": [
    {
     "data": {
      "text/plain": [
       "matrix([[1],\n",
       "        [2],\n",
       "        [4],\n",
       "        [8]])"
      ]
     },
     "execution_count": 17,
     "metadata": {},
     "output_type": "execute_result"
    }
   ],
   "source": [
    "A = np.matrix([[1,0,0,0], [1,1,0,0], [1,2,1,0], [1,3,3,1]])\n",
    "B = np.matrix([[1], [1], [1], [1]])\n",
    "A*B"
   ]
  },
  {
   "cell_type": "code",
   "execution_count": 18,
   "metadata": {},
   "outputs": [
    {
     "data": {
      "text/plain": [
       "matrix([[ 1,  0,  0,  0],\n",
       "        [ 2,  1,  0,  0],\n",
       "        [ 4,  4,  1,  0],\n",
       "        [ 8, 12,  6,  1]])"
      ]
     },
     "execution_count": 18,
     "metadata": {},
     "output_type": "execute_result"
    }
   ],
   "source": [
    "A*A"
   ]
  },
  {
   "cell_type": "code",
   "execution_count": 19,
   "metadata": {},
   "outputs": [
    {
     "data": {
      "text/plain": [
       "matrix([[ 1],\n",
       "        [ 3],\n",
       "        [ 9],\n",
       "        [27]])"
      ]
     },
     "execution_count": 19,
     "metadata": {},
     "output_type": "execute_result"
    }
   ],
   "source": [
    "A*A*B"
   ]
  },
  {
   "cell_type": "markdown",
   "metadata": {},
   "source": [
    "## Ejercicios"
   ]
  },
  {
   "cell_type": "markdown",
   "metadata": {},
   "source": [
    "**Ejercicio 5:**\n",
    "\n",
    "Suponga las siguientes matrices cuyos elementos son solo 1s: \n",
    "\n",
    "* $A$ es de dimensiones $3\\times 5$\n",
    "* $B$ es de dimensiones $5\\times 3$\n",
    "* $C$ es de dimensiones $5\\times 1$\n",
    "* $D$ es de dimensiones $3\\times 1$\n",
    "\n",
    "¿Cuáles de las siguientes operaciones son permitidas?:\n",
    "\n",
    "* $BA$\n",
    "* $AB$\n",
    "* $ABD$\n",
    "* $DBA$\n",
    "* $A(B + C)$\n"
   ]
  },
  {
   "cell_type": "markdown",
   "metadata": {},
   "source": [
    "**Ejercicio 6:**\n",
    "\n",
    "Suponga que\n",
    "\n",
    "$$\n",
    "A = \\begin{bmatrix}\n",
    "1 & 5\\\\\n",
    "2 & 3\\\\\n",
    "\\end{bmatrix}\\qquad B = \\begin{bmatrix}\n",
    "0 & 2\\\\\n",
    "0 & 1\\\\\n",
    "\\end{bmatrix}\\qquad y B = \\begin{bmatrix}\n",
    "3 & 1\\\\\n",
    "0 & 0\\\\\n",
    "\\end{bmatrix}\n",
    "$$\n",
    "\n",
    "* Encuentre $AB + AC$ y compare el resultado con $A(B+C)$\n",
    "* Encuentre $(AB)C$ y compare el resultado con $A(BC)$"
   ]
  },
  {
   "cell_type": "markdown",
   "metadata": {},
   "source": [
    "**Ejercicio 7:**\n",
    "\n",
    "Verdadero o falso (de un contraejemplo cuando sea falso):\n",
    "\n",
    "* Si las columnas 1 y 3 de $B$ son las mismas, entonces las columnas 1 y 3 de $AB$ son las mismas.\n",
    "\n",
    "* Si las filas 1 y 3 de $B$ son las mismas, también es cierto que las filas 1 y 3 de $AB$ son las mismas.\n",
    "\n",
    "* Si las filas 1 y 3 de $A$ son las mismas, también es cierto que las filas 1 y 3 de $AB$ son las mismas.\n",
    "\n",
    "* $(AB)^2=A^2B^2$"
   ]
  },
  {
   "cell_type": "markdown",
   "metadata": {},
   "source": [
    "**Ejercicio 8:**\n",
    "\n",
    "Mediante prueba y error encuentre matrices $2\\times 2$ reales distintas de 0 tales que :\n",
    "\n",
    "* $A^2=-I$\n",
    "* $BC=0$\n",
    "* $DE=-ED$ (sin que $DE=0$)."
   ]
  },
  {
   "cell_type": "markdown",
   "metadata": {},
   "source": [
    "## Revisión de las ideas principales\n",
    "\n",
    "* El elemento $(i,j)$ de $AB$ es (fila $i$ de $A$)$\\cdot$(columna $j$ de $B$).\n",
    "\n",
    "* La multiplicación de una matriz $m\\times n$ por una matrix $n\\times p$ requiere $mnp$ multiplicaciones.\n",
    "\n",
    "* Súper importante: $A(BC)=(AB)C$.\n",
    "\n",
    "* $AB$ es también la suma de las matrices dadas por (columna $j$ de $A$)$\\cdot$(fila $j$ de $B$).\n",
    "\n",
    "* La multiplicación por bloques está permitida cuando las dimensiones de los bloques encajan correctamente.\n",
    "\n",
    "* La eliminación de bloques produce el *complemento de Schur* $D-CA^{-1}B$. \n",
    "\n",
    "\n",
    "## Referencias\n",
    "\n",
    "- Strang, Gilbert (2009) *Introduction to Linear Algebra*, 4th Edition. Wellesley-Cambridge Press, 2009.\n"
   ]
  }
 ],
 "metadata": {
  "kernelspec": {
   "display_name": "Python 3",
   "language": "python",
   "name": "python3"
  },
  "language_info": {
   "codemirror_mode": {
    "name": "ipython",
    "version": 3
   },
   "file_extension": ".py",
   "mimetype": "text/x-python",
   "name": "python",
   "nbconvert_exporter": "python",
   "pygments_lexer": "ipython3",
   "version": "3.9.1"
  }
 },
 "nbformat": 4,
 "nbformat_minor": 4
}
