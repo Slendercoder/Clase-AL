{
 "cells": [
  {
   "cell_type": "markdown",
   "metadata": {},
   "source": [
    "<table>\n",
    "    <tr>\n",
    "        <td><img src=\"./img/Macc.png\" width=\"400\"/></td>\n",
    "        <td>&nbsp;</td>\n",
    "        <td>\n",
    "            <h1 style=\"color:blue;text-align:left\">Álgebra Lineal</h1></td>\n",
    "        <td>\n",
    "            <table><tr>\n",
    "            <tp><p style=\"font-size:150%;text-align:center\">Sesión 12</p></tp>\n",
    "            <tp><p style=\"font-size:150%;text-align:center\">El espacio nulo</p></tp>\n",
    "            </tr></table>\n",
    "        </td>\n",
    "    </tr>\n",
    "</table>\n",
    "\n",
    "---"
   ]
  },
  {
   "cell_type": "markdown",
   "metadata": {},
   "source": [
    "## Objetivos\n",
    "\n",
    "1. Comprender el concepto de espacio nulo de un sistema lineal.\n",
    "2. Representar el espacio nulo como el espacio generado por las soluciones especiales.\n",
    "3. Comprender el concepto de matriz escalonada reducida.\n",
    "4. Reducir una matriz a una matriz escalonada reducida para encontrar las soluciones especiales.\n",
    "\n",
    "Adaptado de Strang (2009), capítulo 3, sección 3.2.\n",
    "\n",
    "\n",
    "## El espacio nulo\n",
    "\n",
    "El \\textbf{espacio nulo} de una matriz $A$, $\\textbf{N}(A)$, son todas las soluciones $\\pmb{x}$ del sistema $A\\pmb{x}=\\pmb{0}$:\n",
    "\n",
    "$$\n",
    "\\textbf{N}(A)=\\{\\pmb{x}{:}\\, A\\pmb{x}=\\pmb{0}\\}\n",
    "$$"
   ]
  },
  {
   "cell_type": "markdown",
   "metadata": {},
   "source": [
    "**Ejemplo 1:**\n",
    "\n",
    "¿Cuál es el espacio nulo de $A=\\begin{bmatrix}\n",
    "1 & 2\\\\\n",
    "3 & 6\n",
    "\\end{bmatrix}$?\n",
    "\n",
    "Son todos los vectores $\\pmb{x}$ tales que $A\\pmb{x}=\\pmb{0}$. Observe que en esta matriz la segunda fila es tres veces la primera, es decir, el sistema es simplemente $x+2y=0$. La colección de vectores que satisfacen esta ecuación es una linea. Observe que $x+2y=0$ puede escribirse como $x=-2y$. Tenemos una variable libre: $y$.\n",
    "\n",
    "* Hacemos $y=1$, obteniendo $s=\\begin{bmatrix}-2\\\\ 1\\end{bmatrix}$.\n",
    "\n",
    "El espacio nulo es el espacio generado por la solución especial $\\{s\\}$.\n"
   ]
  },
  {
   "cell_type": "code",
   "execution_count": 1,
   "metadata": {},
   "outputs": [],
   "source": [
    "from Algebra import *"
   ]
  },
  {
   "cell_type": "code",
   "execution_count": 2,
   "metadata": {},
   "outputs": [
    {
     "data": {
      "image/png": "[encoded data removed]",
      "text/plain": [
       "<Figure size 216x144 with 1 Axes>"
      ]
     },
     "metadata": {
      "needs_background": "light"
     },
     "output_type": "display_data"
    }
   ],
   "source": [
    "EV = EspacioVectorial2D()\n",
    "EV.asignar_vector(nombre='s', x=-2, y=1)\n",
    "EV.dibujar()"
   ]
  },
  {
   "cell_type": "code",
   "execution_count": 3,
   "metadata": {},
   "outputs": [
    {
     "data": {
      "image/png": "[encoded data removed]",
      "text/plain": [
       "<Figure size 360x216 with 1 Axes>"
      ]
     },
     "metadata": {
      "needs_background": "light"
     },
     "output_type": "display_data"
    }
   ],
   "source": [
    "s = EV.coordenadas('s')\n",
    "for c in [0.1*i for i in range(-10,10)]:\n",
    "    nombre = str(c)+'comb'\n",
    "    comb = c*s\n",
    "    x = comb[0]\n",
    "    y = comb[1]\n",
    "    EV.asignar_vector(nombre=nombre, x=x, y=y)\n",
    "\n",
    "EV.puntos()"
   ]
  },
  {
   "cell_type": "markdown",
   "metadata": {},
   "source": [
    "**Ejemplo 2:**\n",
    "\n",
    "¿Cuál es el espacio nulo de $A=\\begin{bmatrix}\n",
    "1 & 2 & 3\n",
    "\\end{bmatrix}$?\n",
    "\n",
    "Son todos los vectores $\\pmb{x}$ tales que $A\\pmb{x}=\\pmb{0}$, es decir, tales que $x+2y+3z=0$. La colección de estos vectores es un plano. Observe que $x+2y+3z=0$ puede escribirse como $x=-2y-3z$. Tenemos dos variables libres: $y$ y $z$.\n",
    "\n",
    "* Hacemos $y=1$ y $z=0$, obteniendo $s_1=\\begin{bmatrix}-2\\\\1\\\\0\\end{bmatrix}$.\n",
    "* Hacemos $y=0$ y $z=1$, obteniendo $s_2=\\begin{bmatrix}-3\\\\0\\\\1\\end{bmatrix}$.\n",
    "\n",
    "El espacio nulo es el espacio generado por las soluciones especiales $\\{s_1, s_2\\}$.\n"
   ]
  },
  {
   "cell_type": "code",
   "execution_count": 18,
   "metadata": {},
   "outputs": [
    {
     "data": {
      "image/png": "[encoded data removed]",
      "text/plain": [
       "<Figure size 432x288 with 1 Axes>"
      ]
     },
     "metadata": {
      "needs_background": "light"
     },
     "output_type": "display_data"
    }
   ],
   "source": [
    "EV = EspacioVectorial3D()\n",
    "EV.asignar_vector(nombre='s1', x=-2, y=1, z=0, color='orange')\n",
    "EV.asignar_vector(nombre='s2', x=-3, y=0, z=1, color='red')\n",
    "EV.dibujar(elevacion=0, angulo=90)"
   ]
  },
  {
   "cell_type": "code",
   "execution_count": 19,
   "metadata": {},
   "outputs": [],
   "source": [
    "s1 = EV.coordenadas('s1')\n",
    "s2 = EV.coordenadas('s2')\n",
    "for c in [0.1*i for i in range(-10,10)]:\n",
    "    for d in [0.1*i for i in range(-10,10)]:\n",
    "        nombre = 'comb'+str(c)+';'+str(d)\n",
    "        comb = c*s1 + d*s2\n",
    "        x = comb[0]\n",
    "        y = comb[1]\n",
    "        z = comb[2]\n",
    "        EV.asignar_vector(nombre=nombre, x=x, y=y, z=z)"
   ]
  },
  {
   "cell_type": "code",
   "execution_count": 20,
   "metadata": {},
   "outputs": [
    {
     "data": {
      "image/png": "[encoded data removed]",
      "text/plain": [
       "<Figure size 432x288 with 1 Axes>"
      ]
     },
     "metadata": {
      "needs_background": "light"
     },
     "output_type": "display_data"
    }
   ],
   "source": [
    "EV.vectores_puntos(elevacion=0, angulo=90, num_vectores=2)"
   ]
  },
  {
   "cell_type": "markdown",
   "metadata": {},
   "source": [
    "## Matriz escalonada reducida para encontrar soluciones especiales"
   ]
  },
  {
   "cell_type": "markdown",
   "metadata": {},
   "source": [
    "**Ejemplo 3:**\n",
    "\n",
    "Para la siguiente matriz:\n",
    "\n",
    "$A=\\begin{bmatrix}\n",
    "1 & 2 & 2 & 4 & 6\\\\\n",
    "1 & 2 & 3 & 6 & 9\\\\\n",
    "0 & 0 & 1 & 2 & 3\\\\\n",
    "\\end{bmatrix}$\n",
    "\n",
    "* Encuentre la matriz escalonada reducida.\n",
    "* Encuentre todas las soluciones especiales.\n",
    "\n",
    "\n",
    "Usamos numpy para reducir la matriz $A$:"
   ]
  },
  {
   "cell_type": "code",
   "execution_count": 1,
   "metadata": {},
   "outputs": [],
   "source": [
    "import numpy as np"
   ]
  },
  {
   "cell_type": "code",
   "execution_count": 2,
   "metadata": {},
   "outputs": [
    {
     "data": {
      "text/plain": [
       "matrix([[1, 2, 2, 4, 6],\n",
       "        [1, 2, 3, 6, 9],\n",
       "        [0, 0, 1, 2, 3]])"
      ]
     },
     "execution_count": 2,
     "metadata": {},
     "output_type": "execute_result"
    }
   ],
   "source": [
    "A = np.matrix([[1,2,2,4,6], [1,2,3,6,9], [0,0,1,2,3]])\n",
    "A"
   ]
  },
  {
   "cell_type": "code",
   "execution_count": 16,
   "metadata": {},
   "outputs": [
    {
     "data": {
      "text/plain": [
       "matrix([[1, 2, 0, 0, 0],\n",
       "        [0, 0, 1, 2, 3],\n",
       "        [0, 0, 0, 0, 0]])"
      ]
     },
     "execution_count": 16,
     "metadata": {},
     "output_type": "execute_result"
    }
   ],
   "source": [
    "E1 = np.matrix([[1,0,0], [-1,1,0], [0,0,1]])\n",
    "E2 = np.matrix([[1,0,0], [0,1,0], [0,-1,1]])\n",
    "E3 = np.matrix([[1,-2,0], [0,1,0], [0,0,1]])\n",
    "E3*E2*E1*A"
   ]
  },
  {
   "cell_type": "markdown",
   "metadata": {},
   "source": [
    "Las variables libres son $x_2$, $x_4$ y $x_5$. Entonces tenemos tres soluciones especiales:\n",
    "\n",
    "* Hacemos $x_2=1$, $x_4=0$ y $x_5=0$, obteniendo $s_1=\\begin{bmatrix}-2\\\\1\\\\0\\\\0\\\\0\\end{bmatrix}$.\n",
    "* Hacemos $x_2=0$, $x_4=1$ y $x_5=0$, obteniendo $s_2=\\begin{bmatrix}0\\\\0\\\\-2\\\\1\\\\0\\end{bmatrix}$.\n",
    "* Hacemos $x_2=0$, $x_4=0$ y $x_5=1$, obteniendo $s_3=\\begin{bmatrix}0\\\\0\\\\-3\\\\0\\\\1\\end{bmatrix}$."
   ]
  },
  {
   "cell_type": "markdown",
   "metadata": {},
   "source": [
    "## Ejercicios"
   ]
  },
  {
   "cell_type": "markdown",
   "metadata": {},
   "source": [
    "**Ejercicio 1:**\n",
    "\n",
    "Describa y dibuje el espacio nulo de la siguiente matriz:\n",
    "\n",
    "$U=\\begin{bmatrix}\n",
    "1 & 5 & 7\\\\\n",
    "0 & 0 & 9 \n",
    "\\end{bmatrix}$"
   ]
  },
  {
   "cell_type": "markdown",
   "metadata": {},
   "source": [
    "**Ejercicio 2:**\n",
    "\n",
    "Describa y dibuje el espacio nulo de la siguiente matriz:\n",
    "\n",
    "$\\begin{bmatrix}\n",
    "-1 & 3 & 5\\\\\n",
    "-2 & 6 & 10\\\\\n",
    "\\end{bmatrix}$\n"
   ]
  },
  {
   "cell_type": "markdown",
   "metadata": {},
   "source": [
    "**Ejercicio 3:**\n",
    "\n",
    "Describa y dibuje el espacio nulo de la siguiente matriz:\n",
    "\n",
    "$\\begin{bmatrix}\n",
    "-1 & 3 & 5\\\\\n",
    "-2 & 6 & 7\\\\\n",
    "\\end{bmatrix}$\n"
   ]
  },
  {
   "cell_type": "markdown",
   "metadata": {},
   "source": [
    "**Ejercicio 4:**\n",
    "\n",
    "Describa y dibuje el espacio nulo de la siguiente matriz:\n",
    "\n",
    "$\\begin{bmatrix}\n",
    "2 & 4 & 2\\\\\n",
    "0 & 4 & 4\\\\\n",
    "0 & 8 & 8\\\\\n",
    "\\end{bmatrix}$"
   ]
  },
  {
   "cell_type": "markdown",
   "metadata": {},
   "source": [
    "**Ejercicio 5:**\n",
    "\n",
    "Ojee los ejercicios correspondientes a la sesión 12 descritos en la guía de asignatura. Resuelva tres de los ejercicios propuestos."
   ]
  },
  {
   "cell_type": "markdown",
   "metadata": {},
   "source": [
    "## Revisión de las ideas principales\n",
    "\n",
    "* El espacio nulo $\\textbf{N}(A)$ es un subespacio de $\\mathbb{R}^n$. Contiene todas las soluciones de $A\\pmb{x}=\\pmb{0}$.\n",
    "* El método de eliminación produce una matriz escalonada $U$, luego una matriz reducida $R$, con columnas pivote y (posiblemente pero no siempre) columnas libres.\n",
    "* Cada columna libre de $R$ produce una solución especial. Una variable libre se iguala a 1 y las demás a 0 y la sustitución hacia atrás en $R\\pmb{x}=\\pmb{0}$ permite encontrar la solución especial.\n",
    "* La solución completa de $A\\pmb{x}=\\pmb{0}$ es la colección de todas las combinaciones de las soluciones especiales.\n",
    "* Si $n>m$, entonces $A$ tiene por lo menos una columna sin pivotes, produciendo una solución especial. Así que hay vectores no nulos en el espacio nulo de esta matriz rectangular $A$.\n",
    "\n",
    "\n",
    "\n",
    "## Referencias\n",
    "\n",
    "- Strang, Gilbert (2009) *Introduction to Linear Algebra*, 4th Edition. Wellesley-Cambridge Press, 2009.\n"
   ]
  }
 ],
 "metadata": {
  "kernelspec": {
   "display_name": "Python 3",
   "language": "python",
   "name": "python3"
  },
  "language_info": {
   "codemirror_mode": {
    "name": "ipython",
    "version": 3
   },
   "file_extension": ".py",
   "mimetype": "text/x-python",
   "name": "python",
   "nbconvert_exporter": "python",
   "pygments_lexer": "ipython3",
   "version": "3.9.1"
  }
 },
 "nbformat": 4,
 "nbformat_minor": 4
}
